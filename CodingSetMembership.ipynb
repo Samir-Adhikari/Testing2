{
 "cells": [
  {
   "cell_type": "markdown",
   "id": "b00da59f",
   "metadata": {},
   "source": [
    "# Set Membership Coursework"
   ]
  },
  {
   "cell_type": "code",
   "execution_count": 71,
   "id": "fb108ffa",
   "metadata": {},
   "outputs": [],
   "source": [
    "import random\n",
    "import string\n",
    "import timeit\n",
    "from bitarray import bitarray"
   ]
  },
  {
   "cell_type": "markdown",
   "id": "f9b1bd12",
   "metadata": {},
   "source": [
    "## 1. Implementeation"
   ]
  },
  {
   "cell_type": "markdown",
   "id": "7479a715",
   "metadata": {},
   "source": [
    "### Sequential Search "
   ]
  },
  {
   "cell_type": "code",
   "execution_count": 72,
   "id": "a191de21",
   "metadata": {},
   "outputs": [],
   "source": [
    "class SequentialSearchSet():\n",
    "    \n",
    "    def __init__(self):\n",
    "        self.items = []           \n",
    "        \n",
    "    def insertElement(self, element):\n",
    "        inserted = False\n",
    "        if type(element) == str:\n",
    "            self.items.append(element)\n",
    "            inserted = True\n",
    "        return inserted   \n",
    "\n",
    "    def searchElement(self, element):\n",
    "        found = False     \n",
    "        for item1 in self.items:\n",
    "            if item1 == element:\n",
    "                found = True\n",
    "                return found\n",
    "        return found   "
   ]
  },
  {
   "cell_type": "markdown",
   "id": "0a78f7ac",
   "metadata": {},
   "source": [
    "Time Complexity: \n",
    "- Insert an element is O(n^2)\n",
    "- Search an element is O(n)\n",
    "\n",
    "Space Complexity: \n",
    "- O(n)"
   ]
  },
  {
   "cell_type": "markdown",
   "id": "5b2faf0e",
   "metadata": {},
   "source": [
    "### Binary Search Tree"
   ]
  },
  {
   "cell_type": "code",
   "execution_count": 73,
   "id": "ea9826d3",
   "metadata": {},
   "outputs": [],
   "source": [
    "class RecursiveNode:\n",
    "    \n",
    "    def __init__(self, value):\n",
    "        self.value = value\n",
    "        self.left = None\n",
    "        self.right = None\n",
    "\n",
    "    def get(self, element):\n",
    "        if self.value == element:\n",
    "            return True\n",
    "        elif element < self.value and self.left:\n",
    "            return self.left.get(element)\n",
    "        elif element > self.value and self.right:\n",
    "            return self.right.get(element)\n",
    "        return False\n",
    "\n",
    "    def put(self, element):\n",
    "        if self.value == None:\n",
    "            self.value = element\n",
    "            return True\n",
    "        elif element == self.value:\n",
    "            self.value = element\n",
    "            return True\n",
    "        elif element < self.value:\n",
    "            if self.left is None:\n",
    "                self.left = RecursiveNode(element)\n",
    "                return True\n",
    "            else: \n",
    "                return self.left.put(element)\n",
    "        elif element > self.value:\n",
    "            if self.right is None:\n",
    "                self.right = RecursiveNode(element)\n",
    "                return True\n",
    "            else: \n",
    "                return self.right.put(element)\n",
    "        return False\n",
    "\n",
    "class IterativeNode:\n",
    "    \n",
    "    def __init__(self, value):\n",
    "        self.value = value\n",
    "        self.left = None\n",
    "        self.right = None\n",
    "\n",
    "    def get(self, element):\n",
    "        current = self\n",
    "        while current is not None:\n",
    "            if current.value == element:\n",
    "                return True\n",
    "            elif element < current.value:\n",
    "                current = current.left\n",
    "            elif element > current.value:\n",
    "                current = current.right\n",
    "            else:\n",
    "                print(\"Invalid Case\")\n",
    "        return False\n",
    "\n",
    "\n",
    "    def put(self, element):\n",
    "        if self.value == None:\n",
    "            self.value = element\n",
    "            return True\n",
    "        \n",
    "        current = self\n",
    "        while current is not None:\n",
    "            if element < current.value:\n",
    "                if current.left is None:\n",
    "                    current.left = IterativeNode(element)\n",
    "                    return True\n",
    "                else:\n",
    "                    current = current.left\n",
    "\n",
    "            elif element > current.value:\n",
    "                if current.right is None:\n",
    "                    current.right = IterativeNode(element)\n",
    "                    return True\n",
    "                else:\n",
    "                    current = current.right\n",
    "\n",
    "            elif element == current.value:\n",
    "                current.value = element\n",
    "                return True\n",
    "            \n",
    "            else:\n",
    "                print(\"Invalid Case\")\n",
    "\n",
    "\n",
    "class BinarySearchTreeSet:\n",
    "    \n",
    "    def __init__(self):\n",
    "        self.bst = IterativeNode(None)\n",
    "\n",
    "    def insertElement(self, element):\n",
    "        inserted = False\n",
    "        inserted = self.bst.put(element) \n",
    "        return inserted\n",
    "\n",
    "    def searchElement(self, element):     \n",
    "        found = False \n",
    "        found = self.bst.get(element)\n",
    "        return found"
   ]
  },
  {
   "cell_type": "markdown",
   "id": "2c0142e5",
   "metadata": {},
   "source": [
    "Time Complexity:\n",
    "\n",
    "Insert: \n",
    "- Average: O(log n)\n",
    "- Worst: O(n)\n",
    "\n",
    "Search:\n",
    "- Average: O(log n)\n",
    "- Worst: O(n)\n",
    "\n",
    "Space Complexity:\n",
    "- O(n)"
   ]
  },
  {
   "cell_type": "markdown",
   "id": "d255329f",
   "metadata": {},
   "source": [
    "### Balanced Search Tree"
   ]
  },
  {
   "cell_type": "code",
   "execution_count": 74,
   "id": "fd4eb6cf",
   "metadata": {},
   "outputs": [],
   "source": [
    "class BalancedSearchTreeSet:\n",
    "    R = True\n",
    "    B = False\n",
    "    # R refers to Red; B refers to Black\n",
    "    \n",
    "    class Nodes:\n",
    "        def __init__(self, val, colour):\n",
    "            self.val = val\n",
    "            self.colour = colour\n",
    "            self.left = None\n",
    "            self.right = None\n",
    "            \n",
    "    def __init__(self):\n",
    "        self.root = None\n",
    "        \n",
    "    def searchElement(self, element):\n",
    "        found = False\n",
    "        found = self.search(self.root, element)\n",
    "        return found\n",
    "    \n",
    "    def search(self, node, val):\n",
    "        if node is None:\n",
    "            return False\n",
    "        else:\n",
    "            if node.val == val:\n",
    "                return True\n",
    "            elif node.val > val:\n",
    "                return self.search(node.left, val)\n",
    "            else:\n",
    "                return self.search(node.right, val)\n",
    "    \n",
    "    def insertElement(self, element):\n",
    "        inserted = False\n",
    "        if self.root is None:\n",
    "            self.root = self.Nodes(element, self.B)\n",
    "            inserted = True\n",
    "        else:\n",
    "            self.root, inserted = self.insert(self.root, element)\n",
    "            self.root.colour = self.B\n",
    "        return inserted\n",
    "\n",
    "    def insert(self, node, val):\n",
    "        if node is None:\n",
    "            return self.Nodes(val, self.R), True\n",
    "        if val < node.val:\n",
    "            node.left, inserted = self.insert(node.left, val)\n",
    "        elif val > node.val:\n",
    "            node.right, inserted = self.insert(node.right, val)\n",
    "        else:\n",
    "            # value already exists, do nothing\n",
    "            return node, False\n",
    "\n",
    "        # perform rotations and colour flips\n",
    "        if self.isR(node.right) and not self.isR(node.left):\n",
    "            node = self.leftRotate(node)\n",
    "        if self.isR(node.left) and self.isR(node.left.left):\n",
    "            node = self.rightRotate(node)\n",
    "        if self.isR(node.left) and self.isR(node.right):\n",
    "            self.flipColour(node)\n",
    "\n",
    "        return node, inserted\n",
    "\n",
    "    def isR(self, node):\n",
    "        if node is None:\n",
    "            return False\n",
    "        return node.colour == self.R\n",
    "    \n",
    "    def leftRotate(self, node):\n",
    "        x = node.right\n",
    "        node.right = x.left\n",
    "        x.left = node\n",
    "        x.colour = node.colour\n",
    "        node.colour = self.R\n",
    "        return x\n",
    "    \n",
    "    def rightRotate(self, node):\n",
    "        x = node.left\n",
    "        node.left = x.right\n",
    "        x.right = node\n",
    "        x.colour = node.colour\n",
    "        node.colour = self.R\n",
    "        return x\n",
    "    \n",
    "    def flipColour(self, node):\n",
    "        node.colour = not node.colour\n",
    "        node.left.colour = self.B\n",
    "        node.right.colour = self.B"
   ]
  },
  {
   "cell_type": "markdown",
   "id": "6b624636",
   "metadata": {},
   "source": [
    "Time Complexity: \n",
    "\n",
    "- Insert an element is O(log n)\n",
    "- Search an element is O(log n)\n",
    "\n",
    "Space Complexity: \n",
    "\n",
    "- O(n)"
   ]
  },
  {
   "cell_type": "markdown",
   "id": "8d707375",
   "metadata": {},
   "source": [
    "### 2-3 Search Tree"
   ]
  },
  {
   "cell_type": "code",
   "execution_count": 75,
   "id": "41f6f73f",
   "metadata": {},
   "outputs": [],
   "source": [
    "class Node2:\n",
    "    def __init__(self, values, parent = None):\n",
    "        self.values = [values]\n",
    "        self.parent = parent\n",
    "        self.child = []\n",
    "    \n",
    "    def is_leaf(self):\n",
    "        return len(self.child) == 0\n",
    "    \n",
    "    def __lt__(self, other):\n",
    "        return self.values[0] < other.values[0]\n",
    "    \n",
    "    def add(self, new_node):\n",
    "        for child in new_node.child:\n",
    "            child.parent = self\n",
    "        self.values.extend(new_node.values)\n",
    "        self.values.sort()\n",
    "        self.child.extend(new_node.child)\n",
    "        if len(self.child)>1:\n",
    "            self.child.sort()\n",
    "        if len(self.values)>2:\n",
    "            self.split()\n",
    "    \n",
    "    def _insert(self, new_node):\n",
    "        if self.is_leaf() == True:\n",
    "            if new_node.values[0] not in self.values:\n",
    "                self.add(new_node)\n",
    "                return True\n",
    "            return False\n",
    "        elif new_node.values[0] > self.values[-1]:\n",
    "            return self.child[-1]._insert(new_node)\n",
    "        else:\n",
    "            for i in range(0, len(self.values)):\n",
    "                if new_node.values[0] < self.values[i]:\n",
    "                    return self.child[i]._insert(new_node)\n",
    "                    \n",
    "    \n",
    "    def split(self):\n",
    "        left_child = Node2(self.values[0], self)\n",
    "        right_child = Node2(self.values[2], self)\n",
    "        if len(self.child) != 0:\n",
    "            self.child[0].parent = left_child\n",
    "            self.child[1].parent = left_child\n",
    "            self.child[2].parent = right_child\n",
    "            self.child[3].parent = right_child\n",
    "            left_child.child = [self.child[0], self.child[1]]\n",
    "            right_child.child = [self.child[2], self.child[3]]\n",
    "        \n",
    "        #promote middle node\n",
    "        self.child = [left_child]\n",
    "        self.child.append(right_child)\n",
    "        self.values = [self.values[1]]\n",
    "\n",
    "        if self.parent is not None:\n",
    "            if self in self.parent.child:\n",
    "                self.parent.child.remove(self)\n",
    "            self.parent.add(self)\n",
    "        else:\n",
    "            left_child.parent = self\n",
    "            right_child.parent = self\n",
    "\n",
    "    def _find(self, element):\n",
    "        if element in self.values:\n",
    "            return True\n",
    "        elif self.is_leaf() == True:\n",
    "            return False\n",
    "        elif element > self.values[-1]:\n",
    "            return self.child[-1]._find(element)\n",
    "        else:\n",
    "            for i in range (0, len(self.values)):\n",
    "                if element < self.values[i]:\n",
    "                    return self.child[i]._find(element)\n",
    "        \n",
    "class TwoThreeBSTSet:\n",
    "    def __init__(self):\n",
    "        self.root = None\n",
    "    \n",
    "    def insertElement(self, element):\n",
    "        inserted = False\n",
    "        new_node = Node2(element)\n",
    "        if self.root is None:\n",
    "            self.root = new_node\n",
    "        else:\n",
    "            inserted = self.root._insert(new_node)\n",
    "            if not inserted:\n",
    "                return False\n",
    "            #re-establishes the root to the top of the tree\n",
    "            while self.root.parent is not None:\n",
    "                self.root = self.root.parent\n",
    "        return True \n",
    "    \n",
    "    def searchElement(self, element):\n",
    "        found = False\n",
    "        found =self.root._find(element)\n",
    "        return found"
   ]
  },
  {
   "cell_type": "markdown",
   "id": "369c0ddb",
   "metadata": {},
   "source": [
    "Time Complexity:\n",
    "- Insert an element is O(log n)\n",
    "- Search an element is O(log n)\n",
    "\n",
    "Space Complexity:\n",
    "- O(n)"
   ]
  },
  {
   "cell_type": "markdown",
   "id": "108b949c",
   "metadata": {},
   "source": [
    "### Bloom Filter"
   ]
  },
  {
   "cell_type": "code",
   "execution_count": 76,
   "id": "d701c2d2",
   "metadata": {},
   "outputs": [],
   "source": [
    "class BloomFilterSet:\n",
    "    \n",
    "    def __init__(self):\n",
    "        self.HashFunctions = None\n",
    "        self.hashNum = 0\n",
    "        self.size = 0\n",
    "        self.bitArray = None\n",
    "    \n",
    "    def initVariables(self, ItemNum, FPProb, HashFunctions):\n",
    "        # ItemNum : int, Number of items expected to be stored in bloom filter\n",
    "        # FPProb : float, False Positive probability in decimal\n",
    "        # HashFunctions: list, number of hash functions to use\n",
    "        self.HashFunctions = HashFunctions\n",
    "        self.hashNum = len(HashFunctions)\n",
    "        # Total size of bit array\n",
    "        self.size = self.getSize(ItemNum, FPProb)\n",
    "        # Bit array of given size, and initialize all bits as 0 (False)\n",
    "        self.bitArray = bitarray(self.size)\n",
    "        self.bitArray.setall(0)\n",
    "\n",
    "    def insertElement(self, element):\n",
    "        inserted = False\n",
    "        tempIndex = []\n",
    "        for function in self.HashFunctions:\n",
    "            index = function(element) % self.size\n",
    "            self.bitArray[index] = True\n",
    "            tempIndex.append(self.bitArray[index])\n",
    "        if False not in tempIndex:\n",
    "            inserted = True\n",
    "        return inserted\n",
    "\n",
    "    def searchElement(self, element):\n",
    "        found = False\n",
    "        count = 0\n",
    "        for function in self.HashFunctions:\n",
    "            index = function(element) % self.size\n",
    "            if not self.bitArray[index] == False:\n",
    "                count += 1\n",
    "            else:\n",
    "                return found\n",
    "        if count == len(self.HashFunctions):\n",
    "            found = True\n",
    "        return found\n",
    "\n",
    "    def getSize(self, n, p):\n",
    "        # m = -(n * lg(p)) / (lg(2)^2)\n",
    "        # n : number of items expected to be stored in filter\n",
    "        # p : False Positive probability in decimal\n",
    "        m = -(n * self.myLog(p)) / (self.myLog(2) ** 2)\n",
    "        return int(m)\n",
    "    \n",
    "    def myLog(self, n):\n",
    "        if n <= 0:\n",
    "            raise ValueError(\"logarithm is undefined for non-positive values\")\n",
    "        if n == 1:\n",
    "            return 0\n",
    "        if n < 1:\n",
    "            # log(xn) = -log(1/n) for n < 1\n",
    "            return -self.myLog(1 / n)\n",
    "        # Use the taylor series approximation for log(n) where |n-1| < 1\n",
    "        taylor = (n - 1) / float(n + 1)\n",
    "        term = taylor\n",
    "        total = taylor\n",
    "        num = 1\n",
    "        while abs(term) > 1e-15:\n",
    "            num += 2\n",
    "            term *= taylor * taylor / float(num * (num - 1))\n",
    "            total += term\n",
    "        return 2 * total"
   ]
  },
  {
   "cell_type": "code",
   "execution_count": 77,
   "id": "f3e54778",
   "metadata": {},
   "outputs": [],
   "source": [
    "def builtinHash(string):\n",
    "    return hash(string)\n",
    "\n",
    "def bernsteinHash(string):\n",
    "    hashValue = 5381\n",
    "    for char in string:\n",
    "        hashValue = ((hashValue << 5) + hashValue) + ord(char)\n",
    "    return hashValue\n",
    "\n",
    "def fnvHash(string):\n",
    "    hashValue = 2166136261\n",
    "    for char in string:\n",
    "        hashValue = (hashValue * 16777619) ^ ord(char)\n",
    "    return hashValue\n",
    "\n",
    "def jenkinsHash(string):\n",
    "    hashValue = 0\n",
    "    for char in string:\n",
    "        hashValue += ord(char)\n",
    "        hashValue += (hashValue << 10)\n",
    "        hashValue ^= (hashValue >> 6)\n",
    "    hashValue += (hashValue << 3)\n",
    "    hashValue ^= (hashValue >> 11)\n",
    "    hashValue += (hashValue << 15)\n",
    "    return hashValue\n",
    "\n",
    "def djb2Hash(string):\n",
    "    hashValue = 5381\n",
    "    for char in string:\n",
    "        hashValue = ((hashValue << 5) + hashValue) + ord(char)\n",
    "    return hashValue\n",
    "\n",
    "def sdbmHash(string):\n",
    "    hashValue = 0\n",
    "    for char in string:\n",
    "        hashValue = ord(char) + (hashValue << 6) + (hashValue << 16) - hashValue\n",
    "    return hashValue\n",
    "\n",
    "def fnv1aHash(string):\n",
    "    hashValue = 2166136261\n",
    "    for char in string:\n",
    "        hashValue ^= ord(char)\n",
    "        hashValue *= 16777619\n",
    "    return hashValue"
   ]
  },
  {
   "cell_type": "code",
   "execution_count": 78,
   "id": "1a6e875d",
   "metadata": {},
   "outputs": [
    {
     "name": "stdout",
     "output_type": "stream",
     "text": [
      "The False-Positive-Rate:  0.0\n"
     ]
    }
   ],
   "source": [
    "Alphabets = list(string.ascii_letters)\n",
    "randomword = []\n",
    "for a in range(10000):\n",
    "    temp = ''.join(random.choice(Alphabets) for t in range(random.randint(100, 200)))\n",
    "    randomword.append(temp)\n",
    "\n",
    "functions = [builtinHash, bernsteinHash, fnvHash, jenkinsHash, \n",
    "             djb2Hash, sdbmHash, fnv1aHash]\n",
    "bf = BloomFilterSet()\n",
    "bf.initVariables(10000, 0.01, functions)\n",
    "testnum = 0\n",
    "for ws in randomword:\n",
    "    if bf.searchElement(ws) == True:\n",
    "        testnum += 1\n",
    "\n",
    "print(\"The False-Positive-Rate: \", testnum / len(randomword))"
   ]
  },
  {
   "cell_type": "markdown",
   "id": "d784b54d",
   "metadata": {},
   "source": [
    "Time Complexity: \n",
    "- Creating the Bloom filter is O(kn)\n",
    "- Insert and Search an element: O(k)\n",
    "- k is the number of hash functions and n is the number of elements\n",
    "\n",
    "Space Complexity: \n",
    "- O(kb), where k is the number of hash functions and b is the bits number"
   ]
  },
  {
   "cell_type": "markdown",
   "id": "fb097f73",
   "metadata": {},
   "source": [
    "## 2. Experimentally Evaluation"
   ]
  },
  {
   "cell_type": "markdown",
   "id": "427c6435",
   "metadata": {},
   "source": [
    "### Using Real Data"
   ]
  },
  {
   "cell_type": "code",
   "execution_count": 79,
   "id": "e286902e",
   "metadata": {},
   "outputs": [],
   "source": [
    "def ReadFile(filepath):\n",
    "    with open(filepath) as f:\n",
    "        for line in f:\n",
    "            words = line.strip().split()\n",
    "    return words"
   ]
  },
  {
   "cell_type": "code",
   "execution_count": 80,
   "id": "e171cccb",
   "metadata": {},
   "outputs": [
    {
     "name": "stdout",
     "output_type": "stream",
     "text": [
      "209329 564236 5149662\n"
     ]
    }
   ],
   "source": [
    "words1 = ReadFile(\"./data/testfiles/test1-mobydick.txt\")\n",
    "words2 = ReadFile(\"./data/testfiles/test2-warpeace.txt\")\n",
    "words3 = ReadFile(\"./data/testfiles/test3-dickens.txt\")\n",
    "\n",
    "files = {\"'test1-mobydick.txt'\": words1, \"'test2-warpeace.txt'\": words2,\n",
    "         \"'test3-dickens.txt'\": words3}\n",
    "print(len(words1), len(words2), len(words3))"
   ]
  },
  {
   "cell_type": "code",
   "execution_count": 81,
   "id": "cf9bf466",
   "metadata": {},
   "outputs": [
    {
     "data": {
      "text/plain": [
       "544"
      ]
     },
     "execution_count": 81,
     "metadata": {},
     "output_type": "execute_result"
    }
   ],
   "source": [
    "wordsforsearch = []\n",
    "with open(\"./data/testfiles/test-search.txt\") as fsearch:\n",
    "    for line in fsearch:\n",
    "        wordsforsearch.append(line.strip())\n",
    "        \n",
    "len(wordsforsearch)"
   ]
  },
  {
   "cell_type": "code",
   "execution_count": 82,
   "id": "95d9771d",
   "metadata": {},
   "outputs": [],
   "source": [
    "hashFunctions = [builtinHash, bernsteinHash, fnvHash, jenkinsHash, \n",
    "                 djb2Hash, sdbmHash, fnv1aHash]"
   ]
  },
  {
   "cell_type": "code",
   "execution_count": 83,
   "id": "8c5d1ff7",
   "metadata": {},
   "outputs": [],
   "source": [
    "def CheckRes(reslist):\n",
    "    return all(all(x == reslist[0][i] for x in lst) for i, lst in enumerate(zip(*reslist)))"
   ]
  },
  {
   "cell_type": "markdown",
   "id": "7925ce26",
   "metadata": {},
   "source": [
    "#### The total amount of time of all insert operations"
   ]
  },
  {
   "cell_type": "code",
   "execution_count": 84,
   "id": "5a8ad56f",
   "metadata": {},
   "outputs": [],
   "source": [
    "def InsertTime(classname, datadict):\n",
    "    res = []\n",
    "    classlist = []\n",
    "    \n",
    "    for key in datadict.keys():\n",
    "        tempdata = datadict[key]\n",
    "        algorithm = classname()\n",
    "        if str(classname) == str(BloomFilterSet):\n",
    "            algorithm.initVariables(len(tempdata), 0.01, hashFunctions)\n",
    "\n",
    "        seen = {}\n",
    "        InsertStart = timeit.default_timer()\n",
    "        for word in tempdata:\n",
    "            if word is not None and word not in seen:\n",
    "                seen[word] = True\n",
    "                inserted = algorithm.insertElement(word)\n",
    "                res.append(inserted)\n",
    "        InsertEnd = timeit.default_timer()\n",
    "        InsertTime = InsertEnd - InsertStart\n",
    "        print(\"Insert time taken for\", key, \"is :\", InsertTime)\n",
    "        classlist.append(algorithm)\n",
    "    return classlist, res"
   ]
  },
  {
   "cell_type": "code",
   "execution_count": 85,
   "id": "41ff87ba",
   "metadata": {},
   "outputs": [
    {
     "name": "stdout",
     "output_type": "stream",
     "text": [
      "Insert time taken for 'test1-mobydick.txt' is : 0.08251629996811971\n",
      "Insert time taken for 'test2-warpeace.txt' is : 0.09049450000748038\n",
      "Insert time taken for 'test3-dickens.txt' is : 1.6991461999714375\n"
     ]
    }
   ],
   "source": [
    "# Sequential Search\n",
    "SEQs, SeqInsertRes = InsertTime(SequentialSearchSet, files)"
   ]
  },
  {
   "cell_type": "code",
   "execution_count": 86,
   "id": "f69c8a50",
   "metadata": {
    "scrolled": true
   },
   "outputs": [
    {
     "name": "stdout",
     "output_type": "stream",
     "text": [
      "Insert time taken for 'test1-mobydick.txt' is : 0.4001770000322722\n",
      "Insert time taken for 'test2-warpeace.txt' is : 0.3836785000166856\n",
      "Insert time taken for 'test3-dickens.txt' is : 2.272054200002458\n"
     ]
    }
   ],
   "source": [
    "# Binary Search Tree\n",
    "BSTs, BstInsertRes = InsertTime(BinarySearchTreeSet, files)"
   ]
  },
  {
   "cell_type": "code",
   "execution_count": 87,
   "id": "399c5214",
   "metadata": {},
   "outputs": [
    {
     "name": "stdout",
     "output_type": "stream",
     "text": [
      "Insert time taken for 'test1-mobydick.txt' is : 0.5367933000088669\n",
      "Insert time taken for 'test2-warpeace.txt' is : 0.7507150999736041\n",
      "Insert time taken for 'test3-dickens.txt' is : 2.851504600024782\n"
     ]
    }
   ],
   "source": [
    "# Red Black Balanced Search Tree\n",
    "RBTs, BalstInsertRes = InsertTime(BalancedSearchTreeSet, files)"
   ]
  },
  {
   "cell_type": "code",
   "execution_count": 88,
   "id": "458b5af8",
   "metadata": {},
   "outputs": [
    {
     "name": "stdout",
     "output_type": "stream",
     "text": [
      "Insert time taken for 'test1-mobydick.txt' is : 0.3865551000344567\n",
      "Insert time taken for 'test2-warpeace.txt' is : 0.6282031000009738\n",
      "Insert time taken for 'test3-dickens.txt' is : 3.757791400013957\n"
     ]
    }
   ],
   "source": [
    "# 2-3 Balanced Search Tree\n",
    "TTSTs, TtstInsertRes = InsertTime(TwoThreeBSTSet, files)"
   ]
  },
  {
   "cell_type": "code",
   "execution_count": 89,
   "id": "0d1d655b",
   "metadata": {},
   "outputs": [
    {
     "name": "stdout",
     "output_type": "stream",
     "text": [
      "Insert time taken for 'test1-mobydick.txt' is : 0.5310162000241689\n",
      "Insert time taken for 'test2-warpeace.txt' is : 0.5461085999850184\n",
      "Insert time taken for 'test3-dickens.txt' is : 2.405409300001338\n"
     ]
    }
   ],
   "source": [
    "# Bloom Filter\n",
    "BFs, BfInsertRes = InsertTime(BloomFilterSet, files)"
   ]
  },
  {
   "cell_type": "code",
   "execution_count": 90,
   "id": "9807ad62",
   "metadata": {},
   "outputs": [
    {
     "data": {
      "text/plain": [
       "True"
      ]
     },
     "execution_count": 90,
     "metadata": {},
     "output_type": "execute_result"
    }
   ],
   "source": [
    "RealInsertList = [SeqInsertRes, BstInsertRes, BalstInsertRes, TtstInsertRes, BfInsertRes]\n",
    "RealInsertRes = CheckRes(RealInsertList)\n",
    "RealInsertRes"
   ]
  },
  {
   "cell_type": "markdown",
   "id": "d5a034ed",
   "metadata": {},
   "source": [
    "#### The total amount of time of search operations"
   ]
  },
  {
   "cell_type": "code",
   "execution_count": 91,
   "id": "ffa545ab",
   "metadata": {},
   "outputs": [],
   "source": [
    "def SearchTime(objects, searchdata):\n",
    "    res = []\n",
    "    for obj in objects:\n",
    "        tempres = []\n",
    "        SearchStart = timeit.default_timer()\n",
    "        for ws in searchdata:\n",
    "            if ws is not None:\n",
    "                searched = obj.searchElement(ws)\n",
    "            else:\n",
    "                searched = None\n",
    "            tempres.append(searched)\n",
    "        SearchEnd = timeit.default_timer()\n",
    "        SearchTime = SearchEnd - SearchStart\n",
    "        print(\"Search time taken for 'test-search.txt' in file\", \n",
    "              objects.index(obj)+1, \"is :\", SearchTime)\n",
    "        res.append(tempres)\n",
    "    return res"
   ]
  },
  {
   "cell_type": "code",
   "execution_count": 92,
   "id": "b0153c79",
   "metadata": {},
   "outputs": [
    {
     "name": "stdout",
     "output_type": "stream",
     "text": [
      "Search time taken for 'test-search.txt' in file 1 is : 0.1929010000312701\n",
      "Search time taken for 'test-search.txt' in file 2 is : 0.17402299999957904\n",
      "Search time taken for 'test-search.txt' in file 3 is : 0.5410745000117458\n"
     ]
    }
   ],
   "source": [
    "# Sequential Search Tree\n",
    "SeqSearchRes = SearchTime(SEQs, wordsforsearch)"
   ]
  },
  {
   "cell_type": "code",
   "execution_count": 93,
   "id": "b664f66d",
   "metadata": {},
   "outputs": [
    {
     "name": "stdout",
     "output_type": "stream",
     "text": [
      "Search time taken for 'test-search.txt' in file 1 is : 0.004498100024648011\n",
      "Search time taken for 'test-search.txt' in file 2 is : 0.003083400020841509\n",
      "Search time taken for 'test-search.txt' in file 3 is : 0.005820399965159595\n"
     ]
    }
   ],
   "source": [
    "# Binary Search Tree\n",
    "BstSearchRes = SearchTime(BSTs, wordsforsearch)"
   ]
  },
  {
   "cell_type": "code",
   "execution_count": 94,
   "id": "7513ea42",
   "metadata": {},
   "outputs": [
    {
     "name": "stdout",
     "output_type": "stream",
     "text": [
      "Search time taken for 'test-search.txt' in file 1 is : 0.006827500008512288\n",
      "Search time taken for 'test-search.txt' in file 2 is : 0.0044516000198200345\n",
      "Search time taken for 'test-search.txt' in file 3 is : 0.0064981000032275915\n"
     ]
    }
   ],
   "source": [
    "# Red Black Balanced Search Tree\n",
    "BalstSearchRes = SearchTime(RBTs, wordsforsearch)"
   ]
  },
  {
   "cell_type": "code",
   "execution_count": 95,
   "id": "274cca6e",
   "metadata": {
    "scrolled": true
   },
   "outputs": [
    {
     "name": "stdout",
     "output_type": "stream",
     "text": [
      "Search time taken for 'test-search.txt' in file 1 is : 0.006332399963866919\n",
      "Search time taken for 'test-search.txt' in file 2 is : 0.011191099998541176\n",
      "Search time taken for 'test-search.txt' in file 3 is : 0.012328300043009222\n"
     ]
    }
   ],
   "source": [
    "# 2-3 Balanced Search Tree\n",
    "TtstSearchRes = SearchTime(TTSTs, wordsforsearch)"
   ]
  },
  {
   "cell_type": "code",
   "execution_count": 96,
   "id": "017aa425",
   "metadata": {},
   "outputs": [
    {
     "name": "stdout",
     "output_type": "stream",
     "text": [
      "Search time taken for 'test-search.txt' in file 1 is : 0.007704199990257621\n",
      "Search time taken for 'test-search.txt' in file 2 is : 0.008242900017648935\n",
      "Search time taken for 'test-search.txt' in file 3 is : 0.006592500023543835\n"
     ]
    }
   ],
   "source": [
    "# Bloom Filter\n",
    "BfSearchRes = SearchTime(BFs, wordsforsearch)"
   ]
  },
  {
   "cell_type": "code",
   "execution_count": 97,
   "id": "8b1c97ad",
   "metadata": {},
   "outputs": [
    {
     "data": {
      "text/plain": [
       "True"
      ]
     },
     "execution_count": 97,
     "metadata": {},
     "output_type": "execute_result"
    }
   ],
   "source": [
    "RealSearchList = [SeqSearchRes, BstSearchRes, BalstSearchRes, TtstSearchRes, BfSearchRes]\n",
    "RealSearchRes = CheckRes(RealSearchList)\n",
    "RealSearchRes"
   ]
  },
  {
   "cell_type": "markdown",
   "id": "41ef4e99",
   "metadata": {},
   "source": [
    "### Using Synthetic Data"
   ]
  },
  {
   "attachments": {},
   "cell_type": "markdown",
   "id": "f4490e86",
   "metadata": {},
   "source": [
    "### different conditions:\n",
    "- Duplicate cases\n",
    "- Longer String length\n",
    "- Adding numbers and symbols in each string\n",
    "- String list in ascending/descending order\n",
    "- Missing values \n",
    "- Strings of distinct integer values \n",
    "- Strings of distinct floats between 0.0 and 1.0\n",
    "- Strings that contain whitespace\n",
    "- Palindrome Strings\n",
    "- Strings with highly variable lengths\n",
    "- Strings with repeating patterns \n",
    "- Strings with alternating upper-case and lower-case letters"
   ]
  },
  {
   "cell_type": "code",
   "execution_count": 106,
   "id": "5800fe54",
   "metadata": {},
   "outputs": [],
   "source": [
    "class TestDataGenerator():\n",
    "\n",
    "    def __init__(self):\n",
    "        self.syntheticData = []\n",
    "        self.strLen = 0\n",
    "        self.percentage = 0.0\n",
    "\n",
    "    def setParams(self, strLen, percentage):\n",
    "        self.strLen = strLen\n",
    "        self.percentage = percentage\n",
    "    \n",
    "    def generateData(self, size):\n",
    "        data, data1, data2 = [], [], []\n",
    "        seen1, seen2, seen3 = {}, {}, {}\n",
    "        alphabets = list(string.ascii_letters)\n",
    "        charlist = string.printable\n",
    "\n",
    "        # Normal Case\n",
    "        while len(data) < size:\n",
    "            temp = ''.join(random.choice(alphabets) for _ in range(random.randint(4, 10)))\n",
    "            if temp not in seen1:\n",
    "                seen1[temp] = True\n",
    "                data.append(temp)\n",
    "\n",
    "        # Long String\n",
    "        while len(data1) < size:\n",
    "            temp1 = ''.join(random.choice(alphabets) for _ in range(self.strLen))\n",
    "            if temp1 not in seen2:\n",
    "                seen2[temp1] = True\n",
    "                data1.append(temp1)\n",
    "\n",
    "        # Special String\n",
    "        while len(data2) < size:\n",
    "            temp2 = ''.join(random.sample(charlist, random.randint(4, 10)))\n",
    "            if temp2 not in seen3:\n",
    "                seen3[temp2] = True\n",
    "                data2.append(temp2)\n",
    "\n",
    "        # Ascending Order\n",
    "        data3 = self.mergeSort(data.copy())\n",
    "        \n",
    "        # Descending Order\n",
    "        data4 = data3[::-1]\n",
    "\n",
    "        # String with missing values and duplicate values\n",
    "        num6 = round(size * 0.2)\n",
    "        temp6 = data[ : num6]\n",
    "        data5 = [None if i >= num6 and random.random() < self.percentage else data[i] for i in range(size)]\n",
    "        data6 = [random.choice(temp6) if i >= num6 and random.random() < self.percentage else data[i] for i in range(size)]\n",
    "\n",
    "        # Strings of distinct integers\n",
    "        data7 = []\n",
    "        for _ in range(size):\n",
    "            data7.append(str(random.randint(-2147483648, 2147483647)))\n",
    "\n",
    "        # Strings of distinct floats between 0.0 and 1.0\n",
    "        data8 = []\n",
    "        for _ in range(size):\n",
    "            data8.append(str(random.uniform(0.0, 1.0)))\n",
    "\n",
    "        # Strings contain whitespace\n",
    "        data9 = data.copy()\n",
    "        for i in range(size):\n",
    "            current = data9[i]\n",
    "            for _ in range(random.randint(1,10)):\n",
    "                index = random.choice(range(0,len(current)))\n",
    "                current = current[:index] + \" \" + current[index+1:]\n",
    "            data9[i] = current\n",
    "\n",
    "        # Palindrome strings\n",
    "        data10 = data.copy()\n",
    "        for i in range(len(data10)):\n",
    "            tempword = data10[i][:len(data10[i])//2+1]\n",
    "            data10[i] = tempword + tempword[::-1]\n",
    "\n",
    "        # Strings with highly variable lengths, ranging from very short to very long\n",
    "        data11 = []\n",
    "        for i in range(size):\n",
    "            s = ''.join(random.choice(alphabets) for _ in range(self.strLen))\n",
    "            data11.append(s)\n",
    "\n",
    "        # Strings with repeating patterns \n",
    "        data12 = []\n",
    "        for i in range(size):\n",
    "            pattern_length = random.randint(1,5)\n",
    "            pattern = ''.join(random.choice(alphabets) for _ in range(pattern_length))\n",
    "            repititions = random.randint(1,10)\n",
    "            pattern = pattern * repititions\n",
    "            data12.append(pattern)\n",
    "        \n",
    "        # Strings with alternating upper-case and lower-case letters \n",
    "        data13 = data.copy()\n",
    "        for i in range(len(data13)):\n",
    "            first_letter = data[i][0]\n",
    "            modified_str = \"\"\n",
    "            if random.randint(0,1) == 0:\n",
    "                first_letter = first_letter.upper()\n",
    "            else:\n",
    "                first_letter = first_letter.lower()\n",
    "            for j in range(1, len(data13[i])):\n",
    "                if modified_str[-1].isupper()::\n",
    "                    modified_str += data[i][j].lower()\n",
    "                else:\n",
    "                    modified_str += data[i][j].upper()\n",
    "            data[i] = modified_str\n",
    "\n",
    "        self.syntheticData.append(data)\n",
    "        self.syntheticData.append(data1)\n",
    "        self.syntheticData.append(data2)\n",
    "        self.syntheticData.append(data3)\n",
    "        self.syntheticData.append(data4)\n",
    "        self.syntheticData.append(data5)\n",
    "        self.syntheticData.append(data6)\n",
    "        self.syntheticData.append(data7)\n",
    "        self.syntheticData.append(data8)\n",
    "        self.syntheticData.append(data9)\n",
    "        self.syntheticData.append(data10)\n",
    "        self.syntheticData.append(data11)\n",
    "        self.syntheticData.append(data12)\n",
    "        self.syntheticData.append(data13)\n",
    "\n",
    "        return self.syntheticData\n",
    "\n",
    "    def mergeSort(self, arr):\n",
    "        n = len(arr)\n",
    "        size = 1\n",
    "        while size < n:\n",
    "            for i in range(0, n, 2*size):\n",
    "                left = arr[i : i+size]\n",
    "                right = arr[i+size : i+2*size]\n",
    "                merged = []\n",
    "                l = r = 0\n",
    "                while l < len(left) and r < len(right):\n",
    "                    if left[l] < right[r]:\n",
    "                        merged.append(left[l])\n",
    "                        l += 1\n",
    "                    else:\n",
    "                        merged.append(right[r])\n",
    "                        r += 1\n",
    "                merged += left[l:]\n",
    "                merged += right[r:]\n",
    "                arr[i : i+len(merged)] = merged\n",
    "            size *= 2\n",
    "        return arr"
   ]
  },
  {
   "cell_type": "code",
   "execution_count": 107,
   "id": "b9244868",
   "metadata": {
    "scrolled": true
   },
   "outputs": [],
   "source": [
    "datasize = 100000\n",
    "\n",
    "dataGenerate = TestDataGenerator()\n",
    "dataGenerate.setParams(100, 0.6)\n",
    "SyntheticDataList = dataGenerate.generateData(datasize)\n",
    "# SyntheticDataList"
   ]
  },
  {
   "cell_type": "code",
   "execution_count": 108,
   "id": "20464607",
   "metadata": {},
   "outputs": [
    {
     "data": {
      "text/plain": [
       "13"
      ]
     },
     "execution_count": 108,
     "metadata": {},
     "output_type": "execute_result"
    }
   ],
   "source": [
    "len(SyntheticDataList)"
   ]
  },
  {
   "cell_type": "code",
   "execution_count": 109,
   "id": "244f3151",
   "metadata": {},
   "outputs": [],
   "source": [
    "SyntheticDataNames = [\"Normal\", \"Long String\", \"Special String\", \"Ascending Order\", \"Descending Order\", \n",
    "                      \"String with missing values\", \"String with duplicate values\",\n",
    "                     \"Strings of distinct integers\",\"Strings of distinct floats\",\n",
    "                      \"Strings contain whitespace\",\"Palindrome strings\",\"Strings with highly variable lenghts\",\n",
    "                      \"Strings with repeating patterns\", \"Strings with alternating upper-case and lower-case letters\"]"
   ]
  },
  {
   "cell_type": "code",
   "execution_count": 110,
   "id": "ed3204cc",
   "metadata": {},
   "outputs": [],
   "source": [
    "synSearchList = []\n",
    "for datalist in SyntheticDataList:\n",
    "    num = round(len(datalist) * 0.3)\n",
    "    templist = []\n",
    "    seen = {}\n",
    "    # Choose from list\n",
    "    while len(templist) < num:\n",
    "        tempdata = random.choice(datalist)\n",
    "        if tempdata not in seen:\n",
    "            seen[tempdata] = True\n",
    "            templist.append(tempdata)\n",
    "    # Generate new values\n",
    "    falsenum = round(len(datalist) * 0.2)\n",
    "    for _ in range(falsenum):\n",
    "        fdata = ''.join(random.choice(string.ascii_lowercase) for _ in range(random.randint(8, 12))) \n",
    "        templist.append(fdata)\n",
    "    synSearchList.append(templist)\n",
    "\n",
    "# synSearchList"
   ]
  },
  {
   "cell_type": "markdown",
   "id": "b3ab621a",
   "metadata": {},
   "source": [
    "#### Insert Time Taken"
   ]
  },
  {
   "cell_type": "code",
   "execution_count": 111,
   "id": "564082c4",
   "metadata": {},
   "outputs": [],
   "source": [
    "def InsertTime2(classname, datalist):\n",
    "    # Remove Duplicates\n",
    "    seen = {}\n",
    "    uniqueDatas = []\n",
    "    for e in datalist:\n",
    "        if e not in seen:\n",
    "            seen[e] = True\n",
    "            uniqueDatas.append(e)\n",
    "    \n",
    "    algorithm = classname()\n",
    "    if str(classname) == str(BloomFilterSet):\n",
    "        algorithm.initVariables(len(datalist), 0.01, hashFunctions)\n",
    "\n",
    "    InsertStart = timeit.default_timer()\n",
    "    res = []\n",
    "    for word in uniqueDatas:\n",
    "        # Remove Missing Values\n",
    "        if word is not None:\n",
    "            inserted = algorithm.insertElement(word)\n",
    "            res.append(inserted)\n",
    "    InsertEnd = timeit.default_timer()\n",
    "    InsertTime = InsertEnd - InsertStart\n",
    "    print(\"Insert time taken is :\", InsertTime)\n",
    "    return algorithm, res"
   ]
  },
  {
   "cell_type": "code",
   "execution_count": 112,
   "id": "442b67e5",
   "metadata": {
    "scrolled": true
   },
   "outputs": [
    {
     "name": "stdout",
     "output_type": "stream",
     "text": [
      "For Normal Case: \n",
      "Sequential Search: \n",
      "Insert time taken is : 0.04597410000860691\n",
      "Binary Search Tree: \n",
      "Insert time taken is : 7.212259499996435\n",
      "Balanced Search Tree: \n",
      "Insert time taken is : 3.3382051999797113\n",
      "2-3 Search Tree: \n",
      "Insert time taken is : 4.066206999996211\n",
      "Bloom Filter: \n",
      "Insert time taken is : 1.9682804999756627\n",
      "~~~~~~~~~~~~~~~~~~~~~~~~~~~~~~~~~~~~~~~~~~~~~~~~~\n",
      "For Long String Case: \n",
      "Sequential Search: \n",
      "Insert time taken is : 0.05621640000026673\n",
      "Binary Search Tree: \n",
      "Insert time taken is : 2.635910300014075\n",
      "Balanced Search Tree: \n",
      "Insert time taken is : 2.8040973000461236\n",
      "2-3 Search Tree: \n",
      "Insert time taken is : 5.133844700001646\n",
      "Bloom Filter: \n",
      "Insert time taken is : 21.83852480002679\n",
      "~~~~~~~~~~~~~~~~~~~~~~~~~~~~~~~~~~~~~~~~~~~~~~~~~\n",
      "For Special String Case: \n",
      "Sequential Search: \n",
      "Insert time taken is : 0.030471900012344122\n",
      "Binary Search Tree: \n",
      "Insert time taken is : 0.6644253999693319\n",
      "Balanced Search Tree: \n",
      "Insert time taken is : 2.5173886999837123\n",
      "2-3 Search Tree: \n",
      "Insert time taken is : 3.9084929000237025\n",
      "Bloom Filter: \n",
      "Insert time taken is : 1.4077205000212416\n",
      "~~~~~~~~~~~~~~~~~~~~~~~~~~~~~~~~~~~~~~~~~~~~~~~~~\n",
      "For Ascending Order Case: \n",
      "Sequential Search: \n",
      "Insert time taken is : 0.044483000005129725\n",
      "Binary Search Tree: \n",
      "Insert time taken is : 1459.0036693000002\n",
      "Balanced Search Tree: \n",
      "Insert time taken is : 5.003308099985588\n",
      "2-3 Search Tree: \n",
      "Insert time taken is : 1.2993467000196688\n",
      "Bloom Filter: \n",
      "Insert time taken is : 1.8170875000068918\n",
      "~~~~~~~~~~~~~~~~~~~~~~~~~~~~~~~~~~~~~~~~~~~~~~~~~\n",
      "For Descending Order Case: \n",
      "Sequential Search: \n",
      "Insert time taken is : 0.04415440000593662\n",
      "Binary Search Tree: \n",
      "Insert time taken is : 1196.3268884000136\n",
      "Balanced Search Tree: \n",
      "Insert time taken is : 5.571864800003823\n",
      "2-3 Search Tree: \n",
      "Insert time taken is : 1.7670272999675944\n",
      "Bloom Filter: \n",
      "Insert time taken is : 1.46744320000289\n",
      "~~~~~~~~~~~~~~~~~~~~~~~~~~~~~~~~~~~~~~~~~~~~~~~~~\n",
      "For String with missing values Case: \n",
      "Sequential Search: \n",
      "Insert time taken is : 0.02041069994447753\n",
      "Binary Search Tree: \n",
      "Insert time taken is : 0.2908624000265263\n",
      "Balanced Search Tree: \n",
      "Insert time taken is : 1.4233133000088856\n",
      "2-3 Search Tree: \n",
      "Insert time taken is : 3.8094397999811918\n",
      "Bloom Filter: \n",
      "Insert time taken is : 0.7232776000164449\n",
      "~~~~~~~~~~~~~~~~~~~~~~~~~~~~~~~~~~~~~~~~~~~~~~~~~\n",
      "For String with duplicate values Case: \n",
      "Sequential Search: \n",
      "Insert time taken is : 0.016037800000049174\n",
      "Binary Search Tree: \n",
      "Insert time taken is : 0.29573339998023584\n",
      "Balanced Search Tree: \n",
      "Insert time taken is : 1.3510652999975719\n",
      "2-3 Search Tree: \n",
      "Insert time taken is : 1.1033677000086755\n",
      "Bloom Filter: \n",
      "Insert time taken is : 0.7914014999987558\n",
      "~~~~~~~~~~~~~~~~~~~~~~~~~~~~~~~~~~~~~~~~~~~~~~~~~\n",
      "For Strings of distinct integers Case: \n",
      "Sequential Search: \n",
      "Insert time taken is : 0.03303660004166886\n",
      "Binary Search Tree: \n",
      "Insert time taken is : 0.6811024000053294\n",
      "Balanced Search Tree: \n",
      "Insert time taken is : 3.041144200018607\n",
      "2-3 Search Tree: \n",
      "Insert time taken is : 5.636545299959835\n",
      "Bloom Filter: \n",
      "Insert time taken is : 2.0130252000526525\n",
      "~~~~~~~~~~~~~~~~~~~~~~~~~~~~~~~~~~~~~~~~~~~~~~~~~\n",
      "For Strings of distinct floats Case: \n",
      "Sequential Search: \n",
      "Insert time taken is : 0.03431850002380088\n",
      "Binary Search Tree: \n",
      "Insert time taken is : 0.6939985000062734\n",
      "Balanced Search Tree: \n",
      "Insert time taken is : 2.9624511000001803\n",
      "2-3 Search Tree: \n",
      "Insert time taken is : 2.9359706999966875\n",
      "Bloom Filter: \n",
      "Insert time taken is : 4.535114699974656\n",
      "~~~~~~~~~~~~~~~~~~~~~~~~~~~~~~~~~~~~~~~~~~~~~~~~~\n",
      "For Strings contain whitespace Case: \n",
      "Sequential Search: \n",
      "Insert time taken is : 0.025212000007741153\n",
      "Binary Search Tree: \n",
      "Insert time taken is : 0.701843100017868\n",
      "Balanced Search Tree: \n",
      "Insert time taken is : 6.257332000008319\n",
      "2-3 Search Tree: \n",
      "Insert time taken is : 1.5293040999677032\n",
      "Bloom Filter: \n",
      "Insert time taken is : 1.105559399991762\n",
      "~~~~~~~~~~~~~~~~~~~~~~~~~~~~~~~~~~~~~~~~~~~~~~~~~\n",
      "For Palindrome strings Case: \n",
      "Sequential Search: \n",
      "Insert time taken is : 0.029749999986961484\n",
      "Binary Search Tree: \n",
      "Insert time taken is : 0.9233972000074573\n",
      "Balanced Search Tree: \n",
      "Insert time taken is : 2.2302484000101686\n",
      "2-3 Search Tree: \n",
      "Insert time taken is : 1.8202243999694474\n",
      "Bloom Filter: \n",
      "Insert time taken is : 2.04242080001859\n",
      "~~~~~~~~~~~~~~~~~~~~~~~~~~~~~~~~~~~~~~~~~~~~~~~~~\n",
      "For Strings with highly variable lenghts Case: \n",
      "Sequential Search: \n",
      "Insert time taken is : 0.039931499981321394\n",
      "Binary Search Tree: \n",
      "Insert time taken is : 6.479554500023369\n",
      "Balanced Search Tree: \n",
      "Insert time taken is : 2.8391285999678075\n",
      "2-3 Search Tree: \n",
      "Insert time taken is : 2.4639771000365727\n",
      "Bloom Filter: \n",
      "Insert time taken is : 20.551158000016585\n",
      "~~~~~~~~~~~~~~~~~~~~~~~~~~~~~~~~~~~~~~~~~~~~~~~~~\n",
      "For Strings with repeating patterns Case: \n",
      "Sequential Search: \n",
      "Insert time taken is : 0.02824539999710396\n",
      "Binary Search Tree: \n",
      "Insert time taken is : 0.4045722000300884\n",
      "Balanced Search Tree: \n",
      "Insert time taken is : 1.834657400031574\n",
      "2-3 Search Tree: \n",
      "Insert time taken is : 1.4571523999911733\n",
      "Bloom Filter: \n",
      "Insert time taken is : 2.2166923999902792\n",
      "~~~~~~~~~~~~~~~~~~~~~~~~~~~~~~~~~~~~~~~~~~~~~~~~~\n"
     ]
    }
   ],
   "source": [
    "SEQSyn, BSTSyn, RBTSyn, TTSTSyn, BTSyn = [], [], [], [], []\n",
    "InsertRes1, InsertRes2, InsertRes3, InsertRes4, InsertRes5 = [], [], [], [], []\n",
    "for i in range(len(SyntheticDataList)):\n",
    "    print(\"For\", SyntheticDataNames[i], \"Case: \")\n",
    "    print(\"Sequential Search: \")\n",
    "    SEQ, res1 = InsertTime2(SequentialSearchSet, SyntheticDataList[i])\n",
    "    SEQSyn.append(SEQ)\n",
    "    InsertRes1.append(res1)\n",
    "    print(\"Binary Search Tree: \")\n",
    "    BST, res2 = InsertTime2(BinarySearchTreeSet, SyntheticDataList[i])\n",
    "    BSTSyn.append(BST)\n",
    "    InsertRes2.append(res2)\n",
    "    print(\"Red Black Balanced Search Tree: \")\n",
    "    RBT, res3 = InsertTime2(BalancedSearchTreeSet, SyntheticDataList[i])\n",
    "    RBTSyn.append(RBT)\n",
    "    InsertRes3.append(res3)\n",
    "    print(\"2-3 Balanced Search Tree: \")\n",
    "    TTST, res4 = InsertTime2(TwoThreeBSTSet, SyntheticDataList[i])\n",
    "    TTSTSyn.append(TTST)\n",
    "    InsertRes4.append(res4)\n",
    "    print(\"Bloom Filter: \")\n",
    "    BT, res5 = InsertTime2(BloomFilterSet, SyntheticDataList[i])\n",
    "    BTSyn.append(BT)\n",
    "    InsertRes5.append(res5)\n",
    "    print(\"~~~~~~~~~~~~~~~~~~~~~~~~~~~~~~~~~~~~~~~~~~~~~~~~~\")"
   ]
  },
  {
   "cell_type": "code",
   "execution_count": 113,
   "id": "e4a5d1ef",
   "metadata": {},
   "outputs": [
    {
     "data": {
      "text/plain": [
       "[True, True, True, True, True, True, True, True, True, True, True, True, True]"
      ]
     },
     "execution_count": 113,
     "metadata": {},
     "output_type": "execute_result"
    }
   ],
   "source": [
    "SyntheicInsertResS = []\n",
    "for i in range(len(SyntheticDataList)):\n",
    "    SyntheicInsertList = [InsertRes1[i], InsertRes2[i], InsertRes3[i], InsertRes4[i], \n",
    "                          InsertRes5[i]]\n",
    "    SyntheicInsertRes = CheckRes(SyntheicInsertList)\n",
    "    SyntheicInsertResS.append(SyntheicInsertRes)\n",
    "SyntheicInsertResS"
   ]
  },
  {
   "cell_type": "markdown",
   "id": "ea712b90",
   "metadata": {},
   "source": [
    "### Search Time Taken"
   ]
  },
  {
   "cell_type": "code",
   "execution_count": 114,
   "id": "0fddadb2",
   "metadata": {},
   "outputs": [],
   "source": [
    "def SearchTime2(obj, searchdata):\n",
    "    res = []\n",
    "    SearchStart = timeit.default_timer()\n",
    "    for ws in searchdata:\n",
    "        if ws is not None:\n",
    "            searched = obj.searchElement(ws)\n",
    "        else:\n",
    "            searched = None\n",
    "        res.append(searched)\n",
    "    SearchEnd = timeit.default_timer()\n",
    "    SearchTime = SearchEnd - SearchStart\n",
    "    print(\"Search time taken is :\", SearchTime)\n",
    "    return res"
   ]
  },
  {
   "cell_type": "code",
   "execution_count": 115,
   "id": "a6d3b6c0",
   "metadata": {},
   "outputs": [
    {
     "name": "stdout",
     "output_type": "stream",
     "text": [
      "For Normal Case: \n",
      "Sequential Search: \n",
      "Search time taken is : 176.6291390999686\n",
      "~~~~~~~~~~~~~~~~~~~~~~~~~~~~~~~~~~~~~~~~~~~~~~~~~\n",
      "Binary Search Tree: \n",
      "Search time taken is : 0.2701299000182189\n",
      "~~~~~~~~~~~~~~~~~~~~~~~~~~~~~~~~~~~~~~~~~~~~~~~~~\n",
      "Balanced Search Tree: \n",
      "Search time taken is : 0.2873636999865994\n",
      "~~~~~~~~~~~~~~~~~~~~~~~~~~~~~~~~~~~~~~~~~~~~~~~~~\n",
      "Search time taken is : 0.28838849999010563\n",
      "~~~~~~~~~~~~~~~~~~~~~~~~~~~~~~~~~~~~~~~~~~~~~~~~~\n",
      "Bloom Filter: \n",
      "Search time taken is : 0.4812209000228904\n",
      "~~~~~~~~~~~~~~~~~~~~~~~~~~~~~~~~~~~~~~~~~~~~~~~~~\n",
      "                                                 \n",
      "For Long String Case: \n",
      "Sequential Search: \n",
      "Search time taken is : 229.15063420002116\n",
      "~~~~~~~~~~~~~~~~~~~~~~~~~~~~~~~~~~~~~~~~~~~~~~~~~\n",
      "Binary Search Tree: \n",
      "Search time taken is : 0.5514914999948815\n",
      "~~~~~~~~~~~~~~~~~~~~~~~~~~~~~~~~~~~~~~~~~~~~~~~~~\n",
      "Balanced Search Tree: \n",
      "Search time taken is : 0.45809299999382347\n",
      "~~~~~~~~~~~~~~~~~~~~~~~~~~~~~~~~~~~~~~~~~~~~~~~~~\n",
      "Search time taken is : 0.40698089997749776\n",
      "~~~~~~~~~~~~~~~~~~~~~~~~~~~~~~~~~~~~~~~~~~~~~~~~~\n",
      "Bloom Filter: \n",
      "Search time taken is : 8.849725799984299\n",
      "~~~~~~~~~~~~~~~~~~~~~~~~~~~~~~~~~~~~~~~~~~~~~~~~~\n",
      "                                                 \n",
      "For Special String Case: \n",
      "Sequential Search: \n",
      "Search time taken is : 192.68430620001163\n",
      "~~~~~~~~~~~~~~~~~~~~~~~~~~~~~~~~~~~~~~~~~~~~~~~~~\n",
      "Binary Search Tree: \n",
      "Search time taken is : 0.31984120002016425\n",
      "~~~~~~~~~~~~~~~~~~~~~~~~~~~~~~~~~~~~~~~~~~~~~~~~~\n",
      "Balanced Search Tree: \n",
      "Search time taken is : 0.32866940001258627\n",
      "~~~~~~~~~~~~~~~~~~~~~~~~~~~~~~~~~~~~~~~~~~~~~~~~~\n",
      "Search time taken is : 0.25872120005078614\n",
      "~~~~~~~~~~~~~~~~~~~~~~~~~~~~~~~~~~~~~~~~~~~~~~~~~\n",
      "Bloom Filter: \n",
      "Search time taken is : 0.483610299997963\n",
      "~~~~~~~~~~~~~~~~~~~~~~~~~~~~~~~~~~~~~~~~~~~~~~~~~\n",
      "                                                 \n",
      "For Ascending Order Case: \n",
      "Sequential Search: \n",
      "Search time taken is : 437.1901441999944\n",
      "~~~~~~~~~~~~~~~~~~~~~~~~~~~~~~~~~~~~~~~~~~~~~~~~~\n",
      "Binary Search Tree: \n",
      "Search time taken is : 803.1981363000232\n",
      "~~~~~~~~~~~~~~~~~~~~~~~~~~~~~~~~~~~~~~~~~~~~~~~~~\n",
      "Balanced Search Tree: \n",
      "Search time taken is : 0.29158270003972575\n",
      "~~~~~~~~~~~~~~~~~~~~~~~~~~~~~~~~~~~~~~~~~~~~~~~~~\n",
      "Search time taken is : 0.26794529997278005\n",
      "~~~~~~~~~~~~~~~~~~~~~~~~~~~~~~~~~~~~~~~~~~~~~~~~~\n",
      "Bloom Filter: \n",
      "Search time taken is : 0.4686644000466913\n",
      "~~~~~~~~~~~~~~~~~~~~~~~~~~~~~~~~~~~~~~~~~~~~~~~~~\n",
      "                                                 \n",
      "For Descending Order Case: \n",
      "Sequential Search: \n",
      "Search time taken is : 435.89534530002857\n",
      "~~~~~~~~~~~~~~~~~~~~~~~~~~~~~~~~~~~~~~~~~~~~~~~~~\n",
      "Binary Search Tree: \n",
      "Search time taken is : 497.1453767999774\n",
      "~~~~~~~~~~~~~~~~~~~~~~~~~~~~~~~~~~~~~~~~~~~~~~~~~\n",
      "Balanced Search Tree: \n",
      "Search time taken is : 0.3390561999985948\n",
      "~~~~~~~~~~~~~~~~~~~~~~~~~~~~~~~~~~~~~~~~~~~~~~~~~\n",
      "Search time taken is : 0.295790100004524\n",
      "~~~~~~~~~~~~~~~~~~~~~~~~~~~~~~~~~~~~~~~~~~~~~~~~~\n",
      "Bloom Filter: \n",
      "Search time taken is : 0.5453482000157237\n",
      "~~~~~~~~~~~~~~~~~~~~~~~~~~~~~~~~~~~~~~~~~~~~~~~~~\n",
      "                                                 \n",
      "For String with missing values Case: \n",
      "Sequential Search: \n",
      "Search time taken is : 89.94736130000092\n",
      "~~~~~~~~~~~~~~~~~~~~~~~~~~~~~~~~~~~~~~~~~~~~~~~~~\n",
      "Binary Search Tree: \n",
      "Search time taken is : 0.2658895999775268\n",
      "~~~~~~~~~~~~~~~~~~~~~~~~~~~~~~~~~~~~~~~~~~~~~~~~~\n",
      "Balanced Search Tree: \n",
      "Search time taken is : 0.33980729995528236\n",
      "~~~~~~~~~~~~~~~~~~~~~~~~~~~~~~~~~~~~~~~~~~~~~~~~~\n",
      "Search time taken is : 0.2855457999976352\n",
      "~~~~~~~~~~~~~~~~~~~~~~~~~~~~~~~~~~~~~~~~~~~~~~~~~\n",
      "Bloom Filter: \n",
      "Search time taken is : 0.5743019000510685\n",
      "~~~~~~~~~~~~~~~~~~~~~~~~~~~~~~~~~~~~~~~~~~~~~~~~~\n",
      "                                                 \n",
      "For String with duplicate values Case: \n",
      "Sequential Search: \n",
      "Search time taken is : 82.92179049999686\n",
      "~~~~~~~~~~~~~~~~~~~~~~~~~~~~~~~~~~~~~~~~~~~~~~~~~\n",
      "Binary Search Tree: \n",
      "Search time taken is : 0.26071840000804514\n",
      "~~~~~~~~~~~~~~~~~~~~~~~~~~~~~~~~~~~~~~~~~~~~~~~~~\n",
      "Balanced Search Tree: \n",
      "Search time taken is : 0.28571599995484576\n",
      "~~~~~~~~~~~~~~~~~~~~~~~~~~~~~~~~~~~~~~~~~~~~~~~~~\n",
      "Search time taken is : 0.2668546999921091\n",
      "~~~~~~~~~~~~~~~~~~~~~~~~~~~~~~~~~~~~~~~~~~~~~~~~~\n",
      "Bloom Filter: \n",
      "Search time taken is : 0.420141100010369\n",
      "~~~~~~~~~~~~~~~~~~~~~~~~~~~~~~~~~~~~~~~~~~~~~~~~~\n",
      "                                                 \n",
      "For Strings of distinct integers Case: \n",
      "Sequential Search: \n",
      "Search time taken is : 148.07823430001736\n",
      "~~~~~~~~~~~~~~~~~~~~~~~~~~~~~~~~~~~~~~~~~~~~~~~~~\n",
      "Binary Search Tree: \n",
      "Search time taken is : 0.23875219997717068\n",
      "~~~~~~~~~~~~~~~~~~~~~~~~~~~~~~~~~~~~~~~~~~~~~~~~~\n",
      "Balanced Search Tree: \n",
      "Search time taken is : 0.29488210001727566\n",
      "~~~~~~~~~~~~~~~~~~~~~~~~~~~~~~~~~~~~~~~~~~~~~~~~~\n",
      "Search time taken is : 0.2358142000157386\n",
      "~~~~~~~~~~~~~~~~~~~~~~~~~~~~~~~~~~~~~~~~~~~~~~~~~\n",
      "Bloom Filter: \n",
      "Search time taken is : 0.5907225999981165\n",
      "~~~~~~~~~~~~~~~~~~~~~~~~~~~~~~~~~~~~~~~~~~~~~~~~~\n",
      "                                                 \n",
      "For Strings of distinct floats Case: \n",
      "Sequential Search: \n",
      "Search time taken is : 143.69092309998814\n",
      "~~~~~~~~~~~~~~~~~~~~~~~~~~~~~~~~~~~~~~~~~~~~~~~~~\n",
      "Binary Search Tree: \n",
      "Search time taken is : 0.23383639997337013\n",
      "~~~~~~~~~~~~~~~~~~~~~~~~~~~~~~~~~~~~~~~~~~~~~~~~~\n",
      "Balanced Search Tree: \n",
      "Search time taken is : 0.2991150000016205\n",
      "~~~~~~~~~~~~~~~~~~~~~~~~~~~~~~~~~~~~~~~~~~~~~~~~~\n",
      "Search time taken is : 0.25531599996611476\n",
      "~~~~~~~~~~~~~~~~~~~~~~~~~~~~~~~~~~~~~~~~~~~~~~~~~\n",
      "Bloom Filter: \n",
      "Search time taken is : 0.9995176999946125\n",
      "~~~~~~~~~~~~~~~~~~~~~~~~~~~~~~~~~~~~~~~~~~~~~~~~~\n",
      "                                                 \n",
      "For Strings contain whitespace Case: \n",
      "Sequential Search: \n",
      "Search time taken is : 113.756469200016\n",
      "~~~~~~~~~~~~~~~~~~~~~~~~~~~~~~~~~~~~~~~~~~~~~~~~~\n",
      "Binary Search Tree: \n",
      "Search time taken is : 0.319097800005693\n",
      "~~~~~~~~~~~~~~~~~~~~~~~~~~~~~~~~~~~~~~~~~~~~~~~~~\n",
      "Balanced Search Tree: \n",
      "Search time taken is : 0.3087274999707006\n",
      "~~~~~~~~~~~~~~~~~~~~~~~~~~~~~~~~~~~~~~~~~~~~~~~~~\n",
      "Search time taken is : 0.27797699999064207\n",
      "~~~~~~~~~~~~~~~~~~~~~~~~~~~~~~~~~~~~~~~~~~~~~~~~~\n",
      "Bloom Filter: \n",
      "Search time taken is : 0.6022475999779999\n",
      "~~~~~~~~~~~~~~~~~~~~~~~~~~~~~~~~~~~~~~~~~~~~~~~~~\n",
      "                                                 \n",
      "For Palindrome strings Case: \n",
      "Sequential Search: \n",
      "Search time taken is : 145.39250289998017\n",
      "~~~~~~~~~~~~~~~~~~~~~~~~~~~~~~~~~~~~~~~~~~~~~~~~~\n",
      "Binary Search Tree: \n",
      "Search time taken is : 0.2758116999757476\n",
      "~~~~~~~~~~~~~~~~~~~~~~~~~~~~~~~~~~~~~~~~~~~~~~~~~\n",
      "Balanced Search Tree: \n",
      "Search time taken is : 0.3172212000354193\n",
      "~~~~~~~~~~~~~~~~~~~~~~~~~~~~~~~~~~~~~~~~~~~~~~~~~\n",
      "Search time taken is : 0.27408100001048297\n",
      "~~~~~~~~~~~~~~~~~~~~~~~~~~~~~~~~~~~~~~~~~~~~~~~~~\n",
      "Bloom Filter: \n",
      "Search time taken is : 0.5465753999887966\n",
      "~~~~~~~~~~~~~~~~~~~~~~~~~~~~~~~~~~~~~~~~~~~~~~~~~\n",
      "                                                 \n",
      "For Strings with highly variable lenghts Case: \n",
      "Sequential Search: \n",
      "Search time taken is : 170.1318164000404\n",
      "~~~~~~~~~~~~~~~~~~~~~~~~~~~~~~~~~~~~~~~~~~~~~~~~~\n",
      "Binary Search Tree: \n",
      "Search time taken is : 0.32693989999825135\n",
      "~~~~~~~~~~~~~~~~~~~~~~~~~~~~~~~~~~~~~~~~~~~~~~~~~\n",
      "Balanced Search Tree: \n",
      "Search time taken is : 0.32744930003536865\n",
      "~~~~~~~~~~~~~~~~~~~~~~~~~~~~~~~~~~~~~~~~~~~~~~~~~\n",
      "Search time taken is : 0.29186810000101104\n",
      "~~~~~~~~~~~~~~~~~~~~~~~~~~~~~~~~~~~~~~~~~~~~~~~~~\n",
      "Bloom Filter: \n",
      "Search time taken is : 5.782160200004\n",
      "~~~~~~~~~~~~~~~~~~~~~~~~~~~~~~~~~~~~~~~~~~~~~~~~~\n",
      "                                                 \n",
      "For Strings with repeating patterns Case: \n",
      "Sequential Search: \n",
      "Search time taken is : 107.09387490001973\n",
      "~~~~~~~~~~~~~~~~~~~~~~~~~~~~~~~~~~~~~~~~~~~~~~~~~\n",
      "Binary Search Tree: \n",
      "Search time taken is : 0.369967499980703\n",
      "~~~~~~~~~~~~~~~~~~~~~~~~~~~~~~~~~~~~~~~~~~~~~~~~~\n",
      "Balanced Search Tree: \n",
      "Search time taken is : 0.40006760001415387\n",
      "~~~~~~~~~~~~~~~~~~~~~~~~~~~~~~~~~~~~~~~~~~~~~~~~~\n",
      "Search time taken is : 0.3370998000027612\n",
      "~~~~~~~~~~~~~~~~~~~~~~~~~~~~~~~~~~~~~~~~~~~~~~~~~\n",
      "Bloom Filter: \n",
      "Search time taken is : 1.2365617000032216\n",
      "~~~~~~~~~~~~~~~~~~~~~~~~~~~~~~~~~~~~~~~~~~~~~~~~~\n",
      "                                                 \n"
     ]
    }
   ],
   "source": [
    "SearchRes1, SearchRes2, SearchRes3, SearchRes4, SearchRes5 = [], [], [], [], []\n",
    "for i in range (len(synSearchList)):\n",
    "    print(\"For\", SyntheticDataNames[i], \"Case: \")\n",
    "    print(\"Sequential Search: \")\n",
    "    sres1 = SearchTime2(SEQSyn[i], synSearchList[i])\n",
    "    SearchRes1.append(sres1)\n",
    "    print(\"~~~~~~~~~~~~~~~~~~~~~~~~~~~~~~~~~~~~~~~~~~~~~~~~~\")\n",
    "    print(\"Binary Search Tree: \")\n",
    "    sres2 = SearchTime2(BSTSyn[i], synSearchList[i])\n",
    "    SearchRes2.append(sres2)\n",
    "    print(\"~~~~~~~~~~~~~~~~~~~~~~~~~~~~~~~~~~~~~~~~~~~~~~~~~\")\n",
    "    print(\"Red Black Balanced Search Tree: \")\n",
    "    sres3 = SearchTime2(RBTSyn[i], synSearchList[i])\n",
    "    SearchRes3.append(sres3)\n",
    "    print(\"~~~~~~~~~~~~~~~~~~~~~~~~~~~~~~~~~~~~~~~~~~~~~~~~~\")\n",
    "    print(\"2-3 Balanced Search Tree: \")\n",
    "    sres4 = SearchTime2(TTSTSyn[i], synSearchList[i])\n",
    "    SearchRes4.append(sres4)\n",
    "    print(\"~~~~~~~~~~~~~~~~~~~~~~~~~~~~~~~~~~~~~~~~~~~~~~~~~\")\n",
    "    print(\"Bloom Filter: \")\n",
    "    sres5 = SearchTime2(BTSyn[i], synSearchList[i])\n",
    "    SearchRes5.append(sres5)\n",
    "    print(\"~~~~~~~~~~~~~~~~~~~~~~~~~~~~~~~~~~~~~~~~~~~~~~~~~\")\n",
    "    print(\"                                                 \")"
   ]
  },
  {
   "cell_type": "code",
   "execution_count": 116,
   "id": "f71c7901",
   "metadata": {},
   "outputs": [
    {
     "data": {
      "text/plain": [
       "[False,\n",
       " False,\n",
       " False,\n",
       " False,\n",
       " False,\n",
       " False,\n",
       " False,\n",
       " False,\n",
       " False,\n",
       " False,\n",
       " False,\n",
       " False,\n",
       " False]"
      ]
     },
     "execution_count": 116,
     "metadata": {},
     "output_type": "execute_result"
    }
   ],
   "source": [
    "SyntheicSearchResS = []\n",
    "for i in range(len(SyntheticDataList)):\n",
    "    SyntheicSearchList = [SearchRes1[i], SearchRes2[i], SearchRes3[i], SearchRes4[i], \n",
    "                          SearchRes5[i]]\n",
    "    SyntheicSearchRes = CheckRes(SyntheicSearchList)\n",
    "    SyntheicSearchResS.append(SyntheicSearchRes)\n",
    "SyntheicSearchResS"
   ]
  },
  {
   "cell_type": "code",
   "execution_count": 117,
   "id": "442ad02c",
   "metadata": {
    "scrolled": true
   },
   "outputs": [],
   "source": [
    "SyntheicSearchResS = []\n",
    "for i in range(len(SyntheticDataList)):\n",
    "    SyntheicSearchList = [SearchRes1[i], SearchRes2[i], SearchRes3[i], SearchRes4[i], \n",
    "                          SearchRes5[i]]\n",
    "    for j in range(1, len(SyntheicSearchList)):\n",
    "        for k in range(len(SyntheicSearchList[j])):\n",
    "            if SyntheicSearchList[j][k] != SearchRes1[i][k]:\n",
    "                SyntheicSearchResS.append([False, j, k])\n",
    "# SyntheicSearchResS"
   ]
  },
  {
   "cell_type": "code",
   "execution_count": 118,
   "id": "3fd4604d",
   "metadata": {},
   "outputs": [
    {
     "name": "stdout",
     "output_type": "stream",
     "text": [
      "The False-Positive-Rate of Bllom Filter in Syntheic Data: 0.017056153846153846\n"
     ]
    }
   ],
   "source": [
    "print(\"The False-Positive-Rate of Bloom Filter in Syntheic Data:\", \n",
    "      len(SyntheicSearchResS) / (datasize * len(SyntheticDataList)))"
   ]
  },
  {
   "cell_type": "markdown",
   "id": "1f185003",
   "metadata": {},
   "source": [
    "## Visualization"
   ]
  },
  {
   "cell_type": "code",
   "execution_count": 131,
   "id": "7ba8cc24",
   "metadata": {},
   "outputs": [
    {
     "data": {
      "image/png": "[encoded data removed]",
      "text/plain": [
       "<Figure size 640x480 with 1 Axes>"
      ]
     },
     "metadata": {},
     "output_type": "display_data"
    }
   ],
   "source": [
    "# experimental  data \n",
    "# inserting function\n",
    "# seperating different files -- same colour points to same file, same symbol points to same Searching Algorithm\n",
    "# circles -- SQS    diamonds -- BST    stars -- RBT     triangle down -- BF\n",
    "# blue -- word1    green -- word2    red -- word3\n",
    "\n",
    "import numpy as np\n",
    "import pylab as pb\n",
    "\n",
    "PlotI = pb.subplot(111)\n",
    "PlotI.set_xlabel('The Number of Times')\n",
    "PlotI.set_ylabel('Time Taken')\n",
    "PlotI.set_title('Inserting time for experimental data')\n",
    "\n",
    "def plotOfInserting(classname, datadict, marker):\n",
    "    \n",
    "    classlist = []\n",
    "\n",
    "    colors = {\"'test1-mobydick.txt'\": 'b', \"'test2-warpeace.txt'\": 'g', \"'test3-dickens.txt'\": 'r'}\n",
    "\n",
    "    for key in datadict.keys():\n",
    "        tempdata = datadict[key]\n",
    "        \n",
    "        algorithm = classname()\n",
    "        if str(classname) == str(BloomFilterSet):\n",
    "            algorithm.initVariables(len(tempdata), 0.01, hashFunctions)\n",
    "        \n",
    "        aryx = np.array([])\n",
    "        aryy = np.array([])\n",
    "        \n",
    "        for i in range(1,11):\n",
    "            aryx = np.append(aryx,i)\n",
    "            InsertStart = timeit.default_timer()\n",
    "            for j in range(i):\n",
    "                seen = {}\n",
    "                for word in tempdata:\n",
    "                    if word is not None and word not in seen:\n",
    "                        seen[word] = True\n",
    "                        inserted = algorithm.insertElement(word)\n",
    "            InsertEnd = timeit.default_timer()\n",
    "            InsertTime = InsertEnd - InsertStart\n",
    "            aryy = np.append(aryy,InsertTime) \n",
    "        \n",
    "        color = colors[key]\n",
    "        PlotI.plot(aryx,aryy,c=color,marker=marker)\n",
    "\n",
    "    classlist.append(algorithm)\n",
    "    return classlist\n",
    "\n",
    "SQSs = plotOfInserting(SequentialSearchSet, files, 'o')\n",
    "BSTs = plotOfInserting(BinarySearchTreeSet, files, 'D')\n",
    "RBTs = plotOfInserting(BalancedSearchTreeSet, files, '*')\n",
    "BFs = plotOfInserting(BloomFilterSet, files, 'v')"
   ]
  }
 ],
 "metadata": {
  "kernelspec": {
   "display_name": "Python 3 (ipykernel)",
   "language": "python",
   "name": "python3"
  },
  "language_info": {
   "codemirror_mode": {
    "name": "ipython",
    "version": 3
   },
   "file_extension": ".py",
   "mimetype": "text/x-python",
   "name": "python",
   "nbconvert_exporter": "python",
   "pygments_lexer": "ipython3",
   "version": "3.10.4"
  }
 },
 "nbformat": 4,
 "nbformat_minor": 5
}
