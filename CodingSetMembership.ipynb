{
 "cells": [
  {
   "cell_type": "markdown",
   "id": "b00da59f",
   "metadata": {},
   "source": [
    "# Set Membership Coursework"
   ]
  },
  {
   "cell_type": "code",
   "execution_count": 71,
   "id": "fb108ffa",
   "metadata": {},
   "outputs": [],
   "source": [
    "import random\n",
    "import string\n",
    "import timeit\n",
    "from bitarray import bitarray"
   ]
  },
  {
   "cell_type": "markdown",
   "id": "f9b1bd12",
   "metadata": {},
   "source": [
    "## 1. Implementeation"
   ]
  },
  {
   "cell_type": "markdown",
   "id": "7479a715",
   "metadata": {},
   "source": [
    "### Sequential Search "
   ]
  },
  {
   "cell_type": "code",
   "execution_count": 72,
   "id": "a191de21",
   "metadata": {},
   "outputs": [],
   "source": [
    "class SequentialSearchSet():\n",
    "    \n",
    "    def __init__(self):\n",
    "        self.items = []           \n",
    "        \n",
    "    def insertElement(self, element):\n",
    "        inserted = False\n",
    "        if type(element) == str:\n",
    "            self.items.append(element)\n",
    "            inserted = True\n",
    "        return inserted   \n",
    "\n",
    "    def searchElement(self, element):\n",
    "        found = False     \n",
    "        for item1 in self.items:\n",
    "            if item1 == element:\n",
    "                found = True\n",
    "                return found\n",
    "        return found   "
   ]
  },
  {
   "cell_type": "markdown",
   "id": "0a78f7ac",
   "metadata": {},
   "source": [
    "Time Complexity: \n",
    "- Insert an element is O(n^2)\n",
    "- Search an element is O(n)\n",
    "\n",
    "Space Complexity: \n",
    "- O(n)"
   ]
  },
  {
   "cell_type": "markdown",
   "id": "5b2faf0e",
   "metadata": {},
   "source": [
    "### Binary Search Tree"
   ]
  },
  {
   "cell_type": "code",
   "execution_count": 73,
   "id": "ea9826d3",
   "metadata": {},
   "outputs": [],
   "source": [
    "class RecursiveNode:\n",
    "    \n",
    "    def __init__(self, value):\n",
    "        self.value = value\n",
    "        self.left = None\n",
    "        self.right = None\n",
    "\n",
    "    def get(self, element):\n",
    "        if self.value == element:\n",
    "            return True\n",
    "        elif element < self.value and self.left:\n",
    "            return self.left.get(element)\n",
    "        elif element > self.value and self.right:\n",
    "            return self.right.get(element)\n",
    "        return False\n",
    "\n",
    "    def put(self, element):\n",
    "        if self.value == None:\n",
    "            self.value = element\n",
    "            return True\n",
    "        elif element == self.value:\n",
    "            self.value = element\n",
    "            return True\n",
    "        elif element < self.value:\n",
    "            if self.left is None:\n",
    "                self.left = RecursiveNode(element)\n",
    "                return True\n",
    "            else: \n",
    "                return self.left.put(element)\n",
    "        elif element > self.value:\n",
    "            if self.right is None:\n",
    "                self.right = RecursiveNode(element)\n",
    "                return True\n",
    "            else: \n",
    "                return self.right.put(element)\n",
    "        return False\n",
    "\n",
    "class IterativeNode:\n",
    "    \n",
    "    def __init__(self, value):\n",
    "        self.value = value\n",
    "        self.left = None\n",
    "        self.right = None\n",
    "\n",
    "    def get(self, element):\n",
    "        current = self\n",
    "        while current is not None:\n",
    "            if current.value == element:\n",
    "                return True\n",
    "            elif element < current.value:\n",
    "                current = current.left\n",
    "            elif element > current.value:\n",
    "                current = current.right\n",
    "            else:\n",
    "                print(\"I did not plan for this case\")\n",
    "        return False\n",
    "\n",
    "\n",
    "    def put(self, element):\n",
    "        if self.value == None:\n",
    "            self.value = element\n",
    "            return True\n",
    "        \n",
    "        current = self\n",
    "        while current is not None:\n",
    "            if element < current.value:\n",
    "                if current.left is None:\n",
    "                    current.left = IterativeNode(element)\n",
    "                    return True\n",
    "                else:\n",
    "                    current = current.left\n",
    "\n",
    "            elif element > current.value:\n",
    "                if current.right is None:\n",
    "                    current.right = IterativeNode(element)\n",
    "                    return True\n",
    "                else:\n",
    "                    current = current.right\n",
    "\n",
    "            elif element == current.value:\n",
    "                current.value = element\n",
    "                return True\n",
    "            \n",
    "            else:\n",
    "                print(\"I didn't plan for this case\")\n",
    "\n",
    "\n",
    "class BinarySearchTreeSet:\n",
    "    \n",
    "    def __init__(self):\n",
    "        self.bst = IterativeNode(None)\n",
    "\n",
    "    def insertElement(self, element):\n",
    "        inserted = False\n",
    "        inserted = self.bst.put(element) \n",
    "        return inserted\n",
    "\n",
    "    def searchElement(self, element):     \n",
    "        found = False \n",
    "        found = self.bst.get(element)\n",
    "        return found"
   ]
  },
  {
   "cell_type": "markdown",
   "id": "2c0142e5",
   "metadata": {},
   "source": [
    "Time Complexity:\n",
    "\n",
    "Insert: \n",
    "- Average: O(log n)\n",
    "- Worst: O(n)\n",
    "\n",
    "Search:\n",
    "- Average: O(log n)\n",
    "- Worst: O(n)\n",
    "\n",
    "Space Complexity:\n",
    "- O(n)"
   ]
  },
  {
   "cell_type": "markdown",
   "id": "d255329f",
   "metadata": {},
   "source": [
    "### Balanced Search Tree"
   ]
  },
  {
   "cell_type": "code",
   "execution_count": 74,
   "id": "fd4eb6cf",
   "metadata": {},
   "outputs": [],
   "source": [
    "class BalancedSearchTreeSet:\n",
    "    R = True\n",
    "    B = False\n",
    "    # R refers to Red; B refers to Black\n",
    "    \n",
    "    class Nodes:\n",
    "        def __init__(self, val, colour):\n",
    "            self.val = val\n",
    "            self.colour = colour\n",
    "            self.left = None\n",
    "            self.right = None\n",
    "            \n",
    "    def __init__(self):\n",
    "        self.root = None\n",
    "        \n",
    "    def searchElement(self, element):\n",
    "        found = False\n",
    "        found = self.search(self.root, element)\n",
    "        return found\n",
    "    \n",
    "    def search(self, node, val):\n",
    "        if node is None:\n",
    "            return False\n",
    "        else:\n",
    "            if node.val == val:\n",
    "                return True\n",
    "            elif node.val > val:\n",
    "                return self.search(node.left, val)\n",
    "            else:\n",
    "                return self.search(node.right, val)\n",
    "    \n",
    "    def insertElement(self, element):\n",
    "        inserted = False\n",
    "        if self.root is None:\n",
    "            self.root = self.Nodes(element, self.B)\n",
    "            inserted = True\n",
    "        else:\n",
    "            self.root, inserted = self.insert(self.root, element)\n",
    "            self.root.colour = self.B\n",
    "        return inserted\n",
    "\n",
    "    def insert(self, node, val):\n",
    "        if node is None:\n",
    "            return self.Nodes(val, self.R), True\n",
    "        if val < node.val:\n",
    "            node.left, inserted = self.insert(node.left, val)\n",
    "        elif val > node.val:\n",
    "            node.right, inserted = self.insert(node.right, val)\n",
    "        else:\n",
    "            # value already exists, do nothing\n",
    "            return node, False\n",
    "\n",
    "        # perform rotations and colour flips\n",
    "        if self.isR(node.right) and not self.isR(node.left):\n",
    "            node = self.leftRotate(node)\n",
    "        if self.isR(node.left) and self.isR(node.left.left):\n",
    "            node = self.rightRotate(node)\n",
    "        if self.isR(node.left) and self.isR(node.right):\n",
    "            self.flipColour(node)\n",
    "\n",
    "        return node, inserted\n",
    "\n",
    "    def isR(self, node):\n",
    "        if node is None:\n",
    "            return False\n",
    "        return node.colour == self.R\n",
    "    \n",
    "    def leftRotate(self, node):\n",
    "        x = node.right\n",
    "        node.right = x.left\n",
    "        x.left = node\n",
    "        x.colour = node.colour\n",
    "        node.colour = self.R\n",
    "        return x\n",
    "    \n",
    "    def rightRotate(self, node):\n",
    "        x = node.left\n",
    "        node.left = x.right\n",
    "        x.right = node\n",
    "        x.colour = node.colour\n",
    "        node.colour = self.R\n",
    "        return x\n",
    "    \n",
    "    def flipColour(self, node):\n",
    "        node.colour = not node.colour\n",
    "        node.left.colour = self.B\n",
    "        node.right.colour = self.B"
   ]
  },
  {
   "cell_type": "markdown",
   "id": "6b624636",
   "metadata": {},
   "source": [
    "Time Complexity: \n",
    "\n",
    "- Insert an element is O(log n)\n",
    "- Search an element is O(log n)\n",
    "\n",
    "Space Complexity: \n",
    "\n",
    "- O(n)"
   ]
  },
  {
   "cell_type": "markdown",
   "id": "8d707375",
   "metadata": {},
   "source": [
    "### 2-3 Search Tree"
   ]
  },
  {
   "cell_type": "code",
   "execution_count": 75,
   "id": "41f6f73f",
   "metadata": {},
   "outputs": [],
   "source": [
    "class Node2:\n",
    "    def __init__(self, values, parent = None):\n",
    "        self.values = [values]\n",
    "        self.parent = parent\n",
    "        self.child = []\n",
    "    \n",
    "    def is_leaf(self):\n",
    "        return len(self.child) == 0\n",
    "    \n",
    "    def __lt__(self, other):\n",
    "        return self.values[0] < other.values[0]\n",
    "    \n",
    "    def add(self, new_node):\n",
    "        for child in new_node.child:\n",
    "            child.parent = self\n",
    "        self.values.extend(new_node.values)\n",
    "        self.values.sort()\n",
    "        self.child.extend(new_node.child)\n",
    "        if len(self.child)>1:\n",
    "            self.child.sort()\n",
    "        if len(self.values)>2:\n",
    "            self.split()\n",
    "    \n",
    "    def _insert(self, new_node):\n",
    "        if self.is_leaf() == True:\n",
    "            if new_node.values[0] not in self.values:\n",
    "                self.add(new_node)\n",
    "                return True\n",
    "            return False\n",
    "        elif new_node.values[0] > self.values[-1]:\n",
    "            return self.child[-1]._insert(new_node)\n",
    "        else:\n",
    "            for i in range(0, len(self.values)):\n",
    "                if new_node.values[0] < self.values[i]:\n",
    "                    return self.child[i]._insert(new_node)\n",
    "                    \n",
    "    \n",
    "    def split(self):\n",
    "        left_child = Node2(self.values[0], self)\n",
    "        right_child = Node2(self.values[2], self)\n",
    "        if len(self.child) != 0:\n",
    "            self.child[0].parent = left_child\n",
    "            self.child[1].parent = left_child\n",
    "            self.child[2].parent = right_child\n",
    "            self.child[3].parent = right_child\n",
    "            left_child.child = [self.child[0], self.child[1]]\n",
    "            right_child.child = [self.child[2], self.child[3]]\n",
    "        \n",
    "        #promote middle node\n",
    "        self.child = [left_child]\n",
    "        self.child.append(right_child)\n",
    "        self.values = [self.values[1]]\n",
    "\n",
    "        if self.parent is not None:\n",
    "            if self in self.parent.child:\n",
    "                self.parent.child.remove(self)\n",
    "            self.parent.add(self)\n",
    "        else:\n",
    "            left_child.parent = self\n",
    "            right_child.parent = self\n",
    "\n",
    "    def _find(self, element):\n",
    "        if element in self.values:\n",
    "            return True\n",
    "        elif self.is_leaf() == True:\n",
    "            return False\n",
    "        elif element > self.values[-1]:\n",
    "            return self.child[-1]._find(element)\n",
    "        else:\n",
    "            for i in range (0, len(self.values)):\n",
    "                if element < self.values[i]:\n",
    "                    return self.child[i]._find(element)\n",
    "        \n",
    "class TwoThreeBSTSet:\n",
    "    def __init__(self):\n",
    "        self.root = None\n",
    "    \n",
    "    def insertElement(self, element):\n",
    "        inserted = False\n",
    "        new_node = Node2(element)\n",
    "        if self.root is None:\n",
    "            self.root = new_node\n",
    "        else:\n",
    "            inserted = self.root._insert(new_node)\n",
    "            if not inserted:\n",
    "                return False\n",
    "            #re-establishes the root to the top of the tree\n",
    "            while self.root.parent is not None:\n",
    "                self.root = self.root.parent\n",
    "        return True \n",
    "    \n",
    "    def searchElement(self, element):\n",
    "        found = False\n",
    "        found =self.root._find(element)\n",
    "        return found"
   ]
  },
  {
   "cell_type": "markdown",
   "id": "369c0ddb",
   "metadata": {},
   "source": [
    "Time Complexity:\n",
    "- Insert an element is O(log n)\n",
    "- Search an element is O(log n)\n",
    "\n",
    "Space Complexity:\n",
    "- O(n)"
   ]
  },
  {
   "cell_type": "markdown",
   "id": "108b949c",
   "metadata": {},
   "source": [
    "### Bloom Filter"
   ]
  },
  {
   "cell_type": "code",
   "execution_count": 76,
   "id": "d701c2d2",
   "metadata": {},
   "outputs": [],
   "source": [
    "class BloomFilterSet:\n",
    "    \n",
    "    def __init__(self):\n",
    "        self.HashFunctions = None\n",
    "        self.hashNum = 0\n",
    "        self.size = 0\n",
    "        self.bitArray = None\n",
    "    \n",
    "    def initVariables(self, ItemNum, FPProb, HashFunctions):\n",
    "        # ItemNum : int, Number of items expected to be stored in bloom filter\n",
    "        # FPProb : float, False Positive probability in decimal\n",
    "        # HashFunctions: list, number of hash functions to use\n",
    "        self.HashFunctions = HashFunctions\n",
    "        self.hashNum = len(HashFunctions)\n",
    "        # Total size of bit array\n",
    "        self.size = self.getSize(ItemNum, FPProb)\n",
    "        # Bit array of given size, and initialize all bits as 0 (False)\n",
    "        self.bitArray = bitarray(self.size)\n",
    "        self.bitArray.setall(0)\n",
    "\n",
    "    def insertElement(self, element):\n",
    "        inserted = False\n",
    "        tempIndex = []\n",
    "        for function in self.HashFunctions:\n",
    "            index = function(element) % self.size\n",
    "            self.bitArray[index] = True\n",
    "            tempIndex.append(self.bitArray[index])\n",
    "        if False not in tempIndex:\n",
    "            inserted = True\n",
    "        return inserted\n",
    "\n",
    "    def searchElement(self, element):\n",
    "        found = False\n",
    "        count = 0\n",
    "        for function in self.HashFunctions:\n",
    "            index = function(element) % self.size\n",
    "            if not self.bitArray[index] == False:\n",
    "                count += 1\n",
    "            else:\n",
    "                return found\n",
    "        if count == len(self.HashFunctions):\n",
    "            found = True\n",
    "        return found\n",
    "\n",
    "    def getSize(self, n, p):\n",
    "        # m = -(n * lg(p)) / (lg(2)^2)\n",
    "        # n : number of items expected to be stored in filter\n",
    "        # p : False Positive probability in decimal\n",
    "        m = -(n * self.myLog(p)) / (self.myLog(2) ** 2)\n",
    "        return int(m)\n",
    "    \n",
    "    def myLog(self, n):\n",
    "        if n <= 0:\n",
    "            raise ValueError(\"logarithm is undefined for non-positive values\")\n",
    "        if n == 1:\n",
    "            return 0\n",
    "        if n < 1:\n",
    "            # log(xn) = -log(1/n) for n < 1\n",
    "            return -self.myLog(1 / n)\n",
    "        # Use the taylor series approximation for log(n) where |n-1| < 1\n",
    "        taylor = (n - 1) / float(n + 1)\n",
    "        term = taylor\n",
    "        total = taylor\n",
    "        num = 1\n",
    "        while abs(term) > 1e-15:\n",
    "            num += 2\n",
    "            term *= taylor * taylor / float(num * (num - 1))\n",
    "            total += term\n",
    "        return 2 * total"
   ]
  },
  {
   "cell_type": "code",
   "execution_count": 77,
   "id": "f3e54778",
   "metadata": {},
   "outputs": [],
   "source": [
    "def builtinHash(string):\n",
    "    return hash(string)\n",
    "\n",
    "def bernsteinHash(string):\n",
    "    hashValue = 5381\n",
    "    for char in string:\n",
    "        hashValue = ((hashValue << 5) + hashValue) + ord(char)\n",
    "    return hashValue\n",
    "\n",
    "def fnvHash(string):\n",
    "    hashValue = 2166136261\n",
    "    for char in string:\n",
    "        hashValue = (hashValue * 16777619) ^ ord(char)\n",
    "    return hashValue\n",
    "\n",
    "def jenkinsHash(string):\n",
    "    hashValue = 0\n",
    "    for char in string:\n",
    "        hashValue += ord(char)\n",
    "        hashValue += (hashValue << 10)\n",
    "        hashValue ^= (hashValue >> 6)\n",
    "    hashValue += (hashValue << 3)\n",
    "    hashValue ^= (hashValue >> 11)\n",
    "    hashValue += (hashValue << 15)\n",
    "    return hashValue\n",
    "\n",
    "def djb2Hash(string):\n",
    "    hashValue = 5381\n",
    "    for char in string:\n",
    "        hashValue = ((hashValue << 5) + hashValue) + ord(char)\n",
    "    return hashValue\n",
    "\n",
    "def sdbmHash(string):\n",
    "    hashValue = 0\n",
    "    for char in string:\n",
    "        hashValue = ord(char) + (hashValue << 6) + (hashValue << 16) - hashValue\n",
    "    return hashValue\n",
    "\n",
    "def fnv1aHash(string):\n",
    "    hashValue = 2166136261\n",
    "    for char in string:\n",
    "        hashValue ^= ord(char)\n",
    "        hashValue *= 16777619\n",
    "    return hashValue"
   ]
  },
  {
   "cell_type": "code",
   "execution_count": 8,
   "id": "1a6e875d",
   "metadata": {},
   "outputs": [
    {
     "name": "stdout",
     "output_type": "stream",
     "text": [
      "The False-Positive-Rate:  0.0\n"
     ]
    }
   ],
   "source": [
    "Alphabets = list(string.ascii_letters)\n",
    "randomword = []\n",
    "for a in range(10000):\n",
    "    temp = ''.join(random.choice(Alphabets) for t in range(random.randint(100, 200)))\n",
    "    randomword.append(temp)\n",
    "\n",
    "functions = [builtinHash, bernsteinHash, fnvHash, jenkinsHash, \n",
    "             djb2Hash, sdbmHash, fnv1aHash]\n",
    "bf = BloomFilterSet()\n",
    "bf.initVariables(10000, 0.01, functions)\n",
    "testnum = 0\n",
    "for ws in randomword:\n",
    "    if bf.searchElement(ws) == True:\n",
    "        testnum += 1\n",
    "\n",
    "print(\"The False-Positive-Rate: \", testnum / len(randomword))"
   ]
  },
  {
   "cell_type": "markdown",
   "id": "d784b54d",
   "metadata": {},
   "source": [
    "Time Complexity: \n",
    "- Creating the Bloom filter is O(kn)\n",
    "- Insert and Search an element: O(k)\n",
    "- k is the number of hash functions and n is the number of elements\n",
    "\n",
    "Space Complexity: \n",
    "- O(kb), where k is the number of hash functions and b is the bits number"
   ]
  },
  {
   "cell_type": "code",
   "execution_count": null,
   "id": "26dbaa77",
   "metadata": {},
   "outputs": [],
   "source": []
  },
  {
   "cell_type": "markdown",
   "id": "fb097f73",
   "metadata": {},
   "source": [
    "## 2. Experimentally Evaluation"
   ]
  },
  {
   "cell_type": "markdown",
   "id": "427c6435",
   "metadata": {},
   "source": [
    "### Using Real Data"
   ]
  },
  {
   "cell_type": "code",
   "execution_count": 9,
   "id": "e286902e",
   "metadata": {},
   "outputs": [],
   "source": [
    "def ReadFile(filepath):\n",
    "    with open(filepath) as f:\n",
    "        for line in f:\n",
    "            words = line.strip().split()\n",
    "    return words"
   ]
  },
  {
   "cell_type": "code",
   "execution_count": 10,
   "id": "e171cccb",
   "metadata": {},
   "outputs": [
    {
     "name": "stdout",
     "output_type": "stream",
     "text": [
      "209329 564236 5149661\n"
     ]
    }
   ],
   "source": [
    "words1 = ReadFile(\"./data/testfiles/test1-mobydick.txt\")\n",
    "words2 = ReadFile(\"./data/testfiles/test2-warpeace.txt\")\n",
    "words3 = ReadFile(\"./data/testfiles/test3-dickens.txt\")\n",
    "\n",
    "files = {\"'test1-mobydick.txt'\": words1, \"'test2-warpeace.txt'\": words2,\n",
    "         \"'test3-dickens.txt'\": words3}\n",
    "print(len(words1), len(words2), len(words3))"
   ]
  },
  {
   "cell_type": "code",
   "execution_count": 11,
   "id": "cf9bf466",
   "metadata": {},
   "outputs": [
    {
     "data": {
      "text/plain": [
       "544"
      ]
     },
     "execution_count": 11,
     "metadata": {},
     "output_type": "execute_result"
    }
   ],
   "source": [
    "wordsforsearch = []\n",
    "with open(\"./data/testfiles/test-search.txt\") as fsearch:\n",
    "    for line in fsearch:\n",
    "        wordsforsearch.append(line.strip())\n",
    "        \n",
    "len(wordsforsearch)"
   ]
  },
  {
   "cell_type": "code",
   "execution_count": 12,
   "id": "95d9771d",
   "metadata": {},
   "outputs": [],
   "source": [
    "hashFunctions = [builtinHash, bernsteinHash, fnvHash, jenkinsHash, \n",
    "                 djb2Hash, sdbmHash, fnv1aHash]"
   ]
  },
  {
   "cell_type": "code",
   "execution_count": 45,
   "id": "8c5d1ff7",
   "metadata": {},
   "outputs": [],
   "source": [
    "def CheckRes(reslist):\n",
    "    return all(all(x == reslist[0][i] for x in lst) for i, lst in enumerate(zip(*reslist)))"
   ]
  },
  {
   "cell_type": "markdown",
   "id": "7925ce26",
   "metadata": {},
   "source": [
    "#### The total amount of time of all insert operations"
   ]
  },
  {
   "cell_type": "code",
   "execution_count": 13,
   "id": "5a8ad56f",
   "metadata": {},
   "outputs": [],
   "source": [
    "def InsertTime(classname, datadict):\n",
    "    res = []\n",
    "    classlist = []\n",
    "    \n",
    "    for key in datadict.keys():\n",
    "        tempdata = datadict[key]\n",
    "        algorithm = classname()\n",
    "        if str(classname) == str(BloomFilterSet):\n",
    "            algorithm.initVariables(len(tempdata), 0.01, hashFunctions)\n",
    "\n",
    "        seen = {}\n",
    "        InsertStart = timeit.default_timer()\n",
    "        for word in tempdata:\n",
    "            if word is not None and word not in seen:\n",
    "                seen[word] = True\n",
    "                inserted = algorithm.insertElement(word)\n",
    "                res.append(inserted)\n",
    "        InsertEnd = timeit.default_timer()\n",
    "        InsertTime = InsertEnd - InsertStart\n",
    "        print(\"Insert time taken for\", key, \"is :\", InsertTime)\n",
    "        classlist.append(algorithm)\n",
    "    return classlist, res"
   ]
  },
  {
   "cell_type": "code",
   "execution_count": 38,
   "id": "41ff87ba",
   "metadata": {},
   "outputs": [
    {
     "name": "stdout",
     "output_type": "stream",
     "text": [
      "Insert time taken for 'test1-mobydick.txt' is : 0.0499312000010832\n",
      "Insert time taken for 'test2-warpeace.txt' is : 0.1449376000000484\n",
      "Insert time taken for 'test3-dickens.txt' is : 0.8519992000001366\n"
     ]
    }
   ],
   "source": [
    "# Sequential Search\n",
    "SEQs, SeqInsertRes = InsertTime(SequentialSearchSet, files)"
   ]
  },
  {
   "cell_type": "code",
   "execution_count": 39,
   "id": "f69c8a50",
   "metadata": {
    "scrolled": true
   },
   "outputs": [
    {
     "name": "stdout",
     "output_type": "stream",
     "text": [
      "Insert time taken for 'test1-mobydick.txt' is : 0.14003570000022592\n",
      "Insert time taken for 'test2-warpeace.txt' is : 0.15579070000057982\n",
      "Insert time taken for 'test3-dickens.txt' is : 1.3844753000012133\n"
     ]
    }
   ],
   "source": [
    "# Binary Search Tree\n",
    "BSTs, BstInsertRes = InsertTime(BinarySearchTreeSet, files)"
   ]
  },
  {
   "cell_type": "code",
   "execution_count": 40,
   "id": "399c5214",
   "metadata": {},
   "outputs": [
    {
     "name": "stdout",
     "output_type": "stream",
     "text": [
      "Insert time taken for 'test1-mobydick.txt' is : 0.3975929999996879\n",
      "Insert time taken for 'test2-warpeace.txt' is : 0.45641059999979916\n",
      "Insert time taken for 'test3-dickens.txt' is : 2.6554304999990563\n"
     ]
    }
   ],
   "source": [
    "# Balanced Search Tree\n",
    "RBTs, BalstInsertRes = InsertTime(BalancedSearchTreeSet, files)"
   ]
  },
  {
   "cell_type": "code",
   "execution_count": 41,
   "id": "458b5af8",
   "metadata": {},
   "outputs": [
    {
     "name": "stdout",
     "output_type": "stream",
     "text": [
      "Insert time taken for 'test1-mobydick.txt' is : 0.4201902999993763\n",
      "Insert time taken for 'test2-warpeace.txt' is : 0.4309458000006998\n",
      "Insert time taken for 'test3-dickens.txt' is : 2.628905300000042\n"
     ]
    }
   ],
   "source": [
    "# Balanced Search Tree -- 2-3 Search Tree\n",
    "TTSTs, TtstInsertRes = InsertTime(TwoThreeBSTSet, files)"
   ]
  },
  {
   "cell_type": "code",
   "execution_count": 42,
   "id": "0d1d655b",
   "metadata": {},
   "outputs": [
    {
     "name": "stdout",
     "output_type": "stream",
     "text": [
      "Insert time taken for 'test1-mobydick.txt' is : 0.38959819999945466\n",
      "Insert time taken for 'test2-warpeace.txt' is : 0.39845950000017183\n",
      "Insert time taken for 'test3-dickens.txt' is : 2.530947899998864\n"
     ]
    }
   ],
   "source": [
    "# Bloom Filter\n",
    "BFs, BfInsertRes = InsertTime(BloomFilterSet, files)"
   ]
  },
  {
   "cell_type": "code",
   "execution_count": 46,
   "id": "9807ad62",
   "metadata": {},
   "outputs": [
    {
     "data": {
      "text/plain": [
       "True"
      ]
     },
     "execution_count": 46,
     "metadata": {},
     "output_type": "execute_result"
    }
   ],
   "source": [
    "RealInsertList = [SeqInsertRes, BstInsertRes, BalstInsertRes, TtstInsertRes, BfInsertRes]\n",
    "RealInsertRes = CheckRes(RealInsertList)\n",
    "RealInsertRes"
   ]
  },
  {
   "cell_type": "markdown",
   "id": "d5a034ed",
   "metadata": {},
   "source": [
    "#### The total amount of time of search operations"
   ]
  },
  {
   "cell_type": "code",
   "execution_count": 19,
   "id": "ffa545ab",
   "metadata": {},
   "outputs": [],
   "source": [
    "def SearchTime(objects, searchdata):\n",
    "    res = []\n",
    "    for obj in objects:\n",
    "        tempres = []\n",
    "        SearchStart = timeit.default_timer()\n",
    "        for ws in searchdata:\n",
    "            if ws is not None:\n",
    "                searched = obj.searchElement(ws)\n",
    "            else:\n",
    "                searched = None\n",
    "            tempres.append(searched)\n",
    "        SearchEnd = timeit.default_timer()\n",
    "        SearchTime = SearchEnd - SearchStart\n",
    "        print(\"Search time taken for 'test-search.txt' in file\", \n",
    "              objects.index(obj)+1, \"is :\", SearchTime)\n",
    "        res.append(tempres)\n",
    "    return res"
   ]
  },
  {
   "cell_type": "code",
   "execution_count": 47,
   "id": "b0153c79",
   "metadata": {},
   "outputs": [
    {
     "name": "stdout",
     "output_type": "stream",
     "text": [
      "Search time taken for 'test-search.txt' in file 1 is : 0.1568704000001162\n",
      "Search time taken for 'test-search.txt' in file 2 is : 0.14104700000098092\n",
      "Search time taken for 'test-search.txt' in file 3 is : 0.43964100000084727\n"
     ]
    }
   ],
   "source": [
    "# Sequential Search Tree\n",
    "SeqSearchRes = SearchTime(SEQs, wordsforsearch)"
   ]
  },
  {
   "cell_type": "code",
   "execution_count": 48,
   "id": "b664f66d",
   "metadata": {},
   "outputs": [
    {
     "name": "stdout",
     "output_type": "stream",
     "text": [
      "Search time taken for 'test-search.txt' in file 1 is : 0.0018952999998873565\n",
      "Search time taken for 'test-search.txt' in file 2 is : 0.0018098000000463799\n",
      "Search time taken for 'test-search.txt' in file 3 is : 0.0024544999996578554\n"
     ]
    }
   ],
   "source": [
    "# Binary Search Tree\n",
    "BstSearchRes = SearchTime(BSTs, wordsforsearch)"
   ]
  },
  {
   "cell_type": "code",
   "execution_count": 49,
   "id": "7513ea42",
   "metadata": {},
   "outputs": [
    {
     "name": "stdout",
     "output_type": "stream",
     "text": [
      "Search time taken for 'test-search.txt' in file 1 is : 0.004823999999644002\n",
      "Search time taken for 'test-search.txt' in file 2 is : 0.0022506999994220678\n",
      "Search time taken for 'test-search.txt' in file 3 is : 0.002798800000164192\n"
     ]
    }
   ],
   "source": [
    "# Balanced Search Tree\n",
    "BalstSearchRes = SearchTime(RBTs, wordsforsearch)"
   ]
  },
  {
   "cell_type": "code",
   "execution_count": 50,
   "id": "274cca6e",
   "metadata": {
    "scrolled": true
   },
   "outputs": [
    {
     "name": "stdout",
     "output_type": "stream",
     "text": [
      "Search time taken for 'test-search.txt' in file 1 is : 0.005796399998871493\n",
      "Search time taken for 'test-search.txt' in file 2 is : 0.004568599999402068\n",
      "Search time taken for 'test-search.txt' in file 3 is : 0.005525499998839223\n"
     ]
    }
   ],
   "source": [
    "# Balanced Search Tree -- 2-3 Search Tree\n",
    "TtstSearchRes = SearchTime(TTSTs, wordsforsearch)"
   ]
  },
  {
   "cell_type": "code",
   "execution_count": 51,
   "id": "017aa425",
   "metadata": {},
   "outputs": [
    {
     "name": "stdout",
     "output_type": "stream",
     "text": [
      "Search time taken for 'test-search.txt' in file 1 is : 0.004960299998856499\n",
      "Search time taken for 'test-search.txt' in file 2 is : 0.005392199998823344\n",
      "Search time taken for 'test-search.txt' in file 3 is : 0.006221499999810476\n"
     ]
    }
   ],
   "source": [
    "# Bloom Filter\n",
    "BfSearchRes = SearchTime(BFs, wordsforsearch)"
   ]
  },
  {
   "cell_type": "code",
   "execution_count": 52,
   "id": "8b1c97ad",
   "metadata": {},
   "outputs": [
    {
     "data": {
      "text/plain": [
       "True"
      ]
     },
     "execution_count": 52,
     "metadata": {},
     "output_type": "execute_result"
    }
   ],
   "source": [
    "RealSearchList = [SeqSearchRes, BstSearchRes, BalstSearchRes, TtstSearchRes, BfSearchRes]\n",
    "RealSearchRes = CheckRes(RealSearchList)\n",
    "RealSearchRes"
   ]
  },
  {
   "cell_type": "markdown",
   "id": "41ef4e99",
   "metadata": {},
   "source": [
    "### Using Synthetic Data"
   ]
  },
  {
   "cell_type": "markdown",
   "id": "f4490e86",
   "metadata": {},
   "source": [
    "### different conditions:\n",
    "- Duplicate cases\n",
    "- Longer String length\n",
    "- Adding numbers and symbols in each string\n",
    "- String list in ascending/descending order\n",
    "- Missing values\n",
    "- ......"
   ]
  },
  {
   "cell_type": "code",
   "execution_count": 109,
   "id": "5800fe54",
   "metadata": {},
   "outputs": [],
   "source": [
    "class TestDataGenerator():\n",
    "\n",
    "    def __init__(self):\n",
    "        self.syntheticData = []\n",
    "        self.strLen = 0\n",
    "        self.percentage = 0.0\n",
    "\n",
    "    def setParams(self, strLen, percentage):\n",
    "        self.strLen = strLen\n",
    "        self.percentage = percentage\n",
    "    \n",
    "    def generateData(self, size):\n",
    "        data, data1, data2 = [], [], []\n",
    "        seen1, seen2, seen3 = {}, {}, {}\n",
    "        alphabets = list(string.ascii_letters)\n",
    "        charlist = string.printable\n",
    "\n",
    "        # Normal Case\n",
    "        while len(data) < size:\n",
    "            temp = ''.join(random.choice(alphabets) for _ in range(random.randint(4, 10)))\n",
    "            if temp not in seen1:\n",
    "                seen1[temp] = True\n",
    "                data.append(temp)\n",
    "\n",
    "        # Long String\n",
    "        while len(data1) < size:\n",
    "            temp1 = ''.join(random.choice(alphabets) for _ in range(self.strLen))\n",
    "            if temp1 not in seen2:\n",
    "                seen2[temp1] = True\n",
    "                data1.append(temp1)\n",
    "\n",
    "        # Special String\n",
    "        while len(data2) < size:\n",
    "            temp2 = ''.join(random.sample(charlist, random.randint(4, 10)))\n",
    "            if temp2 not in seen3:\n",
    "                seen3[temp2] = True\n",
    "                data2.append(temp2)\n",
    "\n",
    "        # Ascending Order\n",
    "        data3 = self.mergeSort(data.copy())\n",
    "        \n",
    "        # Descending Order\n",
    "        data4 = data3[::-1]\n",
    "\n",
    "        # String with missing values and duplicate values\n",
    "        num6 = round(size * 0.2)\n",
    "        temp6 = data[ : num6]\n",
    "        data5 = [None if i >= num6 and random.random() < self.percentage else data[i] for i in range(size)]\n",
    "        data6 = [random.choice(temp6) if i >= num6 and random.random() < self.percentage else data[i] for i in range(size)]\n",
    "\n",
    "        # Strings of distinct integers\n",
    "        data7 = []\n",
    "        for _ in range(size):\n",
    "            data7.append(str(random.randint(-2147483648, 2147483647)))\n",
    "\n",
    "        # Strings of distinct floats between 0.0 and 1.0\n",
    "        data8 = []\n",
    "        for _ in range(size):\n",
    "            data8.append(str(random.uniform(0.0, 1.0)))\n",
    "\n",
    "        # Strings contain whitespace\n",
    "        data9 = data.copy()\n",
    "        for i in range(size):\n",
    "            current = data9[i]\n",
    "            for _ in range(random.randint(1,10)):\n",
    "                index = random.choice(range(0,len(current)))\n",
    "                current = current[:index] + \" \" + current[index+1:]\n",
    "            data9[i] = current\n",
    "\n",
    "        # Palindrome strings\n",
    "        data10 = data.copy()\n",
    "        for i in range(len(data10)):\n",
    "            tempword = data10[i][:len(data10[i])//2+1]\n",
    "            data10[i] = tempword + tempword[::-1]\n",
    "\n",
    "        \n",
    "        self.syntheticData.append(data)\n",
    "        self.syntheticData.append(data1)\n",
    "        self.syntheticData.append(data2)\n",
    "        self.syntheticData.append(data3)\n",
    "        self.syntheticData.append(data4)\n",
    "        self.syntheticData.append(data5)\n",
    "        self.syntheticData.append(data6)\n",
    "        self.syntheticData.append(data7)\n",
    "        self.syntheticData.append(data8)\n",
    "        self.syntheticData.append(data9)\n",
    "        self.syntheticData.append(data10)\n",
    "\n",
    "        return self.syntheticData\n",
    "\n",
    "    def mergeSort(self, arr):\n",
    "        n = len(arr)\n",
    "        size = 1\n",
    "        while size < n:\n",
    "            for i in range(0, n, 2*size):\n",
    "                left = arr[i : i+size]\n",
    "                right = arr[i+size : i+2*size]\n",
    "                merged = []\n",
    "                l = r = 0\n",
    "                while l < len(left) and r < len(right):\n",
    "                    if left[l] < right[r]:\n",
    "                        merged.append(left[l])\n",
    "                        l += 1\n",
    "                    else:\n",
    "                        merged.append(right[r])\n",
    "                        r += 1\n",
    "                merged += left[l:]\n",
    "                merged += right[r:]\n",
    "                arr[i : i+len(merged)] = merged\n",
    "            size *= 2\n",
    "        return arr"
   ]
  },
  {
   "cell_type": "code",
   "execution_count": 110,
   "id": "b9244868",
   "metadata": {
    "scrolled": true
   },
   "outputs": [],
   "source": [
    "datasize = 100000\n",
    "\n",
    "dataGenerate = TestDataGenerator()\n",
    "dataGenerate.setParams(100, 0.6)\n",
    "SyntheticDataList = dataGenerate.generateData(datasize)\n",
    "# SyntheticDataList"
   ]
  },
  {
   "cell_type": "code",
   "execution_count": 103,
   "id": "20464607",
   "metadata": {},
   "outputs": [
    {
     "data": {
      "text/plain": [
       "11"
      ]
     },
     "execution_count": 103,
     "metadata": {},
     "output_type": "execute_result"
    }
   ],
   "source": [
    "len(SyntheticDataList)"
   ]
  },
  {
   "cell_type": "code",
   "execution_count": 29,
   "id": "244f3151",
   "metadata": {},
   "outputs": [],
   "source": [
    "SyntheticDataNames = [\"Normal\", \"Long String\", \"Special String\", \"Ascending Order\", \"Descending Order\", \n",
    "                      \"String with missing values\", \"String with duplicate values\",\n",
    "                     \"Strings of distinct integers\",\"Strings of distinct floats\",\n",
    "                      \"Strings contain whitespace\",\"Palindrome strings\"]"
   ]
  },
  {
   "cell_type": "code",
   "execution_count": 111,
   "id": "ed3204cc",
   "metadata": {},
   "outputs": [],
   "source": [
    "synSearchList = []\n",
    "for datalist in SyntheticDataList:\n",
    "    num = round(len(datalist) * 0.3)\n",
    "    templist = []\n",
    "    seen = {}\n",
    "    # Choose from list\n",
    "    while len(templist) < num:\n",
    "        tempdata = random.choice(datalist)\n",
    "        if tempdata not in seen:\n",
    "            seen[tempdata] = True\n",
    "            templist.append(tempdata)\n",
    "    # Generate new values\n",
    "    falsenum = round(len(datalist) * 0.2)\n",
    "    for _ in range(falsenum):\n",
    "        fdata = ''.join(random.choice(string.ascii_lowercase) for _ in range(random.randint(8, 12))) \n",
    "        templist.append(fdata)\n",
    "    synSearchList.append(templist)\n",
    "\n",
    "# synSearchList"
   ]
  },
  {
   "cell_type": "markdown",
   "id": "b3ab621a",
   "metadata": {},
   "source": [
    "#### Insert Time Taken"
   ]
  },
  {
   "cell_type": "code",
   "execution_count": 31,
   "id": "564082c4",
   "metadata": {},
   "outputs": [],
   "source": [
    "def InsertTime2(classname, datalist):\n",
    "    # Remove Duplicates\n",
    "    seen = {}\n",
    "    uniqueDatas = []\n",
    "    for e in datalist:\n",
    "        if e not in seen:\n",
    "            seen[e] = True\n",
    "            uniqueDatas.append(e)\n",
    "    \n",
    "    algorithm = classname()\n",
    "    if str(classname) == str(BloomFilterSet):\n",
    "        algorithm.initVariables(len(datalist), 0.01, hashFunctions)\n",
    "\n",
    "    InsertStart = timeit.default_timer()\n",
    "    res = []\n",
    "    for word in uniqueDatas:\n",
    "        # Remove Missing Values\n",
    "        if word is not None:\n",
    "            inserted = algorithm.insertElement(word)\n",
    "            res.append(inserted)\n",
    "    InsertEnd = timeit.default_timer()\n",
    "    InsertTime = InsertEnd - InsertStart\n",
    "    print(\"Insert time taken is :\", InsertTime)\n",
    "    return algorithm, res"
   ]
  },
  {
   "cell_type": "code",
   "execution_count": 32,
   "id": "442b67e5",
   "metadata": {
    "scrolled": true
   },
   "outputs": [
    {
     "name": "stdout",
     "output_type": "stream",
     "text": [
      "For Normal Case: \n",
      "Sequential Search: \n",
      "Insert time taken is : 0.040285199999971155\n",
      "Binary Search Tree: \n",
      "Insert time taken is : 0.6117741000000478\n",
      "Balanced Search Tree: \n",
      "Insert time taken is : 2.790596800000003\n",
      "2-3 Search Tree: \n",
      "Insert time taken is : 3.190193200000067\n",
      "Bloom Filter: \n",
      "Insert time taken is : 1.3974172999999155\n",
      "~~~~~~~~~~~~~~~~~~~~~~~~~~~~~~~~~~~~~~~~~~~~~~~~~\n",
      "For Long String Case: \n",
      "Sequential Search: \n",
      "Insert time taken is : 0.05140299999993658\n",
      "Binary Search Tree: \n",
      "Insert time taken is : 0.6529166000000259\n",
      "Balanced Search Tree: \n",
      "Insert time taken is : 3.6607632000000194\n",
      "2-3 Search Tree: \n",
      "Insert time taken is : 3.145783900000083\n",
      "Bloom Filter: \n",
      "Insert time taken is : 17.75568779999992\n",
      "~~~~~~~~~~~~~~~~~~~~~~~~~~~~~~~~~~~~~~~~~~~~~~~~~\n",
      "For Special String Case: \n",
      "Sequential Search: \n",
      "Insert time taken is : 0.03264310000008663\n",
      "Binary Search Tree: \n",
      "Insert time taken is : 0.5812082999999575\n",
      "Balanced Search Tree: \n",
      "Insert time taken is : 3.541886100000056\n",
      "2-3 Search Tree: \n",
      "Insert time taken is : 2.0372718999999506\n",
      "Bloom Filter: \n",
      "Insert time taken is : 1.5711095000000341\n",
      "~~~~~~~~~~~~~~~~~~~~~~~~~~~~~~~~~~~~~~~~~~~~~~~~~\n",
      "For Ascending Order Case: \n",
      "Sequential Search: \n",
      "Insert time taken is : 0.04204800000002251\n",
      "Binary Search Tree: \n",
      "Insert time taken is : 1270.4839387999998\n",
      "Balanced Search Tree: \n",
      "Insert time taken is : 2.0648762000000715\n",
      "2-3 Search Tree: \n",
      "Insert time taken is : 3.218197700000019\n",
      "Bloom Filter: \n",
      "Insert time taken is : 1.3674810000002253\n",
      "~~~~~~~~~~~~~~~~~~~~~~~~~~~~~~~~~~~~~~~~~~~~~~~~~\n",
      "For Descending Order Case: \n",
      "Sequential Search: \n",
      "Insert time taken is : 0.0420165000000452\n",
      "Binary Search Tree: \n",
      "Insert time taken is : 1057.1021079000002\n",
      "Balanced Search Tree: \n",
      "Insert time taken is : 2.74665559999994\n",
      "2-3 Search Tree: \n",
      "Insert time taken is : 2.2176327000001947\n",
      "Bloom Filter: \n",
      "Insert time taken is : 1.68308049999996\n",
      "~~~~~~~~~~~~~~~~~~~~~~~~~~~~~~~~~~~~~~~~~~~~~~~~~\n",
      "For String with missing values Case: \n",
      "Sequential Search: \n",
      "Insert time taken is : 0.019928599999730068\n",
      "Binary Search Tree: \n",
      "Insert time taken is : 2.771158900000046\n",
      "Balanced Search Tree: \n",
      "Insert time taken is : 1.344850100000258\n",
      "2-3 Search Tree: \n",
      "Insert time taken is : 1.100930900000094\n",
      "Bloom Filter: \n",
      "Insert time taken is : 0.7876934000000801\n",
      "~~~~~~~~~~~~~~~~~~~~~~~~~~~~~~~~~~~~~~~~~~~~~~~~~\n",
      "For String with duplicate values Case: \n",
      "Sequential Search: \n",
      "Insert time taken is : 0.03321189999996932\n",
      "Binary Search Tree: \n",
      "Insert time taken is : 0.33564679999972213\n",
      "Balanced Search Tree: \n",
      "Insert time taken is : 1.3242255999998633\n",
      "2-3 Search Tree: \n",
      "Insert time taken is : 1.0312822000000779\n",
      "Bloom Filter: \n",
      "Insert time taken is : 0.7950085000002218\n",
      "~~~~~~~~~~~~~~~~~~~~~~~~~~~~~~~~~~~~~~~~~~~~~~~~~\n",
      "For Strings of distinct integers Case: \n",
      "Sequential Search: \n",
      "Insert time taken is : 0.03386369999998351\n",
      "Binary Search Tree: \n",
      "Insert time taken is : 3.2603126999997585\n",
      "Balanced Search Tree: \n",
      "Insert time taken is : 2.259157999999843\n",
      "2-3 Search Tree: \n",
      "Insert time taken is : 1.8489392000001317\n",
      "Bloom Filter: \n",
      "Insert time taken is : 1.7743301999998948\n",
      "~~~~~~~~~~~~~~~~~~~~~~~~~~~~~~~~~~~~~~~~~~~~~~~~~\n",
      "For Strings of distinct floats Case: \n",
      "Sequential Search: \n",
      "Insert time taken is : 0.03660380000019359\n",
      "Binary Search Tree: \n",
      "Insert time taken is : 0.6264797000003455\n",
      "Balanced Search Tree: \n",
      "Insert time taken is : 2.2849536999997326\n",
      "2-3 Search Tree: \n",
      "Insert time taken is : 5.534202599999844\n",
      "Bloom Filter: \n",
      "Insert time taken is : 3.5624774000002617\n",
      "~~~~~~~~~~~~~~~~~~~~~~~~~~~~~~~~~~~~~~~~~~~~~~~~~\n",
      "For Strings with leading whitespace Case: \n",
      "Sequential Search: \n",
      "Insert time taken is : 0.03586410000025353\n",
      "Binary Search Tree: \n",
      "Insert time taken is : 0.681443400000262\n",
      "Balanced Search Tree: \n",
      "Insert time taken is : 2.6333620000000337\n",
      "2-3 Search Tree: \n",
      "Insert time taken is : 2.1534989000001588\n",
      "Bloom Filter: \n",
      "Insert time taken is : 10.021342699999877\n",
      "~~~~~~~~~~~~~~~~~~~~~~~~~~~~~~~~~~~~~~~~~~~~~~~~~\n",
      "For Strings with trailing whitespace Case: \n",
      "Sequential Search: \n",
      "Insert time taken is : 0.032875399999738875\n",
      "Binary Search Tree: \n",
      "Insert time taken is : 0.6138189999996939\n",
      "Balanced Search Tree: \n",
      "Insert time taken is : 6.22922460000018\n",
      "2-3 Search Tree: \n",
      "Insert time taken is : 1.975364399999762\n",
      "Bloom Filter: \n",
      "Insert time taken is : 11.621887100000095\n",
      "~~~~~~~~~~~~~~~~~~~~~~~~~~~~~~~~~~~~~~~~~~~~~~~~~\n",
      "For Palindrome strings Case: \n",
      "Sequential Search: \n",
      "Insert time taken is : 0.03608480000002601\n",
      "Binary Search Tree: \n",
      "Insert time taken is : 0.6946877999998833\n",
      "Balanced Search Tree: \n",
      "Insert time taken is : 2.4558861999998953\n",
      "2-3 Search Tree: \n",
      "Insert time taken is : 1.8632344000002377\n",
      "Bloom Filter: \n",
      "Insert time taken is : 2.346810000000005\n",
      "~~~~~~~~~~~~~~~~~~~~~~~~~~~~~~~~~~~~~~~~~~~~~~~~~\n"
     ]
    }
   ],
   "source": [
    "SEQSyn, BSTSyn, RBTSyn, TTSTSyn, BTSyn = [], [], [], [], []\n",
    "InsertRes1, InsertRes2, InsertRes3, InsertRes4, InsertRes5 = [], [], [], [], []\n",
    "for i in range(len(SyntheticDataList)):\n",
    "    print(\"For\", SyntheticDataNames[i], \"Case: \")\n",
    "    print(\"Sequential Search: \")\n",
    "    SEQ, res1 = InsertTime2(SequentialSearchSet, SyntheticDataList[i])\n",
    "    SEQSyn.append(SEQ)\n",
    "    InsertRes1.append(res1)\n",
    "    print(\"Binary Search Tree: \")\n",
    "    BST, res2 = InsertTime2(BinarySearchTreeSet, SyntheticDataList[i])\n",
    "    BSTSyn.append(BST)\n",
    "    InsertRes2.append(res2)\n",
    "    print(\"Balanced Search Tree: \")\n",
    "    RBT, res3 = InsertTime2(BalancedSearchTreeSet, SyntheticDataList[i])\n",
    "    RBTSyn.append(RBT)\n",
    "    InsertRes3.append(res3)\n",
    "    print(\"2-3 Search Tree: \")\n",
    "    TTST, res4 = InsertTime2(TwoThreeBSTSet, SyntheticDataList[i])\n",
    "    TTSTSyn.append(TTST)\n",
    "    InsertRes4.append(res4)\n",
    "    print(\"Bloom Filter: \")\n",
    "    BT, res5 = InsertTime2(BloomFilterSet, SyntheticDataList[i])\n",
    "    BTSyn.append(BT)\n",
    "    InsertRes5.append(res5)\n",
    "    print(\"~~~~~~~~~~~~~~~~~~~~~~~~~~~~~~~~~~~~~~~~~~~~~~~~~\")"
   ]
  },
  {
   "cell_type": "code",
   "execution_count": 55,
   "id": "e4a5d1ef",
   "metadata": {},
   "outputs": [
    {
     "data": {
      "text/plain": [
       "[True, True, True, True, True, True, True, True, True, True, True, True]"
      ]
     },
     "execution_count": 55,
     "metadata": {},
     "output_type": "execute_result"
    }
   ],
   "source": [
    "SyntheicInsertResS = []\n",
    "for i in range(len(SyntheticDataList)):\n",
    "    SyntheicInsertList = [InsertRes1[i], InsertRes2[i], InsertRes3[i], InsertRes4[i], \n",
    "                          InsertRes5[i]]\n",
    "    SyntheicInsertRes = CheckRes(SyntheicInsertList)\n",
    "    SyntheicInsertResS.append(SyntheicInsertRes)\n",
    "SyntheicInsertResS"
   ]
  },
  {
   "cell_type": "markdown",
   "id": "ea712b90",
   "metadata": {},
   "source": [
    "### Search Time Taken"
   ]
  },
  {
   "cell_type": "code",
   "execution_count": 34,
   "id": "0fddadb2",
   "metadata": {},
   "outputs": [],
   "source": [
    "def SearchTime2(obj, searchdata):\n",
    "    res = []\n",
    "    SearchStart = timeit.default_timer()\n",
    "    for ws in searchdata:\n",
    "        if ws is not None:\n",
    "            searched = obj.searchElement(ws)\n",
    "        else:\n",
    "            searched = None\n",
    "        res.append(searched)\n",
    "    SearchEnd = timeit.default_timer()\n",
    "    SearchTime = SearchEnd - SearchStart\n",
    "    print(\"Search time taken is :\", SearchTime)\n",
    "    return res"
   ]
  },
  {
   "cell_type": "code",
   "execution_count": 35,
   "id": "a6d3b6c0",
   "metadata": {},
   "outputs": [
    {
     "name": "stdout",
     "output_type": "stream",
     "text": [
      "For Normal Case: \n",
      "Sequential Search: \n",
      "Search time taken is : 111.79107310000018\n",
      "~~~~~~~~~~~~~~~~~~~~~~~~~~~~~~~~~~~~~~~~~~~~~~~~~\n",
      "Binary Search Tree: \n",
      "Search time taken is : 0.25719980000030773\n",
      "~~~~~~~~~~~~~~~~~~~~~~~~~~~~~~~~~~~~~~~~~~~~~~~~~\n",
      "Balanced Search Tree: \n",
      "Search time taken is : 0.2713260000000446\n",
      "~~~~~~~~~~~~~~~~~~~~~~~~~~~~~~~~~~~~~~~~~~~~~~~~~\n",
      "Search time taken is : 0.27210290000039095\n",
      "~~~~~~~~~~~~~~~~~~~~~~~~~~~~~~~~~~~~~~~~~~~~~~~~~\n",
      "Bloom Filter: \n",
      "Search time taken is : 0.4957926999995834\n",
      "~~~~~~~~~~~~~~~~~~~~~~~~~~~~~~~~~~~~~~~~~~~~~~~~~\n",
      "                                                 \n",
      "For Long String Case: \n",
      "Sequential Search: \n",
      "Search time taken is : 119.85164350000014\n",
      "~~~~~~~~~~~~~~~~~~~~~~~~~~~~~~~~~~~~~~~~~~~~~~~~~\n",
      "Binary Search Tree: \n",
      "Search time taken is : 0.2536826999994446\n",
      "~~~~~~~~~~~~~~~~~~~~~~~~~~~~~~~~~~~~~~~~~~~~~~~~~\n",
      "Balanced Search Tree: \n",
      "Search time taken is : 0.2770061999999598\n",
      "~~~~~~~~~~~~~~~~~~~~~~~~~~~~~~~~~~~~~~~~~~~~~~~~~\n",
      "Search time taken is : 0.27126250000037544\n",
      "~~~~~~~~~~~~~~~~~~~~~~~~~~~~~~~~~~~~~~~~~~~~~~~~~\n",
      "Bloom Filter: \n",
      "Search time taken is : 5.612420200000088\n",
      "~~~~~~~~~~~~~~~~~~~~~~~~~~~~~~~~~~~~~~~~~~~~~~~~~\n",
      "                                                 \n",
      "For Special String Case: \n",
      "Sequential Search: \n",
      "Search time taken is : 104.25306779999937\n",
      "~~~~~~~~~~~~~~~~~~~~~~~~~~~~~~~~~~~~~~~~~~~~~~~~~\n",
      "Binary Search Tree: \n",
      "Search time taken is : 0.2417081000003236\n",
      "~~~~~~~~~~~~~~~~~~~~~~~~~~~~~~~~~~~~~~~~~~~~~~~~~\n",
      "Balanced Search Tree: \n",
      "Search time taken is : 0.25923429999966174\n",
      "~~~~~~~~~~~~~~~~~~~~~~~~~~~~~~~~~~~~~~~~~~~~~~~~~\n",
      "Search time taken is : 0.2541043000001082\n",
      "~~~~~~~~~~~~~~~~~~~~~~~~~~~~~~~~~~~~~~~~~~~~~~~~~\n",
      "Bloom Filter: \n",
      "Search time taken is : 0.4913824000004752\n",
      "~~~~~~~~~~~~~~~~~~~~~~~~~~~~~~~~~~~~~~~~~~~~~~~~~\n",
      "                                                 \n",
      "For Ascending Order Case: \n",
      "Sequential Search: \n",
      "Search time taken is : 257.5785096999998\n",
      "~~~~~~~~~~~~~~~~~~~~~~~~~~~~~~~~~~~~~~~~~~~~~~~~~\n",
      "Binary Search Tree: \n",
      "Search time taken is : 783.1823156999999\n",
      "~~~~~~~~~~~~~~~~~~~~~~~~~~~~~~~~~~~~~~~~~~~~~~~~~\n",
      "Balanced Search Tree: \n",
      "Search time taken is : 0.28230919999987236\n",
      "~~~~~~~~~~~~~~~~~~~~~~~~~~~~~~~~~~~~~~~~~~~~~~~~~\n",
      "Search time taken is : 0.2868274000002202\n",
      "~~~~~~~~~~~~~~~~~~~~~~~~~~~~~~~~~~~~~~~~~~~~~~~~~\n",
      "Bloom Filter: \n",
      "Search time taken is : 0.5712985000000117\n",
      "~~~~~~~~~~~~~~~~~~~~~~~~~~~~~~~~~~~~~~~~~~~~~~~~~\n",
      "                                                 \n",
      "For Descending Order Case: \n",
      "Sequential Search: \n",
      "Search time taken is : 263.9021683000001\n",
      "~~~~~~~~~~~~~~~~~~~~~~~~~~~~~~~~~~~~~~~~~~~~~~~~~\n",
      "Binary Search Tree: \n",
      "Search time taken is : 408.24158669999997\n",
      "~~~~~~~~~~~~~~~~~~~~~~~~~~~~~~~~~~~~~~~~~~~~~~~~~\n",
      "Balanced Search Tree: \n",
      "Search time taken is : 0.27845759999945585\n",
      "~~~~~~~~~~~~~~~~~~~~~~~~~~~~~~~~~~~~~~~~~~~~~~~~~\n",
      "Search time taken is : 0.24809999999979482\n",
      "~~~~~~~~~~~~~~~~~~~~~~~~~~~~~~~~~~~~~~~~~~~~~~~~~\n",
      "Bloom Filter: \n",
      "Search time taken is : 0.48475670000061655\n",
      "~~~~~~~~~~~~~~~~~~~~~~~~~~~~~~~~~~~~~~~~~~~~~~~~~\n",
      "                                                 \n",
      "For String with missing values Case: \n",
      "Sequential Search: \n",
      "Search time taken is : 67.41438980000021\n",
      "~~~~~~~~~~~~~~~~~~~~~~~~~~~~~~~~~~~~~~~~~~~~~~~~~\n",
      "Binary Search Tree: \n",
      "Search time taken is : 0.24819490000027145\n",
      "~~~~~~~~~~~~~~~~~~~~~~~~~~~~~~~~~~~~~~~~~~~~~~~~~\n",
      "Balanced Search Tree: \n",
      "Search time taken is : 0.28577409999979864\n",
      "~~~~~~~~~~~~~~~~~~~~~~~~~~~~~~~~~~~~~~~~~~~~~~~~~\n",
      "Search time taken is : 0.26981980000073236\n",
      "~~~~~~~~~~~~~~~~~~~~~~~~~~~~~~~~~~~~~~~~~~~~~~~~~\n",
      "Bloom Filter: \n",
      "Search time taken is : 0.46708769999986544\n",
      "~~~~~~~~~~~~~~~~~~~~~~~~~~~~~~~~~~~~~~~~~~~~~~~~~\n",
      "                                                 \n",
      "For String with duplicate values Case: \n",
      "Sequential Search: \n",
      "Search time taken is : 63.047428099999706\n",
      "~~~~~~~~~~~~~~~~~~~~~~~~~~~~~~~~~~~~~~~~~~~~~~~~~\n",
      "Binary Search Tree: \n",
      "Search time taken is : 0.2670368999997663\n",
      "~~~~~~~~~~~~~~~~~~~~~~~~~~~~~~~~~~~~~~~~~~~~~~~~~\n",
      "Balanced Search Tree: \n",
      "Search time taken is : 0.2890643999999156\n",
      "~~~~~~~~~~~~~~~~~~~~~~~~~~~~~~~~~~~~~~~~~~~~~~~~~\n",
      "Search time taken is : 0.3094002999996519\n",
      "~~~~~~~~~~~~~~~~~~~~~~~~~~~~~~~~~~~~~~~~~~~~~~~~~\n",
      "Bloom Filter: \n",
      "Search time taken is : 0.5231826999997793\n",
      "~~~~~~~~~~~~~~~~~~~~~~~~~~~~~~~~~~~~~~~~~~~~~~~~~\n",
      "                                                 \n",
      "For Strings of distinct integers Case: \n",
      "Sequential Search: \n",
      "Search time taken is : 117.24400049999986\n",
      "~~~~~~~~~~~~~~~~~~~~~~~~~~~~~~~~~~~~~~~~~~~~~~~~~\n",
      "Binary Search Tree: \n",
      "Search time taken is : 0.2823995999997351\n",
      "~~~~~~~~~~~~~~~~~~~~~~~~~~~~~~~~~~~~~~~~~~~~~~~~~\n",
      "Balanced Search Tree: \n",
      "Search time taken is : 0.31404639999982464\n",
      "~~~~~~~~~~~~~~~~~~~~~~~~~~~~~~~~~~~~~~~~~~~~~~~~~\n",
      "Search time taken is : 0.27100789999985864\n",
      "~~~~~~~~~~~~~~~~~~~~~~~~~~~~~~~~~~~~~~~~~~~~~~~~~\n",
      "Bloom Filter: \n",
      "Search time taken is : 0.7469167999997808\n",
      "~~~~~~~~~~~~~~~~~~~~~~~~~~~~~~~~~~~~~~~~~~~~~~~~~\n",
      "                                                 \n",
      "For Strings of distinct floats Case: \n",
      "Sequential Search: \n",
      "Search time taken is : 112.78020829999969\n",
      "~~~~~~~~~~~~~~~~~~~~~~~~~~~~~~~~~~~~~~~~~~~~~~~~~\n",
      "Binary Search Tree: \n",
      "Search time taken is : 0.24252230000001873\n",
      "~~~~~~~~~~~~~~~~~~~~~~~~~~~~~~~~~~~~~~~~~~~~~~~~~\n",
      "Balanced Search Tree: \n",
      "Search time taken is : 0.26380520000020624\n",
      "~~~~~~~~~~~~~~~~~~~~~~~~~~~~~~~~~~~~~~~~~~~~~~~~~\n",
      "Search time taken is : 0.23164599999927304\n",
      "~~~~~~~~~~~~~~~~~~~~~~~~~~~~~~~~~~~~~~~~~~~~~~~~~\n",
      "Bloom Filter: \n",
      "Search time taken is : 0.9890293999997084\n",
      "~~~~~~~~~~~~~~~~~~~~~~~~~~~~~~~~~~~~~~~~~~~~~~~~~\n",
      "                                                 \n",
      "For Strings with leading whitespace Case: \n",
      "Sequential Search: \n",
      "Search time taken is : 116.04923820000022\n",
      "~~~~~~~~~~~~~~~~~~~~~~~~~~~~~~~~~~~~~~~~~~~~~~~~~\n",
      "Binary Search Tree: \n",
      "Search time taken is : 0.2637526999997135\n",
      "~~~~~~~~~~~~~~~~~~~~~~~~~~~~~~~~~~~~~~~~~~~~~~~~~\n",
      "Balanced Search Tree: \n",
      "Search time taken is : 0.29432079999969574\n",
      "~~~~~~~~~~~~~~~~~~~~~~~~~~~~~~~~~~~~~~~~~~~~~~~~~\n",
      "Search time taken is : 0.2574224999998478\n",
      "~~~~~~~~~~~~~~~~~~~~~~~~~~~~~~~~~~~~~~~~~~~~~~~~~\n",
      "Bloom Filter: \n",
      "Search time taken is : 3.175604299999577\n",
      "~~~~~~~~~~~~~~~~~~~~~~~~~~~~~~~~~~~~~~~~~~~~~~~~~\n",
      "                                                 \n",
      "For Strings with trailing whitespace Case: \n",
      "Sequential Search: \n",
      "Search time taken is : 124.63472580000052\n",
      "~~~~~~~~~~~~~~~~~~~~~~~~~~~~~~~~~~~~~~~~~~~~~~~~~\n",
      "Binary Search Tree: \n",
      "Search time taken is : 0.5332508000001326\n",
      "~~~~~~~~~~~~~~~~~~~~~~~~~~~~~~~~~~~~~~~~~~~~~~~~~\n",
      "Balanced Search Tree: \n",
      "Search time taken is : 0.5819449999999051\n",
      "~~~~~~~~~~~~~~~~~~~~~~~~~~~~~~~~~~~~~~~~~~~~~~~~~\n",
      "Search time taken is : 0.5296366000002308\n",
      "~~~~~~~~~~~~~~~~~~~~~~~~~~~~~~~~~~~~~~~~~~~~~~~~~\n",
      "Bloom Filter: \n",
      "Search time taken is : 3.7171094000004814\n",
      "~~~~~~~~~~~~~~~~~~~~~~~~~~~~~~~~~~~~~~~~~~~~~~~~~\n",
      "                                                 \n",
      "For Palindrome strings Case: \n",
      "Sequential Search: \n",
      "Search time taken is : 123.99121249999916\n",
      "~~~~~~~~~~~~~~~~~~~~~~~~~~~~~~~~~~~~~~~~~~~~~~~~~\n",
      "Binary Search Tree: \n",
      "Search time taken is : 0.3212507000007463\n",
      "~~~~~~~~~~~~~~~~~~~~~~~~~~~~~~~~~~~~~~~~~~~~~~~~~\n",
      "Balanced Search Tree: \n",
      "Search time taken is : 0.31787489999987883\n",
      "~~~~~~~~~~~~~~~~~~~~~~~~~~~~~~~~~~~~~~~~~~~~~~~~~\n",
      "Search time taken is : 0.3089318000002095\n",
      "~~~~~~~~~~~~~~~~~~~~~~~~~~~~~~~~~~~~~~~~~~~~~~~~~\n",
      "Bloom Filter: \n",
      "Search time taken is : 0.7607588000009855\n",
      "~~~~~~~~~~~~~~~~~~~~~~~~~~~~~~~~~~~~~~~~~~~~~~~~~\n",
      "                                                 \n"
     ]
    }
   ],
   "source": [
    "SearchRes1, SearchRes2, SearchRes3, SearchRes4, SearchRes5 = [], [], [], [], []\n",
    "for i in range (len(synSearchList)):\n",
    "    print(\"For\", SyntheticDataNames[i], \"Case: \")\n",
    "    print(\"Sequential Search: \")\n",
    "    sres1 = SearchTime2(SEQSyn[i], synSearchList[i])\n",
    "    SearchRes1.append(sres1)\n",
    "    print(\"~~~~~~~~~~~~~~~~~~~~~~~~~~~~~~~~~~~~~~~~~~~~~~~~~\")\n",
    "    print(\"Binary Search Tree: \")\n",
    "    sres2 = SearchTime2(BSTSyn[i], synSearchList[i])\n",
    "    SearchRes2.append(sres2)\n",
    "    print(\"~~~~~~~~~~~~~~~~~~~~~~~~~~~~~~~~~~~~~~~~~~~~~~~~~\")\n",
    "    print(\"Balanced Search Tree: \")\n",
    "    sres3 = SearchTime2(RBTSyn[i], synSearchList[i])\n",
    "    SearchRes3.append(sres3)\n",
    "    print(\"~~~~~~~~~~~~~~~~~~~~~~~~~~~~~~~~~~~~~~~~~~~~~~~~~\")\n",
    "    sres4 = SearchTime2(RBTSyn[i], synSearchList[i])\n",
    "    SearchRes4.append(sres4)\n",
    "    print(\"~~~~~~~~~~~~~~~~~~~~~~~~~~~~~~~~~~~~~~~~~~~~~~~~~\")\n",
    "    print(\"Bloom Filter: \")\n",
    "    sres5 = SearchTime2(BTSyn[i], synSearchList[i])\n",
    "    SearchRes5.append(sres5)\n",
    "    print(\"~~~~~~~~~~~~~~~~~~~~~~~~~~~~~~~~~~~~~~~~~~~~~~~~~\")\n",
    "    print(\"                                                 \")"
   ]
  },
  {
   "cell_type": "code",
   "execution_count": 56,
   "id": "f71c7901",
   "metadata": {},
   "outputs": [
    {
     "data": {
      "text/plain": [
       "[False,\n",
       " False,\n",
       " False,\n",
       " False,\n",
       " False,\n",
       " False,\n",
       " False,\n",
       " False,\n",
       " False,\n",
       " False,\n",
       " False,\n",
       " False]"
      ]
     },
     "execution_count": 56,
     "metadata": {},
     "output_type": "execute_result"
    }
   ],
   "source": [
    "SyntheicSearchResS = []\n",
    "for i in range(len(SyntheticDataList)):\n",
    "    SyntheicSearchList = [SearchRes1[i], SearchRes2[i], SearchRes3[i], SearchRes4[i], \n",
    "                          SearchRes5[i]]\n",
    "    SyntheicSearchRes = CheckRes(SyntheicSearchList)\n",
    "    SyntheicSearchResS.append(SyntheicSearchRes)\n",
    "SyntheicSearchResS"
   ]
  },
  {
   "cell_type": "code",
   "execution_count": 112,
   "id": "442ad02c",
   "metadata": {
    "scrolled": true
   },
   "outputs": [],
   "source": [
    "SyntheicSearchResS = []\n",
    "for i in range(len(SyntheticDataList)):\n",
    "    SyntheicSearchList = [SearchRes1[i], SearchRes2[i], SearchRes3[i], SearchRes4[i], \n",
    "                          SearchRes5[i]]\n",
    "    for j in range(1, len(SyntheicSearchList)):\n",
    "        for k in range(len(SyntheicSearchList[j])):\n",
    "            if SyntheicSearchList[j][k] != SearchRes1[i][k]:\n",
    "                SyntheicSearchResS.append([False, j, k])\n",
    "# SyntheicSearchResS"
   ]
  },
  {
   "cell_type": "code",
   "execution_count": 70,
   "id": "3fd4604d",
   "metadata": {},
   "outputs": [
    {
     "name": "stdout",
     "output_type": "stream",
     "text": [
      "The False-Positive-Rate of Bllom Filter in Syntheic Data: 0.018873333333333332\n"
     ]
    }
   ],
   "source": [
    "print(\"The False-Positive-Rate of Bllom Filter in Syntheic Data:\", \n",
    "      len(SyntheicSearchResS) / (datasize * len(SyntheticDataList)))"
   ]
  },
  {
   "cell_type": "code",
   "execution_count": null,
   "id": "b81c2f92",
   "metadata": {},
   "outputs": [],
   "source": []
  },
  {
   "cell_type": "code",
   "execution_count": null,
   "id": "a5657f62",
   "metadata": {},
   "outputs": [],
   "source": []
  },
  {
   "cell_type": "markdown",
   "id": "05b100a0",
   "metadata": {},
   "source": [
    "## Visualization"
   ]
  },
  {
   "cell_type": "code",
   "execution_count": null,
   "id": "5a169405",
   "metadata": {},
   "outputs": [],
   "source": []
  },
  {
   "cell_type": "code",
   "execution_count": null,
   "id": "81fdadc1",
   "metadata": {},
   "outputs": [],
   "source": []
  },
  {
   "cell_type": "code",
   "execution_count": null,
   "id": "c1fe0f02",
   "metadata": {},
   "outputs": [],
   "source": []
  },
  {
   "cell_type": "code",
   "execution_count": null,
   "id": "3e601c62",
   "metadata": {},
   "outputs": [],
   "source": []
  },
  {
   "cell_type": "code",
   "execution_count": null,
   "id": "b7c88e22",
   "metadata": {},
   "outputs": [],
   "source": []
  }
 ],
 "metadata": {
  "kernelspec": {
   "display_name": "Python 3 (ipykernel)",
   "language": "python",
   "name": "python3"
  },
  "language_info": {
   "codemirror_mode": {
    "name": "ipython",
    "version": 3
   },
   "file_extension": ".py",
   "mimetype": "text/x-python",
   "name": "python",
   "nbconvert_exporter": "python",
   "pygments_lexer": "ipython3",
   "version": "3.9.7"
  }
 },
 "nbformat": 4,
 "nbformat_minor": 5
}
