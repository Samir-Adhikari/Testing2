{
 "cells": [
  {
   "cell_type": "markdown",
   "id": "b00da59f",
   "metadata": {},
   "source": [
    "# Set Membership Coursework"
   ]
  },
  {
   "cell_type": "code",
   "execution_count": 30,
   "id": "fb108ffa",
   "metadata": {},
   "outputs": [],
   "source": [
    "import random\n",
    "import string\n",
    "import timeit\n",
    "from bitarray import bitarray"
   ]
  },
  {
   "cell_type": "markdown",
   "id": "f9b1bd12",
   "metadata": {},
   "source": [
    "## 1. Implementeation"
   ]
  },
  {
   "cell_type": "markdown",
   "id": "7479a715",
   "metadata": {},
   "source": [
    "### Sequential Search "
   ]
  },
  {
   "cell_type": "code",
   "execution_count": 58,
   "id": "a191de21",
   "metadata": {},
   "outputs": [],
   "source": [
    "class SequentialSearchSet():\n",
    "    \n",
    "    def __init__(self):\n",
    "        self.items = []           \n",
    "        \n",
    "    def insertElement(self, item):\n",
    "        self.items.append(item)\n",
    "        return True   \n",
    "\n",
    "    def searchElement(self, item):\n",
    "        found = False     \n",
    "        for item1 in self.items:\n",
    "            if item1 == item:\n",
    "                found = True\n",
    "            else:\n",
    "                found = False\n",
    "        return found   "
   ]
  },
  {
   "attachments": {},
   "cell_type": "markdown",
   "id": "0a78f7ac",
   "metadata": {},
   "source": [
    "Time Complexity: \n",
    "- Insert an element is O(n^2)\n",
    "- Search an element is O(n)\n",
    "\n",
    "Space Complexity: \n",
    "- O(n)"
   ]
  },
  {
   "cell_type": "markdown",
   "id": "5b2faf0e",
   "metadata": {},
   "source": [
    "### Binary Search Tree"
   ]
  },
  {
   "cell_type": "code",
   "execution_count": 32,
   "id": "ea9826d3",
   "metadata": {},
   "outputs": [],
   "source": [
    "class Node:\n",
    "    \n",
    "    def __init__(self, value):\n",
    "        self.value = value\n",
    "        self.left = None\n",
    "        self.right = None\n",
    "\n",
    "    def get(self, element):\n",
    "        if self.value == element:\n",
    "            return True\n",
    "        elif element < self.value and self.left:\n",
    "            return self.left.get(element)\n",
    "        elif element > self.value and self.right:\n",
    "            return self.right.get(element)\n",
    "        return False\n",
    "\n",
    "    def put(self, element):\n",
    "        if self.value == None:\n",
    "            self.value = element\n",
    "            return True\n",
    "        elif element == self.value:\n",
    "            self.value = element\n",
    "            return True\n",
    "        elif element < self.value:\n",
    "            if self.left is None:\n",
    "                self.left = Node(element)\n",
    "                return True\n",
    "            else: \n",
    "                self.left.put(element)\n",
    "        elif element > self.value:\n",
    "            if self.right is None:\n",
    "                self.right = Node(element)\n",
    "                return True\n",
    "            else: \n",
    "                self.right.put(element)\n",
    "        return False\n",
    "\n",
    "class BinarySearchTreeSet:\n",
    "    \n",
    "    def __init__(self):\n",
    "        self.bst = Node(None)\n",
    "\n",
    "    def insertElement(self, element):\n",
    "        inserted = False\n",
    "        inserted = self.bst.put(element) \n",
    "        return inserted\n",
    "\n",
    "    def searchElement(self, element):     \n",
    "        found = False \n",
    "        found = self.bst.get(element)\n",
    "        return found"
   ]
  },
  {
   "cell_type": "markdown",
   "id": "d255329f",
   "metadata": {},
   "source": [
    "### Balanced Search Tree"
   ]
  },
  {
   "cell_type": "code",
   "execution_count": 33,
   "id": "fd4eb6cf",
   "metadata": {},
   "outputs": [],
   "source": [
    "# Red-Black Search Tree\n",
    "\n",
    "class BalancedSearchTreeSet:\n",
    "    R = True\n",
    "    B = False\n",
    "    # R refers to Red; B refers to Black\n",
    "    \n",
    "    class Nodes:\n",
    "        def __init__(self,val,colour):\n",
    "            self.val = val\n",
    "            self.colour = colour\n",
    "            self.left = None\n",
    "            self.right = None\n",
    "            \n",
    "    def __init__(self):\n",
    "        self.root = None\n",
    "        \n",
    "    def searchElement(self,val):\n",
    "        return self.search(self.root,val)\n",
    "    \n",
    "    def search(self,node,val):\n",
    "        if node is None:\n",
    "            return False\n",
    "        else:\n",
    "            if node.val == val:\n",
    "                return True\n",
    "            elif node.val > val:\n",
    "                return self.search(node.left,val)\n",
    "            else:\n",
    "                return self.search(node.right,val)\n",
    "    \n",
    "    def insertElement(self, val):\n",
    "        self.root = self.insert(self.root, val)\n",
    "        self.root.colour = self.B\n",
    "\n",
    "\n",
    "    def insert(self, node, val):\n",
    "        if node is None:\n",
    "            return self.Nodes(val, self.R)\n",
    "\n",
    "        if val < node.val:\n",
    "            node.left = self.insert(node.left, val)\n",
    "        elif val > node.val:\n",
    "            node.right = self.insert(node.right, val)\n",
    "        else:\n",
    "            # value already exists, do nothing\n",
    "            return node\n",
    "\n",
    "        # perform rotations and colour flips\n",
    "        if self.isR(node.right) and not self.isR(node.left):\n",
    "            node = self.leftRotate(node)\n",
    "        if self.isR(node.left) and self.isR(node.left.left):\n",
    "            node = self.rightRotate(node)\n",
    "        if self.isR(node.left) and self.isR(node.right):\n",
    "            self.flipcolour(node)\n",
    "\n",
    "        return node\n",
    "\n",
    "    def isR(self,node):\n",
    "        if node is None:\n",
    "            return False\n",
    "        return node.colour == self.R\n",
    "    \n",
    "    def leftRotate(self, node):\n",
    "        x = node.right\n",
    "        node.right = x.left\n",
    "        x.left = node\n",
    "        x.colour = node.colour\n",
    "        node.colour = self.R\n",
    "        return x\n",
    "    \n",
    "    def rightRotate(self, node):\n",
    "        x = node.left\n",
    "        node.left = x.right\n",
    "        x.right = node\n",
    "        x.colour = node.colour\n",
    "        node.colour = self.R\n",
    "        return x\n",
    "    \n",
    "    def flipcolour(self, node):\n",
    "        node.colour = not node.colour\n",
    "        node.left.colour = self.B\n",
    "        node.right.colour = self.B"
   ]
  },
  {
   "attachments": {},
   "cell_type": "markdown",
   "id": "6b624636",
   "metadata": {},
   "source": [
    "Time Complexity: \n",
    "- Insert an element is O(log n)\n",
    "- Search an element is O(log n)\n",
    "\n",
    "Space Complexity: \n",
    "- O(n)"
   ]
  },
  {
   "cell_type": "markdown",
   "id": "108b949c",
   "metadata": {},
   "source": [
    "### Bloom Filter"
   ]
  },
  {
   "cell_type": "code",
   "execution_count": 34,
   "id": "d701c2d2",
   "metadata": {},
   "outputs": [],
   "source": [
    "class BloomFilterSet:\n",
    "    \n",
    "    def __init__(self):\n",
    "        self.HashFunctions = None\n",
    "        self.hashNum = 0\n",
    "        self.size = 0\n",
    "        self.bitArray = None\n",
    "    \n",
    "    def initVariables(self, ItemNum, FPProb, HashFunctions):\n",
    "        # ItemNum : int, Number of items expected to be stored in bloom filter\n",
    "        # FPProb : float, False Positive probability in decimal\n",
    "        # HashFunctions: list, number of hash functions to use\n",
    "        self.HashFunctions = HashFunctions\n",
    "        self.hashNum = len(HashFunctions)\n",
    "        # Total size of bit array\n",
    "        self.size = self.getSize(ItemNum, FPProb)\n",
    "        # Bit array of given size, and initialize all bits as 0 (False)\n",
    "        self.bitArray = bitarray(self.size)\n",
    "        self.bitArray.setall(0)\n",
    "\n",
    "    def insertElement(self, item):\n",
    "        inserted = False\n",
    "        tempIndex = []\n",
    "        for function in self.HashFunctions:\n",
    "            index = function(item) % self.size\n",
    "            self.bitArray[index] = True\n",
    "            tempIndex.append(self.bitArray[index])\n",
    "        if False not in tempIndex:\n",
    "            inserted = True\n",
    "        return inserted\n",
    "\n",
    "    def searchElement(self, item):\n",
    "        found = False\n",
    "        count = 0\n",
    "        for function in self.HashFunctions:\n",
    "            index = function(item) % self.size\n",
    "            if not self.bitArray[index] == False:\n",
    "                count += 1\n",
    "        if count == len(self.HashFunctions):\n",
    "            found = True\n",
    "        return found\n",
    "\n",
    "    def getSize(self, n, p):\n",
    "        # m = -(n * lg(p)) / (lg(2)^2)\n",
    "        # n : number of items expected to be stored in filter\n",
    "        # p : False Positive probability in decimal\n",
    "        m = -(n * self.myLog(p)) / (self.myLog(2) ** 2)\n",
    "        return int(m)\n",
    "    \n",
    "    def myLog(self, n):\n",
    "        if n <= 0:\n",
    "            raise ValueError(\"logarithm is undefined for non-positive values\")\n",
    "        if n == 1:\n",
    "            return 0\n",
    "        if n < 1:\n",
    "            # log(xn) = -log(1/n) for n < 1\n",
    "            return -self.myLog(1 / n)\n",
    "        # Use the taylor series approximation for log(n) where |n-1| < 1\n",
    "        taylor = (n - 1) / float(n + 1)\n",
    "        term = taylor\n",
    "        total = taylor\n",
    "        num = 1\n",
    "        while abs(term) > 1e-15:\n",
    "            num += 2\n",
    "            term *= taylor * taylor / float(num * (num - 1))\n",
    "            total += term\n",
    "        return 2 * total"
   ]
  },
  {
   "cell_type": "code",
   "execution_count": 36,
   "id": "f3e54778",
   "metadata": {},
   "outputs": [],
   "source": [
    "def builtinHash(string):\n",
    "    return hash(string)\n",
    "\n",
    "def bernsteinHash(string):\n",
    "    hashValue = 5381\n",
    "    for char in string:\n",
    "        hashValue = ((hashValue << 5) + hashValue) + ord(char)\n",
    "    return hashValue\n",
    "\n",
    "def fnvHash(string):\n",
    "    hashValue = 2166136261\n",
    "    for char in string:\n",
    "        hashValue = (hashValue * 16777619) ^ ord(char)\n",
    "    return hashValue\n",
    "\n",
    "def jenkinsHash(string):\n",
    "    hashValue = 0\n",
    "    for char in string:\n",
    "        hashValue += ord(char)\n",
    "        hashValue += (hashValue << 10)\n",
    "        hashValue ^= (hashValue >> 6)\n",
    "    hashValue += (hashValue << 3)\n",
    "    hashValue ^= (hashValue >> 11)\n",
    "    hashValue += (hashValue << 15)\n",
    "    return hashValue\n",
    "\n",
    "def djb2Hash(string):\n",
    "    hashValue = 5381\n",
    "    for char in string:\n",
    "        hashValue = ((hashValue << 5) + hashValue) + ord(char)\n",
    "    return hashValue\n",
    "\n",
    "def sdbmHash(string):\n",
    "    hashValue = 0\n",
    "    for char in string:\n",
    "        hashValue = ord(char) + (hashValue << 6) + (hashValue << 16) - hashValue\n",
    "    return hashValue\n",
    "\n",
    "def fnv1aHash(string):\n",
    "    hashValue = 2166136261\n",
    "    for char in string:\n",
    "        hashValue ^= ord(char)\n",
    "        hashValue *= 16777619\n",
    "    return hashValue"
   ]
  },
  {
   "cell_type": "code",
   "execution_count": 37,
   "id": "1a6e875d",
   "metadata": {},
   "outputs": [
    {
     "name": "stdout",
     "output_type": "stream",
     "text": [
      "The False-Positive-Rate:  0.0\n"
     ]
    }
   ],
   "source": [
    "Alphabets = list(string.ascii_letters)\n",
    "randomword = []\n",
    "for a in range(10000):\n",
    "    temp = ''.join(random.choice(Alphabets) for t in range(random.randint(100, 200)))\n",
    "    randomword.append(temp)\n",
    "\n",
    "functions = [builtinHash, bernsteinHash, fnvHash, jenkinsHash, \n",
    "             djb2Hash, sdbmHash, fnv1aHash]\n",
    "bf = BloomFilterSet()\n",
    "bf.initVariables(10000, 0.01, functions)\n",
    "testnum = 0\n",
    "for ws in randomword:\n",
    "    if bf.searchElement(ws) == True:\n",
    "        testnum += 1\n",
    "\n",
    "print(\"The False-Positive-Rate: \", testnum / len(randomword))"
   ]
  },
  {
   "cell_type": "markdown",
   "id": "d784b54d",
   "metadata": {},
   "source": [
    "Time Complexity: \n",
    "- Creating the Bloom filter is O(kn)\n",
    "- Insert and Search an element: O(k)\n",
    "- k is the number of hash functions and n is the number of elements\n",
    "\n",
    "Space Complexity: \n",
    "- O(kb), where k is the number of hash functions and b is the bits number"
   ]
  },
  {
   "cell_type": "code",
   "execution_count": null,
   "id": "26dbaa77",
   "metadata": {},
   "outputs": [],
   "source": []
  },
  {
   "cell_type": "markdown",
   "id": "fb097f73",
   "metadata": {},
   "source": [
    "## 2. Experimentally Evaluation"
   ]
  },
  {
   "cell_type": "markdown",
   "id": "427c6435",
   "metadata": {},
   "source": [
    "### Using Real Data"
   ]
  },
  {
   "cell_type": "code",
   "execution_count": 61,
   "id": "e286902e",
   "metadata": {},
   "outputs": [],
   "source": [
    "def ReadFile(filepath):\n",
    "    with open(filepath) as f:\n",
    "        for line in f:\n",
    "            words = line.strip().split()\n",
    "    return words"
   ]
  },
  {
   "cell_type": "code",
   "execution_count": 62,
   "id": "e171cccb",
   "metadata": {},
   "outputs": [
    {
     "name": "stdout",
     "output_type": "stream",
     "text": [
      "209329 564236 5149661\n"
     ]
    }
   ],
   "source": [
    "words1 = ReadFile(\"./data/testfiles/test1-mobydick.txt\")\n",
    "words2 = ReadFile(\"./data/testfiles/test2-warpeace.txt\")\n",
    "words3 = ReadFile(\"./data/testfiles/test3-dickens.txt\")\n",
    "\n",
    "files = {\"'test1-mobydick.txt'\": words1, \"'test2-warpeace.txt'\": words2,\n",
    "         \"'test3-dickens.txt'\": words3}\n",
    "print(len(words1), len(words2), len(words3))"
   ]
  },
  {
   "cell_type": "code",
   "execution_count": 63,
   "id": "cf9bf466",
   "metadata": {},
   "outputs": [
    {
     "data": {
      "text/plain": [
       "544"
      ]
     },
     "execution_count": 63,
     "metadata": {},
     "output_type": "execute_result"
    }
   ],
   "source": [
    "wordsforsearch = []\n",
    "with open(\"./data/testfiles/test-search.txt\") as fsearch:\n",
    "    for line in fsearch:\n",
    "        wordsforsearch.append(line.strip())\n",
    "        \n",
    "len(wordsforsearch)"
   ]
  },
  {
   "cell_type": "code",
   "execution_count": 64,
   "id": "95d9771d",
   "metadata": {},
   "outputs": [],
   "source": [
    "hashFunctions = [builtinHash, bernsteinHash, fnvHash, jenkinsHash, \n",
    "                 djb2Hash, sdbmHash, fnv1aHash]"
   ]
  },
  {
   "cell_type": "markdown",
   "id": "7925ce26",
   "metadata": {},
   "source": [
    "#### The total amount of time of all insert operations"
   ]
  },
  {
   "cell_type": "code",
   "execution_count": 65,
   "id": "5a8ad56f",
   "metadata": {},
   "outputs": [],
   "source": [
    "def InsertTime(classname, datadict):\n",
    "    classlist = []\n",
    "    for key in datadict.keys():\n",
    "        algorithm = classname()\n",
    "        InsertStart = timeit.default_timer()\n",
    "        for word in datadict[key]:\n",
    "            algorithm.insertElement(word)\n",
    "        InsertEnd = timeit.default_timer()\n",
    "        InsertTime = InsertEnd - InsertStart\n",
    "        print(\"Insert time taken for\", key, \"is :\", InsertTime)\n",
    "        classlist.append(algorithm)\n",
    "    return classlist"
   ]
  },
  {
   "cell_type": "code",
   "execution_count": 66,
   "id": "41ff87ba",
   "metadata": {},
   "outputs": [
    {
     "name": "stdout",
     "output_type": "stream",
     "text": [
      "Insert time taken for 'test1-mobydick.txt' is : 0.025592100000039864\n",
      "Insert time taken for 'test2-warpeace.txt' is : 0.06768009999996139\n",
      "Insert time taken for 'test3-dickens.txt' is : 0.6820534000000862\n"
     ]
    }
   ],
   "source": [
    "# Sequential Search\n",
    "SEQs = InsertTime(SequentialSearchSet, files)"
   ]
  },
  {
   "cell_type": "code",
   "execution_count": 44,
   "id": "f69c8a50",
   "metadata": {
    "scrolled": true
   },
   "outputs": [
    {
     "name": "stdout",
     "output_type": "stream",
     "text": [
      "Insert time taken for 'test1-mobydick.txt' is : 0.8620805999998993\n",
      "Insert time taken for 'test2-warpeace.txt' is : 1.7369330999999875\n",
      "Insert time taken for 'test3-dickens.txt' is : 15.304025599999932\n"
     ]
    }
   ],
   "source": [
    "# Binary Search Tree\n",
    "BSTs = InsertTime(BinarySearchTreeSet, files)"
   ]
  },
  {
   "cell_type": "code",
   "execution_count": 45,
   "id": "399c5214",
   "metadata": {},
   "outputs": [
    {
     "name": "stdout",
     "output_type": "stream",
     "text": [
      "Insert time taken for 'test1-mobydick.txt' is : 1.502560800000083\n",
      "Insert time taken for 'test2-warpeace.txt' is : 4.058674099999962\n",
      "Insert time taken for 'test3-dickens.txt' is : 39.84764289999998\n"
     ]
    }
   ],
   "source": [
    "# Balanced Search Tree\n",
    "RBTs = InsertTime(BalancedSearchTreeSet, files)"
   ]
  },
  {
   "cell_type": "code",
   "execution_count": 46,
   "id": "0d1d655b",
   "metadata": {},
   "outputs": [
    {
     "name": "stdout",
     "output_type": "stream",
     "text": [
      "Insert time taken for 'test1-mobydick.txt' is : 1.3108581999999842\n",
      "Insert time taken for 'test2-warpeace.txt' is : 3.4592388000000938\n",
      "Insert time taken for 'test3-dickens.txt' is : 31.690071200000148\n"
     ]
    }
   ],
   "source": [
    "# Bloom Filter\n",
    "BFs = []\n",
    "for key in files.keys():\n",
    "    algorithm = BloomFilterSet()\n",
    "    algorithm.initVariables(len(files[key]), 0.01, hashFunctions)\n",
    "    InsertStart = timeit.default_timer()\n",
    "    for word in files[key]:\n",
    "        algorithm.insertElement(word)\n",
    "    InsertEnd = timeit.default_timer()\n",
    "    InsertTime = InsertEnd - InsertStart\n",
    "    print(\"Insert time taken for\", key, \"is :\", InsertTime)\n",
    "    BFs.append(algorithm)"
   ]
  },
  {
   "cell_type": "markdown",
   "id": "d5a034ed",
   "metadata": {},
   "source": [
    "#### The total amount of time of search operations"
   ]
  },
  {
   "cell_type": "code",
   "execution_count": 47,
   "id": "ffa545ab",
   "metadata": {},
   "outputs": [],
   "source": [
    "def SearchTime(objects, searchdata):\n",
    "    for obj in objects:\n",
    "        SearchStart = timeit.default_timer()\n",
    "        for ws in searchdata:\n",
    "            obj.searchElement(ws)\n",
    "        SearchEnd = timeit.default_timer()\n",
    "        SearchTime = SearchEnd - SearchStart\n",
    "        print(\"Search time taken for 'test-search.txt' in file\", \n",
    "              objects.index(obj)+1, \"is :\", SearchTime)"
   ]
  },
  {
   "cell_type": "code",
   "execution_count": 67,
   "id": "b0153c79",
   "metadata": {},
   "outputs": [
    {
     "name": "stdout",
     "output_type": "stream",
     "text": [
      "Search time taken for 'test-search.txt' in file 1 is : 3.614028499999904\n",
      "Search time taken for 'test-search.txt' in file 2 is : 9.116420000000062\n",
      "Search time taken for 'test-search.txt' in file 3 is : 79.34528720000003\n"
     ]
    }
   ],
   "source": [
    "# Sequential Search Tree\n",
    "SearchTime(SEQs, wordsforsearch)"
   ]
  },
  {
   "cell_type": "code",
   "execution_count": 49,
   "metadata": {},
   "outputs": [
    {
     "name": "stdout",
     "output_type": "stream",
     "text": [
      "Search time taken for 'test-search.txt' in file 1 is : 0.0016153000001395412\n",
      "Search time taken for 'test-search.txt' in file 2 is : 0.002173800000036863\n",
      "Search time taken for 'test-search.txt' in file 3 is : 0.0021633000001202163\n"
     ]
    }
   ],
   "source": [
    "# Binary Search Tree\n",
    "SearchTime(BSTs, wordsforsearch)"
   ]
  },
  {
   "cell_type": "code",
   "execution_count": 61,
   "id": "7513ea42",
   "metadata": {},
   "outputs": [
    {
     "name": "stdout",
     "output_type": "stream",
     "text": [
      "Search time taken for 'test-search.txt' in file 1 is : 0.0029900000008638017\n",
      "Search time taken for 'test-search.txt' in file 2 is : 0.0023522000010416377\n",
      "Search time taken for 'test-search.txt' in file 3 is : 0.00291060000017751\n"
     ]
    }
   ],
   "source": [
    "# Balanced Search Tree\n",
    "SearchTime(RBTs, wordsforsearch)"
   ]
  },
  {
   "cell_type": "code",
   "execution_count": 67,
   "id": "017aa425",
   "metadata": {},
   "outputs": [
    {
     "name": "stdout",
     "output_type": "stream",
     "text": [
      "Search time taken for 'test-search.txt' in file 1 is : 0.006858199998532655\n",
      "Search time taken for 'test-search.txt' in file 2 is : 0.005692299999282113\n",
      "Search time taken for 'test-search.txt' in file 3 is : 0.006495800000266172\n"
     ]
    }
   ],
   "source": [
    "# Bloom Filter\n",
    "SearchTime(BFs, wordsforsearch)"
   ]
  },
  {
   "cell_type": "code",
   "execution_count": null,
   "id": "8b1c97ad",
   "metadata": {},
   "outputs": [],
   "source": []
  },
  {
   "cell_type": "markdown",
   "id": "41ef4e99",
   "metadata": {},
   "source": [
    "### Using Synthetic Data"
   ]
  },
  {
   "cell_type": "markdown",
   "id": "f4490e86",
   "metadata": {},
   "source": [
    "### different conditions:\n",
    "- Duplicate cases\n",
    "- Longer String length\n",
    "- Adding numbers and symbols in each string\n",
    "- String list in ascending/descending order\n",
    "- Missing values\n",
    "- ......"
   ]
  },
  {
   "cell_type": "code",
   "execution_count": 2,
   "id": "a9a1fa97",
   "metadata": {
    "scrolled": true
   },
   "outputs": [
    {
     "name": "stdout",
     "output_type": "stream",
     "text": [
      "['aiet', 'bbrr', 'csgv', 'dmux', 'ezat', 'fxew', 'gfhm', 'hyjd', 'iaby', 'jwzk', 'kshf', 'lwrx', 'mdrk', 'nbfd', 'ogxs', 'pgyh', 'qyvb', 'rxeo', 'sjff', 'tosj', 'ukjl', 'vhgj', 'wlgn', 'xtyg', 'yvhy', 'zchc']\n",
      "[634667, 496119, 767303, 410927, 353639, 23654, 399978, 520985, 373862, 726654]\n"
     ]
    },
    {
     "data": {
      "text/plain": [
       "[634667, 496119, 767303, 410927, 353639, 23654, 399978, 520985, 373862, 726654]"
      ]
     },
     "execution_count": 2,
     "metadata": {},
     "output_type": "execute_result"
    }
   ],
   "source": [
    "# 1st version\n",
    "\n",
    "class TestDataGenerator():\n",
    "\n",
    "    def __init__(self):\n",
    "            self.syntheticData = []\n",
    "            \n",
    "            pass           \n",
    "            \n",
    "    # sythetic data -- integers:\n",
    "    def generateNum(self, size):\n",
    "        for _ in range(size):\n",
    "            item = random.randrange(0,1000000)\n",
    "            self.syntheticData.append(item)\n",
    "        print(self.syntheticData) # delete when it's finished\n",
    "        return self.syntheticData   \n",
    "    \n",
    "    # sythetic data -- 4-letter string (randomly without real meanings):\n",
    "    def generateString(self,size):\n",
    "        letters = string.ascii_lowercase\n",
    "        for letter in letters:\n",
    "            for _ in range(size):\n",
    "                letter1 = ''.join(random.choice(letters))\n",
    "                letter2 = ''.join(random.choice(letters))\n",
    "                letter3 = ''.join(random.choice(letters))\n",
    "                stringGenerated = letter + letter1 + letter2 + letter3\n",
    "                self.syntheticData.append(stringGenerated)\n",
    "        print(self.syntheticData) # delete when it's finished\n",
    "        return self.syntheticData\n",
    "\n",
    "toGenerate = TestDataGenerator()\n",
    "toSearch = TestDataGenerator()\n",
    "\n",
    "toGenerate.generateString(1)\n",
    "toSearch.generateNum(10)"
   ]
  },
  {
   "cell_type": "code",
   "execution_count": null,
   "id": "b9244868",
   "metadata": {},
   "outputs": [],
   "source": []
  },
  {
   "cell_type": "code",
   "execution_count": null,
   "id": "72f413ff",
   "metadata": {},
   "outputs": [],
   "source": []
  },
  {
   "cell_type": "code",
   "execution_count": null,
   "id": "f71c7901",
   "metadata": {},
   "outputs": [],
   "source": []
  },
  {
   "cell_type": "markdown",
   "id": "1523a78d",
   "metadata": {},
   "source": [
    "# --------"
   ]
  },
  {
   "cell_type": "code",
   "execution_count": 48,
   "id": "35662ace",
   "metadata": {},
   "outputs": [
    {
     "name": "stdout",
     "output_type": "stream",
     "text": [
      "True\n",
      "True\n",
      "True\n"
     ]
    }
   ],
   "source": [
    "rbt = BalancedSearchTreeSet()\n",
    "rbt.insertElement('b')\n",
    "rbt.insertElement('a')\n",
    "rbt.insertElement('c')\n",
    "\n",
    "print(rbt.searchElement('b'))\n",
    "print(rbt.searchElement('a'))\n",
    "print(rbt.searchElement('c'))"
   ]
  },
  {
   "cell_type": "markdown",
   "id": "4c1b322e",
   "metadata": {},
   "source": [
    "Sequential Search"
   ]
  },
  {
   "cell_type": "code",
   "execution_count": 68,
   "id": "d8187008",
   "metadata": {},
   "outputs": [
    {
     "ename": "AttributeError",
     "evalue": "'list' object has no attribute 'insertElement'",
     "output_type": "error",
     "traceback": [
      "\u001b[1;31m---------------------------------------------------------------------------\u001b[0m",
      "\u001b[1;31mAttributeError\u001b[0m                            Traceback (most recent call last)",
      "\u001b[1;32m~\\AppData\\Local\\Temp\\ipykernel_27260\\2375292265.py\u001b[0m in \u001b[0;36m<module>\u001b[1;34m\u001b[0m\n\u001b[0;32m      2\u001b[0m     \u001b[0mseqInsertStart\u001b[0m \u001b[1;33m=\u001b[0m \u001b[0mtimeit\u001b[0m\u001b[1;33m.\u001b[0m\u001b[0mdefault_timer\u001b[0m\u001b[1;33m(\u001b[0m\u001b[1;33m)\u001b[0m\u001b[1;33m\u001b[0m\u001b[1;33m\u001b[0m\u001b[0m\n\u001b[0;32m      3\u001b[0m     \u001b[1;32mfor\u001b[0m \u001b[0mword\u001b[0m \u001b[1;32min\u001b[0m \u001b[0mfiles\u001b[0m\u001b[1;33m[\u001b[0m\u001b[0mkey\u001b[0m\u001b[1;33m]\u001b[0m\u001b[1;33m:\u001b[0m\u001b[1;33m\u001b[0m\u001b[1;33m\u001b[0m\u001b[0m\n\u001b[1;32m----> 4\u001b[1;33m         \u001b[0mSEQs\u001b[0m\u001b[1;33m.\u001b[0m\u001b[0minsertElement\u001b[0m\u001b[1;33m(\u001b[0m\u001b[0mword\u001b[0m\u001b[1;33m)\u001b[0m\u001b[1;33m\u001b[0m\u001b[1;33m\u001b[0m\u001b[0m\n\u001b[0m\u001b[0;32m      5\u001b[0m     \u001b[0mseqInsertEnd\u001b[0m \u001b[1;33m=\u001b[0m \u001b[0mtimeit\u001b[0m\u001b[1;33m.\u001b[0m\u001b[0mdefault_timer\u001b[0m\u001b[1;33m(\u001b[0m\u001b[1;33m)\u001b[0m\u001b[1;33m\u001b[0m\u001b[1;33m\u001b[0m\u001b[0m\n\u001b[0;32m      6\u001b[0m     \u001b[0mseqInsertTime\u001b[0m \u001b[1;33m=\u001b[0m \u001b[0mseqInsertEnd\u001b[0m \u001b[1;33m-\u001b[0m \u001b[0mseqInsertStart\u001b[0m\u001b[1;33m\u001b[0m\u001b[1;33m\u001b[0m\u001b[0m\n",
      "\u001b[1;31mAttributeError\u001b[0m: 'list' object has no attribute 'insertElement'"
     ]
    }
   ],
   "source": [
    "for key in files.keys():\n",
    "    seqInsertStart = timeit.default_timer()\n",
    "    for word in files[key]:\n",
    "        SEQs.insertElement(word)\n",
    "    seqInsertEnd = timeit.default_timer()\n",
    "    seqInsertTime = seqInsertEnd - seqInsertStart\n",
    "    print(\"Insert time taken for \", key, \"is : \", seqInsertTime)"
   ]
  },
  {
   "cell_type": "markdown",
   "id": "8d7873f3",
   "metadata": {},
   "source": [
    "Sequential Search"
   ]
  },
  {
   "cell_type": "code",
   "execution_count": null,
   "id": "6439270e",
   "metadata": {},
   "outputs": [],
   "source": [
    "SeqSearchStart = timeit.default_timer()\n",
    "for ws in wordsforsearch:\n",
    "    SEQs.searchElement(ws)\n",
    "SeqSearchEnd = timeit.default_timer()\n",
    "SeqSearchTime = SeqSearchEnd - SeqSearchStart\n",
    "print(\"Search time taken for 'test-search.txt' is : \", SeqSearchTime)"
   ]
  },
  {
   "cell_type": "markdown",
   "id": "210788d9",
   "metadata": {},
   "source": [
    "Binary Search Tree"
   ]
  },
  {
   "cell_type": "code",
   "execution_count": 70,
   "id": "e1c6136a",
   "metadata": {},
   "outputs": [
    {
     "ename": "AttributeError",
     "evalue": "'list' object has no attribute 'insertElement'",
     "output_type": "error",
     "traceback": [
      "\u001b[1;31m---------------------------------------------------------------------------\u001b[0m",
      "\u001b[1;31mAttributeError\u001b[0m                            Traceback (most recent call last)",
      "\u001b[1;32m~\\AppData\\Local\\Temp\\ipykernel_27260\\3371357167.py\u001b[0m in \u001b[0;36m<module>\u001b[1;34m\u001b[0m\n\u001b[0;32m      2\u001b[0m     \u001b[0mbinaryInsertStart\u001b[0m \u001b[1;33m=\u001b[0m \u001b[0mtimeit\u001b[0m\u001b[1;33m.\u001b[0m\u001b[0mdefault_timer\u001b[0m\u001b[1;33m(\u001b[0m\u001b[1;33m)\u001b[0m\u001b[1;33m\u001b[0m\u001b[1;33m\u001b[0m\u001b[0m\n\u001b[0;32m      3\u001b[0m     \u001b[1;32mfor\u001b[0m \u001b[0mword\u001b[0m \u001b[1;32min\u001b[0m \u001b[0mfiles\u001b[0m\u001b[1;33m[\u001b[0m\u001b[0mkey\u001b[0m\u001b[1;33m]\u001b[0m\u001b[1;33m:\u001b[0m\u001b[1;33m\u001b[0m\u001b[1;33m\u001b[0m\u001b[0m\n\u001b[1;32m----> 4\u001b[1;33m         \u001b[0mBSTs\u001b[0m\u001b[1;33m.\u001b[0m\u001b[0minsertElement\u001b[0m\u001b[1;33m(\u001b[0m\u001b[0mword\u001b[0m\u001b[1;33m)\u001b[0m\u001b[1;33m\u001b[0m\u001b[1;33m\u001b[0m\u001b[0m\n\u001b[0m\u001b[0;32m      5\u001b[0m     \u001b[0mbinaryInsertEnd\u001b[0m \u001b[1;33m=\u001b[0m \u001b[0mtimeit\u001b[0m\u001b[1;33m.\u001b[0m\u001b[0mdefault_timer\u001b[0m\u001b[1;33m(\u001b[0m\u001b[1;33m)\u001b[0m\u001b[1;33m\u001b[0m\u001b[1;33m\u001b[0m\u001b[0m\n\u001b[0;32m      6\u001b[0m     \u001b[0mbinaryInsertTime\u001b[0m \u001b[1;33m=\u001b[0m \u001b[0mbinaryInsertEnd\u001b[0m \u001b[1;33m-\u001b[0m \u001b[0mbinaryInsertStart\u001b[0m\u001b[1;33m\u001b[0m\u001b[1;33m\u001b[0m\u001b[0m\n",
      "\u001b[1;31mAttributeError\u001b[0m: 'list' object has no attribute 'insertElement'"
     ]
    }
   ],
   "source": [
    "for key in files.keys():\n",
    "    binaryInsertStart = timeit.default_timer()\n",
    "    for word in files[key]:\n",
    "        BSTs.insertElement(word)\n",
    "    binaryInsertEnd = timeit.default_timer()\n",
    "    binaryInsertTime = binaryInsertEnd - binaryInsertStart\n",
    "    print(\"Insert time taken for \", key, \"is : \", binaryInsertTime)"
   ]
  },
  {
   "cell_type": "markdown",
   "id": "18cbc4f4",
   "metadata": {},
   "source": [
    "Binary Search Tree"
   ]
  },
  {
   "cell_type": "code",
   "execution_count": 73,
   "id": "097549fc",
   "metadata": {},
   "outputs": [
    {
     "ename": "AttributeError",
     "evalue": "'list' object has no attribute 'searchElement'",
     "output_type": "error",
     "traceback": [
      "\u001b[1;31m---------------------------------------------------------------------------\u001b[0m",
      "\u001b[1;31mAttributeError\u001b[0m                            Traceback (most recent call last)",
      "\u001b[1;32m~\\AppData\\Local\\Temp\\ipykernel_27260\\1165406966.py\u001b[0m in \u001b[0;36m<module>\u001b[1;34m\u001b[0m\n\u001b[0;32m      1\u001b[0m \u001b[0mBinarySearchStart\u001b[0m \u001b[1;33m=\u001b[0m \u001b[0mtimeit\u001b[0m\u001b[1;33m.\u001b[0m\u001b[0mdefault_timer\u001b[0m\u001b[1;33m(\u001b[0m\u001b[1;33m)\u001b[0m\u001b[1;33m\u001b[0m\u001b[1;33m\u001b[0m\u001b[0m\n\u001b[0;32m      2\u001b[0m \u001b[1;32mfor\u001b[0m \u001b[0mws\u001b[0m \u001b[1;32min\u001b[0m \u001b[0mwordsforsearch\u001b[0m\u001b[1;33m:\u001b[0m\u001b[1;33m\u001b[0m\u001b[1;33m\u001b[0m\u001b[0m\n\u001b[1;32m----> 3\u001b[1;33m     \u001b[0mBSTs\u001b[0m\u001b[1;33m.\u001b[0m\u001b[0msearchElement\u001b[0m\u001b[1;33m(\u001b[0m\u001b[0mws\u001b[0m\u001b[1;33m)\u001b[0m\u001b[1;33m\u001b[0m\u001b[1;33m\u001b[0m\u001b[0m\n\u001b[0m\u001b[0;32m      4\u001b[0m \u001b[0mBinarySearchEnd\u001b[0m \u001b[1;33m=\u001b[0m \u001b[0mtimeit\u001b[0m\u001b[1;33m.\u001b[0m\u001b[0mdefault_timer\u001b[0m\u001b[1;33m(\u001b[0m\u001b[1;33m)\u001b[0m\u001b[1;33m\u001b[0m\u001b[1;33m\u001b[0m\u001b[0m\n\u001b[0;32m      5\u001b[0m \u001b[0mBinarySearchTime\u001b[0m \u001b[1;33m=\u001b[0m \u001b[0mBinarySearchEnd\u001b[0m \u001b[1;33m-\u001b[0m \u001b[0mBinarySearchStart\u001b[0m\u001b[1;33m\u001b[0m\u001b[1;33m\u001b[0m\u001b[0m\n",
      "\u001b[1;31mAttributeError\u001b[0m: 'list' object has no attribute 'searchElement'"
     ]
    }
   ],
   "source": [
    "BinarySearchStart = timeit.default_timer()\n",
    "for ws in wordsforsearch:\n",
    "    BSTs.searchElement(ws)\n",
    "BinarySearchEnd = timeit.default_timer()\n",
    "BinarySearchTime = BinarySearchEnd - BinarySearchStart\n",
    "print(\"Search time taken for 'test-search.txt' is : \", BinarySearchTime)"
   ]
  },
  {
   "cell_type": "markdown",
   "id": "847c808e",
   "metadata": {},
   "source": [
    "Balanced Search Tree"
   ]
  },
  {
   "cell_type": "code",
   "execution_count": 38,
   "id": "8d98154a",
   "metadata": {},
   "outputs": [
    {
     "name": "stdout",
     "output_type": "stream",
     "text": [
      "Insert time taken for  'test1-mobydick.txt' is :  2.1321972999994614\n",
      "Insert time taken for  'test2-warpeace.txt' is :  6.030556100000467\n",
      "Insert time taken for  'test-search.txt' is :  60.04795980000017\n"
     ]
    }
   ],
   "source": [
    "for key in files.keys():\n",
    "    RedBlackInsertStart = timeit.default_timer()\n",
    "    for word in files[key]:\n",
    "        RBT.insertElement(word)\n",
    "    RedBlackInsertEnd = timeit.default_timer()\n",
    "    RedBlackInsertTime = RedBlackInsertEnd - RedBlackInsertStart\n",
    "    print(\"Insert time taken for \", key, \"is : \", RedBlackInsertTime)"
   ]
  },
  {
   "cell_type": "markdown",
   "id": "d819dda5",
   "metadata": {},
   "source": [
    "Balanced Search Tree"
   ]
  },
  {
   "cell_type": "code",
   "execution_count": 42,
   "id": "c2ce07de",
   "metadata": {},
   "outputs": [
    {
     "name": "stdout",
     "output_type": "stream",
     "text": [
      "Search time taken for 'test-search.txt' is :  0.0031930999994074227\n"
     ]
    }
   ],
   "source": [
    "RedBlackSearchStart = timeit.default_timer()\n",
    "for ws in wordsforsearch:\n",
    "    RBT.searchElement(ws)\n",
    "RedBlackSearchEnd = timeit.default_timer()\n",
    "RedBlackSearchTime = RedBlackSearchEnd - RedBlackSearchStart\n",
    "print(\"Search time taken for 'test-search.txt' is : \", RedBlackSearchTime)"
   ]
  },
  {
   "cell_type": "markdown",
   "id": "af2601d2",
   "metadata": {},
   "source": [
    "Bloom Filter"
   ]
  },
  {
   "cell_type": "code",
   "execution_count": 40,
   "id": "e812f726",
   "metadata": {},
   "outputs": [
    {
     "name": "stdout",
     "output_type": "stream",
     "text": [
      "Insert time taken for  'test1-mobydick.txt' is :  2.006846799999039\n",
      "Insert time taken for  'test2-warpeace.txt' is :  5.462229099999604\n",
      "Insert time taken for  'test3-dickens.txt' is :  49.96937220000109\n"
     ]
    }
   ],
   "source": [
    "for key in files.keys():\n",
    "    BFInsertStart = timeit.default_timer()\n",
    "    for word in files[key]:\n",
    "        BF.insertElement(word)\n",
    "    BFInsertEnd = timeit.default_timer()\n",
    "    BFInsertTime = BFInsertEnd - BFInsertStart\n",
    "    print(\"Insert time taken for \", key, \"is : \", BFInsertTime)"
   ]
  },
  {
   "cell_type": "markdown",
   "id": "a79f425c",
   "metadata": {},
   "source": [
    "Bloom Filter"
   ]
  },
  {
   "cell_type": "code",
   "execution_count": 43,
   "id": "d0dff280",
   "metadata": {},
   "outputs": [
    {
     "name": "stdout",
     "output_type": "stream",
     "text": [
      "Search time taken for 'test-search.txt' is :  0.005908900000576978\n"
     ]
    }
   ],
   "source": [
    "BFSearchStart = timeit.default_timer()\n",
    "for word in wordsforsearch:\n",
    "    BF.searchElement(word)\n",
    "BFSearchEnd = timeit.default_timer()\n",
    "BFSearchTime = BFSearchEnd - BFSearchStart\n",
    "print(\"Search time taken for 'test-search.txt' is : \", BFSearchTime)"
   ]
  },
  {
   "cell_type": "code",
   "execution_count": null,
   "id": "7a1c249d",
   "metadata": {},
   "outputs": [],
   "source": []
  },
  {
   "cell_type": "code",
   "execution_count": null,
   "id": "802872f0",
   "metadata": {},
   "outputs": [],
   "source": [
    "a = './data/testfiles/test1-mobydick.txt'\n",
    "b = './data/testfiles/test2-warpeace.txt'\n",
    "c = './data/testfiles/test3-dickens.txt'\n",
    "insertFiles = [a,b,c]\n",
    "\n",
    "for file in insertFiles:\n",
    "    seqInsertStart = timeit.default_timer()\n",
    "    seqS.insertElement(file)\n",
    "    seqInsertEnd = timeit.default_timer()\n",
    "    seqInsertTime = seqInsertEnd - seqInsertStart\n",
    "    print(seqInsertTime)"
   ]
  },
  {
   "cell_type": "code",
   "execution_count": 45,
   "id": "0eab3e67",
   "metadata": {},
   "outputs": [
    {
     "name": "stdout",
     "output_type": "stream",
     "text": [
      "False ,['zero'] is not found\n",
      "94.96285220000027\n",
      "False ,['zero'] is not found\n",
      "106.49899989999994\n",
      "False ,['zero'] is not found\n",
      "183.5646872999996\n"
     ]
    }
   ],
   "source": [
    "a = './data/testfiles/test1-mobydick.txt'\n",
    "b = './data/testfiles/test2-warpeace.txt'\n",
    "c = './data/testfiles/test3-dickens.txt'\n",
    "d = \"./data/testfiles/test-search.txt\"\n",
    "insertFiles = [a,b,c]\n",
    "for file in insertFiles:\n",
    "    seqS.insertElement(file)\n",
    "    SeqSearchStart = timeit.default_timer()\n",
    "    seqS.searchElement(d)\n",
    "    SeqSearchEnd = timeit.default_timer()\n",
    "    SeqSearchTime = SeqSearchEnd - SeqSearchStart\n",
    "    print(SeqSearchTime)"
   ]
  },
  {
   "cell_type": "code",
   "execution_count": 44,
   "id": "ee49db02",
   "metadata": {},
   "outputs": [
    {
     "name": "stdout",
     "output_type": "stream",
     "text": [
      "1.3200000012147939e-05\n",
      "1.6899999991437653e-05\n",
      "4.79999994240643e-06\n"
     ]
    }
   ],
   "source": [
    "a = './data/testfiles/test1-mobydick.txt'\n",
    "b = './data/testfiles/test2-warpeace.txt'\n",
    "c = './data/testfiles/test3-dickens.txt'\n",
    "insertFiles = [a,b,c]\n",
    "\n",
    "for file in insertFiles:\n",
    "    BSTInsertStart = timeit.default_timer()\n",
    "    rbt.insertElement(file)\n",
    "    BSTInsertEnd = timeit.default_timer()\n",
    "    BSTInsertTime = BSTInsertEnd - BSTInsertStart\n",
    "    print(BSTInsertTime)\n"
   ]
  },
  {
   "cell_type": "code",
   "execution_count": null,
   "id": "e053e814",
   "metadata": {},
   "outputs": [],
   "source": [
    "def insert_file():\n",
    "    a = './data/testfiles/test1-mobydick.txt'\n",
    "    b = './data/testfiles/test2-warpeace.txt'\n",
    "    c = './data/testfiles/test3-dickens.txt'\n",
    "    insertFiles = [a,b,c]\n",
    "    for file in insertFiles:\n",
    "        BSTInsertStart = timeit.default_timer()\n",
    "        bst.insertElement(file)\n",
    "        BSTInsertEnd = timeit.default_timer()\n",
    "        BSTInsertTime = BSTInsertEnd - BSTInsertStart\n",
    "        print(BSTInsertTime)\n",
    "\n",
    "def insert_real_data_test(words, bst):\n",
    "    BSTInsertStart = timeit.default_timer() \n",
    "    for word in words:\n",
    "        bst.insertElement(word)\n",
    "    BSTInsertEnd = timeit.default_timer()\n",
    "    BSTInsertTime = BSTInsertEnd - BSTInsertStart\n",
    "    print(\"Insert time: \", BSTInsertTime)\n",
    "\n",
    "def search_words_in_set(words, bst):\n",
    "    BSTSearchStart = timeit.default_timer() \n",
    "    for word in words:\n",
    "        bst.searchElement(word)\n",
    "    BSTSearchEnd = timeit.default_timer()\n",
    "    BSTSearchTime = BSTSearchEnd - BSTSearchStart\n",
    "    print(\"Search time (word already in set): \", BSTSearchTime)\n",
    "\n",
    "\n",
    "def search_words(words, bst):\n",
    "    BSTSearchStart = timeit.default_timer() \n",
    "    for word in words:\n",
    "        bst.searchElement(word)\n",
    "    BSTSearchEnd = timeit.default_timer()\n",
    "    BSTSearchTime = BSTSearchEnd - BSTSearchStart\n",
    "    print(\"Search time (test-search words): \", BSTSearchTime)\n",
    "\n",
    "\n",
    "bst1 = BinarySearchTreeSet()\n",
    "bst2 = BinarySearchTreeSet()\n",
    "bst3 = BinarySearchTreeSet()\n",
    "\n",
    "insert_real_data_test(words, bst1)\n",
    "insert_real_data_test(words2, bst2)\n",
    "insert_real_data_test(words3, bst3)\n",
    "\n",
    "search_words_in_set(words, bst1)\n",
    "search_words_in_set(words2, bst2)\n",
    "search_words_in_set(words3, bst3)\n",
    "\n",
    "search_words(words, bst1)\n",
    "search_words(words2, bst2)\n",
    "search_words(words3, bst3)"
   ]
  },
  {
   "cell_type": "code",
   "execution_count": 46,
   "id": "34b37f9f",
   "metadata": {},
   "outputs": [
    {
     "name": "stdout",
     "output_type": "stream",
     "text": [
      "2.4000000848900527e-06\n",
      "8.000001798791345e-07\n",
      "7.000003279244993e-07\n"
     ]
    }
   ],
   "source": [
    "a = './data/testfiles/test1-mobydick.txt'\n",
    "b = './data/testfiles/test2-warpeace.txt'\n",
    "c = './data/testfiles/test3-dickens.txt'\n",
    "d = \"./data/testfiles/test-search.txt\"\n",
    "insertFiles = [a,b,c]\n",
    "\n",
    "for file in insertFiles:\n",
    "    rbt.insertElement(file)\n",
    "    BSTSearchStart = timeit.default_timer()\n",
    "    rbt.searchElement(d)\n",
    "    BSTSearchEnd = timeit.default_timer()\n",
    "    BSTSearchTime = BSTSearchEnd - BSTSearchStart\n",
    "    print(BSTSearchTime)"
   ]
  },
  {
   "cell_type": "code",
   "execution_count": null,
   "id": "9d0df878",
   "metadata": {},
   "outputs": [],
   "source": []
  },
  {
   "cell_type": "code",
   "execution_count": null,
   "id": "ee8af87f",
   "metadata": {},
   "outputs": [],
   "source": []
  },
  {
   "cell_type": "code",
   "execution_count": null,
   "id": "acfbe9a9",
   "metadata": {},
   "outputs": [],
   "source": []
  },
  {
   "cell_type": "code",
   "execution_count": null,
   "id": "46d16d4a",
   "metadata": {},
   "outputs": [],
   "source": []
  },
  {
   "cell_type": "code",
   "execution_count": null,
   "id": "a5657f62",
   "metadata": {},
   "outputs": [],
   "source": []
  }
 ],
 "metadata": {
  "kernelspec": {
   "display_name": "Python 3 (ipykernel)",
   "language": "python",
   "name": "python3"
  },
  "language_info": {
   "codemirror_mode": {
    "name": "ipython",
    "version": 3
   },
   "file_extension": ".py",
   "mimetype": "text/x-python",
   "name": "python",
   "nbconvert_exporter": "python",
   "pygments_lexer": "ipython3",
   "version": "3.9.13"
  }
 },
 "nbformat": 4,
 "nbformat_minor": 5
}
