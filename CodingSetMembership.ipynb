{
 "cells": [
  {
   "cell_type": "markdown",
   "id": "b00da59f",
   "metadata": {},
   "source": [
    "# Set Membership Coursework"
   ]
  },
  {
   "cell_type": "markdown",
   "id": "f9b1bd12",
   "metadata": {},
   "source": [
    "## 1. Implementeation"
   ]
  },
  {
   "cell_type": "markdown",
   "id": "7479a715",
   "metadata": {},
   "source": [
    "### Sequential Search "
   ]
  },
  {
   "cell_type": "code",
   "execution_count": 14,
   "id": "a191de21",
   "metadata": {},
   "outputs": [],
   "source": [
    "class SequentialSearch():\n",
    "    \n",
    "    def __init__(self):\n",
    "        # ADD YOUR CODE HERE\n",
    "        self.items = []\n",
    "        pass           \n",
    "        \n",
    "    def insertElement(self, file):\n",
    "        inserted = False\n",
    "        with open(file,'r') as k:\n",
    "            for strs in k:\n",
    "                items = strs.split()\n",
    "                for item in items:\n",
    "                    self.items.append(item)\n",
    "        \n",
    "        return inserted   \n",
    "\n",
    "    def searchElement(self, file):     \n",
    "        found = False\n",
    "        with open(file,'r') as k:\n",
    "            for elements in k:\n",
    "                item2 = elements.split()\n",
    "                for item1 in self.items:\n",
    "                    if item1 == item2:\n",
    "                        found = True\n",
    "                    else:\n",
    "                        found = False\n",
    "            if found == False:\n",
    "                print(found, ',%s is not found' % item2)\n",
    "        return found   "
   ]
  },
  {
   "cell_type": "markdown",
   "id": "5b2faf0e",
   "metadata": {},
   "source": [
    "### Binary Search Tree"
   ]
  },
  {
   "cell_type": "code",
   "execution_count": null,
   "id": "ea9826d3",
   "metadata": {},
   "outputs": [],
   "source": []
  },
  {
   "cell_type": "markdown",
   "id": "d255329f",
   "metadata": {},
   "source": [
    "### Balanced Search Tree"
   ]
  },
  {
   "cell_type": "code",
   "execution_count": 15,
   "id": "fd4eb6cf",
   "metadata": {},
   "outputs": [],
   "source": [
    "# Red-Black Search Tree\n",
    "\n",
    "class RBTree:\n",
    "    R = True\n",
    "    B = False\n",
    "    # R refers to Red; B refers to Black\n",
    "    \n",
    "    class Nodes:\n",
    "        def __init__(self,val,colour):\n",
    "            self.val = val\n",
    "            self.colour = colour\n",
    "            self.left = None\n",
    "            self.right = None\n",
    "            \n",
    "    def __init__(self):\n",
    "        self.root = None\n",
    "        \n",
    "    def searchElement(self,val):\n",
    "        return self.search(self.root,val)\n",
    "    \n",
    "    def search(self,node,val):\n",
    "        if node is None:\n",
    "            return False\n",
    "        else:\n",
    "            if node.val == val:\n",
    "                return True\n",
    "            elif node.val > val:\n",
    "                return self.search(node.left,val)\n",
    "            else:\n",
    "                return self.search(node.right,val)\n",
    "    \n",
    "    def insertElement(self, val):\n",
    "        self.root = self.insert(self.root, val)\n",
    "        self.root.colour = self.B\n",
    "\n",
    "\n",
    "    def insert(self, node, val):\n",
    "        if node is None:\n",
    "            return self.Nodes(val, self.R)\n",
    "\n",
    "        if val < node.val:\n",
    "            node.left = self.insert(node.left, val)\n",
    "        elif val > node.val:\n",
    "            node.right = self.insert(node.right, val)\n",
    "        else:\n",
    "            # value already exists, do nothing\n",
    "            return node\n",
    "\n",
    "        # perform rotations and color flips\n",
    "        if self.isR(node.right) and not self.isR(node.left):\n",
    "            node = self.leftRotate(node)\n",
    "        if self.isR(node.left) and self.isR(node.left.left):\n",
    "            node = self.rightRotate(node)\n",
    "        if self.isR(node.left) and self.isR(node.right):\n",
    "            self.flipColour(node)\n",
    "\n",
    "        return node\n",
    "\n",
    "    def isR(self,node):\n",
    "        if node is None:\n",
    "            return False\n",
    "        return node.colour == self.R\n",
    "  \n",
    "    def leftRotate(self, node):\n",
    "        x = node.right\n",
    "        node.right = x.left\n",
    "        x.left = node\n",
    "        x.colour = node.colour\n",
    "        node.colour = self.R\n",
    "        return x\n",
    "    \n",
    "    def rightRotate(self, node):\n",
    "        x = node.left\n",
    "        node.left = x.right\n",
    "        x.right = node\n",
    "        x.colour = node.colour\n",
    "        node.colour = self.R\n",
    "        return x\n",
    "    \n",
    "    def flipColour(self, node):\n",
    "        node.colour = not node.colour\n",
    "        node.left.colour = self.B\n",
    "        node.right.colour = self.B\n"
   ]
  },
  {
   "cell_type": "code",
   "execution_count": 16,
   "id": "e6a16c88",
   "metadata": {},
   "outputs": [
    {
     "name": "stdout",
     "output_type": "stream",
     "text": [
      "True\n",
      "True\n",
      "True\n"
     ]
    }
   ],
   "source": [
    "rbt = RBTree()\n",
    "rbt.insertElement('b')\n",
    "rbt.insertElement('a')\n",
    "rbt.insertElement('c')\n",
    "\n",
    "print(rbt.searchElement('b'))\n",
    "print(rbt.searchElement('a'))\n",
    "print(rbt.searchElement('c'))"
   ]
  },
  {
   "cell_type": "markdown",
   "id": "108b949c",
   "metadata": {},
   "source": [
    "### Bloom Filter"
   ]
  },
  {
   "cell_type": "code",
   "execution_count": 17,
   "id": "595d6263",
   "metadata": {},
   "outputs": [],
   "source": [
    "# import mmh3\n",
    "from bitarray import bitarray\n",
    "  \n",
    "class BloomFilter(object):\n",
    "    def __init__(self, ItemNum, FPProb):\n",
    "        # ItemNum : int, Number of items expected to be stored in bloom filter\n",
    "        # FPProb : float, False Positive probability in decimal\n",
    "        self.FPProb = FPProb\n",
    "        self.size = self.getSize(ItemNum, FPProb)\n",
    "        # number of hash functions to use\n",
    "        self.hashNum = self.getHashNum(self.size, ItemNum)\n",
    "        # Bit array of given size, and initialize all bits as 0\n",
    "        self.bitArray = bitarray(self.size)\n",
    "        self.bitArray.setall(0)\n",
    "\n",
    "    def insertElement(self, item):\n",
    "        digests = []\n",
    "        for i in range(self.hashNum):\n",
    "            # digest = self.mmh3Hash(item, i) % self.size\n",
    "            digest = self.myHash(item, i) % self.size\n",
    "            digests.append(digest)\n",
    "            self.bitArray[digest] = True\n",
    "\n",
    "    def searchElement(self, item):\n",
    "        for i in range(self.hashNum):\n",
    "            # digest = self.mmh3Hash(item, i) % self.size\n",
    "            digest = self.myHash(item, i) % self.size\n",
    "            if self.bitArray[digest] == False:\n",
    "                return False\n",
    "        return True\n",
    "\n",
    "    def getSize(self, n, p):\n",
    "        # Return the size of bit array: m = -(n * lg(p)) / (lg(2)^2)\n",
    "        # n : number of items expected to be stored in filter\n",
    "        # p : False Positive probability in decimal\n",
    "        # m = -(n * math.log(p))/(math.log(2)**2)\n",
    "        m = -(n * self.myLog(p)) / (self.myLog(2) ** 2)\n",
    "        return int(m)\n",
    "\n",
    "    def getHashNum(self, m, n):\n",
    "        # Return number of hash functions: k = (m/n) * lg(2)\n",
    "        # k = (m/n) * math.log(2)\n",
    "        k = (m / n) * self.myLog(2)\n",
    "        return int(k)\n",
    "    \n",
    "    def myLog(self, n):\n",
    "        if n <= 0:\n",
    "            raise ValueError(\"logarithm is undefined for non-positive values\")\n",
    "        if n == 1:\n",
    "            return 0\n",
    "        if n < 1:\n",
    "            # log(xn) = -log(1/n) for n < 1\n",
    "            return -self.myLog(1 / n)\n",
    "        # Use the taylor series approximation for log(n) where |n-1| < 1\n",
    "        taylor = (n - 1) / float(n + 1)\n",
    "        term = taylor\n",
    "        total = taylor\n",
    "        num = 1\n",
    "        while abs(term) > 1e-15:\n",
    "            num += 2\n",
    "            term *= taylor * taylor / float(num * (num - 1))\n",
    "            total += term\n",
    "        return 2 * total\n",
    "    \n",
    "    def mmh3Hash(self, key, seed):\n",
    "        \"\"\"\n",
    "        Compute the 32-bit MurmurHash3 hash value for the given key and seed.\n",
    "        \"\"\"\n",
    "        c1 = 0xcc9e2d51\n",
    "        c2 = 0x1b873593\n",
    "        r1 = 15\n",
    "        r2 = 13\n",
    "        m = 5\n",
    "        n = 0xe6546b64\n",
    "        length = len(key)\n",
    "\n",
    "        h1 = seed\n",
    "        rounded_end = (length & 0xfffffffc)\n",
    "        for i in range(0, rounded_end, 4):\n",
    "            k = (ord(key[i]) & 0xff) | ((ord(key[i+1]) & 0xff) << 8) | \\\n",
    "                ((ord(key[i+2]) & 0xff) << 16) | ((ord(key[i+3]) & 0xff) << 24)\n",
    "            k = (k * c1) & 0xffffffff\n",
    "            k = ((k << r1) | (k >> (32 - r1)))\n",
    "            k = (k * c2) & 0xffffffff\n",
    "            h1 = ((h1 ^ k) << r2) | (h1 >> (32 - r2))\n",
    "            h1 = (h1 * m + n) & 0xffffffff\n",
    "\n",
    "        if length & 0x03 == 3:\n",
    "            k = (ord(key[rounded_end + 2]) & 0xff) << 16\n",
    "            k |= (ord(key[rounded_end + 1]) & 0xff) << 8\n",
    "            k |= ord(key[rounded_end]) & 0xff\n",
    "            k = (k * c1) & 0xffffffff\n",
    "            k = ((k << r1) | (k >> (32 - r1)))\n",
    "            k = (k * c2) & 0xffffffff\n",
    "            h1 = ((h1 ^ k) << r2) | (h1 >> (32 - r2))\n",
    "            h1 = (h1 * m + n) & 0xffffffff\n",
    "\n",
    "        elif length & 0x03 == 2:\n",
    "            k = (ord(key[rounded_end + 1]) & 0xff) << 8\n",
    "            k |= ord(key[rounded_end]) & 0xff\n",
    "            k = (k * c1) & 0xffffffff\n",
    "            k = ((k << r1) | (k >> (32 - r1)))\n",
    "            k = (k * c2) & 0xffffffff\n",
    "            h1 = ((h1 ^ k) << r2) | (h1 >> (32 - r2))\n",
    "            h1 = (h1 * m + n) & 0xffffffff\n",
    "\n",
    "        elif length & 0x03 == 1:\n",
    "            k = ord(key[rounded_end]) & 0xff\n",
    "            k = (k * c1) & 0xffffffff\n",
    "            k = ((k << r1) | (k >> (32 - r1)))\n",
    "            k = (k * c2) & 0xffffffff\n",
    "            h1 = ((h1 ^ k) << r2) | (h1 >> (32 - r2))\n",
    "            h1 = (h1 * m + n) & 0xffffffff\n",
    "\n",
    "        h1 ^= length\n",
    "        h1 = self.fmix(h1)\n",
    "        return h1\n",
    "\n",
    "    def fmix(self, h):\n",
    "        \"\"\"\n",
    "        Apply the final mixing step of the MurmurHash3 algorithm.\n",
    "        \"\"\"\n",
    "        h ^= h >> 16\n",
    "        h = (h * 0x85ebca6b) & 0xffffffff\n",
    "        h ^= h >> 13\n",
    "        h = (h * 0xc2b2ae35) & 0xffffffff\n",
    "        h ^= h >> 16\n",
    "        return h\n",
    "    \n",
    "    def myHash(self, value, seed):\n",
    "        hash_value = 0\n",
    "        for char in value:\n",
    "            hash_value += ord(char)\n",
    "            hash_value += (hash_value << 10)\n",
    "            hash_value ^= (hash_value >> 6)\n",
    "        hash_value += (hash_value << 3)\n",
    "        hash_value ^= (hash_value >> 11)\n",
    "        hash_value += (hash_value << 15)\n",
    "        return (hash_value ^ seed)"
   ]
  },
  {
   "cell_type": "code",
   "execution_count": 18,
   "id": "76e284b5",
   "metadata": {},
   "outputs": [
    {
     "name": "stdout",
     "output_type": "stream",
     "text": [
      "True\n",
      "False\n"
     ]
    }
   ],
   "source": [
    "bf = BloomFilter(1000000, 0.01)\n",
    "\n",
    "bf.insertElement('hello')\n",
    "bf.insertElement('world')\n",
    "bf.insertElement('foo')\n",
    "bf.insertElement('bar')\n",
    "\n",
    "print(bf.searchElement('hello'))\n",
    "print(bf.searchElement('baz'))"
   ]
  },
  {
   "cell_type": "markdown",
   "id": "d784b54d",
   "metadata": {},
   "source": [
    "Time Complexity: \n",
    "- Creating the Bloom filter is O(kn)\n",
    "- Insert and Search an element: O(k)\n",
    "- k is the number of hash functions and n is the number of elements\n",
    "\n",
    "Space Complexity: \n",
    "- O(kb), where k is the number of hash functions and b is the bits number"
   ]
  },
  {
   "cell_type": "code",
   "execution_count": null,
   "id": "6a603467",
   "metadata": {},
   "outputs": [],
   "source": []
  },
  {
   "cell_type": "code",
   "execution_count": null,
   "id": "67b341f1",
   "metadata": {},
   "outputs": [],
   "source": []
  },
  {
   "cell_type": "markdown",
   "id": "fb097f73",
   "metadata": {},
   "source": [
    "## 2. Experimentally Evaluation"
   ]
  },
  {
   "cell_type": "markdown",
   "id": "427c6435",
   "metadata": {},
   "source": [
    "### Using Real Data"
   ]
  },
  {
   "cell_type": "code",
   "execution_count": 19,
   "id": "26e23597",
   "metadata": {
    "scrolled": false
   },
   "outputs": [],
   "source": [
    "with open(\"./data/testfiles/test1-mobydick.txt\") as f:\n",
    "    for line in f:\n",
    "        words = line.strip().split()\n",
    "# words        "
   ]
  },
  {
   "cell_type": "code",
   "execution_count": 20,
   "id": "8a218427",
   "metadata": {},
   "outputs": [
    {
     "data": {
      "text/plain": [
       "209329"
      ]
     },
     "execution_count": 20,
     "metadata": {},
     "output_type": "execute_result"
    }
   ],
   "source": [
    "len(words)"
   ]
  },
  {
   "cell_type": "code",
   "execution_count": 21,
   "id": "a27be7f0",
   "metadata": {
    "scrolled": false
   },
   "outputs": [],
   "source": [
    "with open(\"./data/testfiles/test2-warpeace.txt\") as f2:\n",
    "    for line in f2:\n",
    "        words2 = line.strip().split()\n",
    "# words        "
   ]
  },
  {
   "cell_type": "code",
   "execution_count": 22,
   "id": "bc5d6fee",
   "metadata": {},
   "outputs": [
    {
     "data": {
      "text/plain": [
       "564236"
      ]
     },
     "execution_count": 22,
     "metadata": {},
     "output_type": "execute_result"
    }
   ],
   "source": [
    "len(words2)"
   ]
  },
  {
   "cell_type": "code",
   "execution_count": 23,
   "id": "f5bf3fc1",
   "metadata": {
    "scrolled": false
   },
   "outputs": [],
   "source": [
    "with open(\"./data/testfiles/test3-dickens.txt\") as f3:\n",
    "    for line in f3:\n",
    "        words3 = line.strip().split()\n",
    "# words        "
   ]
  },
  {
   "cell_type": "code",
   "execution_count": 24,
   "id": "530a533c",
   "metadata": {},
   "outputs": [
    {
     "data": {
      "text/plain": [
       "5149661"
      ]
     },
     "execution_count": 24,
     "metadata": {},
     "output_type": "execute_result"
    }
   ],
   "source": [
    "len(words3)"
   ]
  },
  {
   "cell_type": "code",
   "execution_count": 25,
   "id": "cf9bf466",
   "metadata": {},
   "outputs": [],
   "source": [
    "wordsforsearch = []\n",
    "with open(\"./data/testfiles/test-search.txt\") as fsearch:\n",
    "    for line in fsearch:\n",
    "        wordsforsearch.append(line.strip())\n",
    "# wordsforsearch  "
   ]
  },
  {
   "cell_type": "code",
   "execution_count": 26,
   "id": "63839847",
   "metadata": {},
   "outputs": [
    {
     "data": {
      "text/plain": [
       "544"
      ]
     },
     "execution_count": 26,
     "metadata": {},
     "output_type": "execute_result"
    }
   ],
   "source": [
    "len(wordsforsearch)"
   ]
  },
  {
   "cell_type": "markdown",
   "id": "7925ce26",
   "metadata": {},
   "source": [
    "#### The total amount of time of all insert operations"
   ]
  },
  {
   "cell_type": "code",
   "execution_count": 27,
   "id": "17be5171",
   "metadata": {},
   "outputs": [],
   "source": [
    "# timeit magic method: %timeit -r 100 -n 10 'operation'"
   ]
  },
  {
   "cell_type": "code",
   "execution_count": 28,
   "id": "ced77591",
   "metadata": {},
   "outputs": [],
   "source": [
    "import timeit"
   ]
  },
  {
   "cell_type": "code",
   "execution_count": 42,
   "id": "f5e737b2",
   "metadata": {},
   "outputs": [],
   "source": [
    "'''\n",
    "sequential search\n",
    "Create your class object here(for insert and search operations later)\n",
    "'''\n",
    "seqS = SequentialSearch()\n"
   ]
  },
  {
   "cell_type": "code",
   "execution_count": null,
   "id": "61061a0f",
   "metadata": {},
   "outputs": [],
   "source": [
    "'''\n",
    "binary search tree\n",
    "Create your class object here(for insert and search operations later)\n",
    "'''"
   ]
  },
  {
   "cell_type": "code",
   "execution_count": null,
   "id": "d5a72e27",
   "metadata": {},
   "outputs": [],
   "source": [
    "'''\n",
    "balanced search tree\n",
    "Create your class object here(for insert and search operations later)\n",
    "'''\n",
    "# Red Black Search Tree\n",
    "rbt = RBTree()"
   ]
  },
  {
   "cell_type": "code",
   "execution_count": 38,
   "id": "03d81ce7",
   "metadata": {},
   "outputs": [],
   "source": [
    "BF = BloomFilter(len(words), 0.01)"
   ]
  },
  {
   "cell_type": "markdown",
   "id": "d2e75faa",
   "metadata": {},
   "source": [
    "Sequential Search"
   ]
  },
  {
   "cell_type": "code",
   "execution_count": 43,
   "id": "d8187008",
   "metadata": {},
   "outputs": [
    {
     "name": "stdout",
     "output_type": "stream",
     "text": [
      "0.028421400000070207\n",
      "0.08031909999999698\n",
      "0.8202785999999378\n"
     ]
    }
   ],
   "source": [
    "a = './data/testfiles/test1-mobydick.txt'\n",
    "b = './data/testfiles/test2-warpeace.txt'\n",
    "c = './data/testfiles/test3-dickens.txt'\n",
    "insertFiles = [a,b,c]\n",
    "\n",
    "for file in insertFiles:\n",
    "    seqInsertStart = timeit.default_timer()\n",
    "    seqS.insertElement(file)\n",
    "    seqInsertEnd = timeit.default_timer()\n",
    "    seqInsertTime = seqInsertEnd - seqInsertStart\n",
    "    print(seqInsertTime)"
   ]
  },
  {
   "cell_type": "markdown",
   "id": "210788d9",
   "metadata": {},
   "source": [
    "Binary Search Tree"
   ]
  },
  {
   "cell_type": "code",
   "execution_count": null,
   "id": "e2fe3e95",
   "metadata": {},
   "outputs": [],
   "source": [
    "binaryInsertStart = timeit.default_timer()\n",
    "\n",
    "'''\n",
    "for word in words:\n",
    "    Opearions\n",
    "'''\n",
    "\n",
    "binaryInsertEnd = timeit.default_timer()\n",
    "binaryInsertTime = binaryInsertEnd - binaryInsertStart\n",
    "binaryInsertTime"
   ]
  },
  {
   "cell_type": "markdown",
   "id": "847c808e",
   "metadata": {},
   "source": [
    "Balanced Search Tree"
   ]
  },
  {
   "cell_type": "code",
   "execution_count": 44,
   "id": "f6691f71",
   "metadata": {},
   "outputs": [
    {
     "name": "stdout",
     "output_type": "stream",
     "text": [
      "1.3200000012147939e-05\n",
      "1.6899999991437653e-05\n",
      "4.79999994240643e-06\n"
     ]
    }
   ],
   "source": [
    "a = './data/testfiles/test1-mobydick.txt'\n",
    "b = './data/testfiles/test2-warpeace.txt'\n",
    "c = './data/testfiles/test3-dickens.txt'\n",
    "insertFiles = [a,b,c]\n",
    "\n",
    "for file in insertFiles:\n",
    "    BSTInsertStart = timeit.default_timer()\n",
    "    rbt.insertElement(file)\n",
    "    BSTInsertEnd = timeit.default_timer()\n",
    "    BSTInsertTime = BSTInsertEnd - BSTInsertStart\n",
    "    print(BSTInsertTime)\n"
   ]
  },
  {
   "cell_type": "markdown",
   "id": "af2601d2",
   "metadata": {},
   "source": [
    "Bloom Filter"
   ]
  },
  {
   "cell_type": "code",
   "execution_count": null,
   "id": "f4b69602",
   "metadata": {},
   "outputs": [
    {
     "data": {
      "text/plain": [
       "1.275346599999466"
      ]
     },
     "execution_count": 33,
     "metadata": {},
     "output_type": "execute_result"
    }
   ],
   "source": [
    "BFInsertStart = timeit.default_timer()\n",
    "\n",
    "for word in words:\n",
    "    BF.insertElement(word)\n",
    "\n",
    "BFInsertEnd = timeit.default_timer()\n",
    "BFInsertTime = BFInsertEnd - BFInsertStart\n",
    "BFInsertTime"
   ]
  },
  {
   "cell_type": "code",
   "execution_count": null,
   "id": "8b1c97ad",
   "metadata": {},
   "outputs": [],
   "source": []
  },
  {
   "cell_type": "markdown",
   "id": "02c5cd33",
   "metadata": {},
   "source": [
    "#### The total amount of time of search operations"
   ]
  },
  {
   "cell_type": "markdown",
   "id": "8d7873f3",
   "metadata": {},
   "source": [
    "Sequential Search"
   ]
  },
  {
   "cell_type": "code",
   "execution_count": 45,
   "id": "1d62f9f1",
   "metadata": {},
   "outputs": [
    {
     "name": "stdout",
     "output_type": "stream",
     "text": [
      "False ,['zero'] is not found\n",
      "94.96285220000027\n",
      "False ,['zero'] is not found\n",
      "106.49899989999994\n",
      "False ,['zero'] is not found\n",
      "183.5646872999996\n"
     ]
    }
   ],
   "source": [
    "a = './data/testfiles/test1-mobydick.txt'\n",
    "b = './data/testfiles/test2-warpeace.txt'\n",
    "c = './data/testfiles/test3-dickens.txt'\n",
    "d = \"./data/testfiles/test-search.txt\"\n",
    "insertFiles = [a,b,c]\n",
    "for file in insertFiles:\n",
    "    seqS.insertElement(file)\n",
    "    SeqSearchStart = timeit.default_timer()\n",
    "    seqS.searchElement(d)\n",
    "    SeqSearchEnd = timeit.default_timer()\n",
    "    SeqSearchTime = SeqSearchEnd - SeqSearchStart\n",
    "    print(SeqSearchTime)"
   ]
  },
  {
   "cell_type": "markdown",
   "id": "18cbc4f4",
   "metadata": {},
   "source": [
    "Binary Search Tree"
   ]
  },
  {
   "cell_type": "code",
   "execution_count": null,
   "id": "8376885a",
   "metadata": {},
   "outputs": [],
   "source": [
    "BinarySearchStart = timeit.default_timer()\n",
    "\n",
    "# for word in wordsforsearch:\n",
    "#     BF.searchElement(word)\n",
    "\n",
    "BinarySearchEnd = timeit.default_timer()\n",
    "BinarySearchTime = BinarySearchEnd - BinarySearchStart\n",
    "BinarySearchTime"
   ]
  },
  {
   "cell_type": "markdown",
   "id": "d819dda5",
   "metadata": {},
   "source": [
    "Balanced Search Tree"
   ]
  },
  {
   "cell_type": "code",
   "execution_count": 46,
   "id": "72dd5c84",
   "metadata": {},
   "outputs": [
    {
     "name": "stdout",
     "output_type": "stream",
     "text": [
      "2.4000000848900527e-06\n",
      "8.000001798791345e-07\n",
      "7.000003279244993e-07\n"
     ]
    }
   ],
   "source": [
    "a = './data/testfiles/test1-mobydick.txt'\n",
    "b = './data/testfiles/test2-warpeace.txt'\n",
    "c = './data/testfiles/test3-dickens.txt'\n",
    "d = \"./data/testfiles/test-search.txt\"\n",
    "insertFiles = [a,b,c]\n",
    "\n",
    "for file in insertFiles:\n",
    "    rbt.insertElement(file)\n",
    "    BSTSearchStart = timeit.default_timer()\n",
    "    rbt.searchElement(d)\n",
    "    BSTSearchEnd = timeit.default_timer()\n",
    "    BSTSearchTime = BSTSearchEnd - BSTSearchStart\n",
    "    print(BSTSearchTime)"
   ]
  },
  {
   "cell_type": "markdown",
   "id": "a79f425c",
   "metadata": {},
   "source": [
    "Bloom Filter"
   ]
  },
  {
   "cell_type": "code",
   "execution_count": null,
   "id": "d0dff280",
   "metadata": {},
   "outputs": [
    {
     "data": {
      "text/plain": [
       "0.004203199998300988"
      ]
     },
     "execution_count": 34,
     "metadata": {},
     "output_type": "execute_result"
    }
   ],
   "source": [
    "BFSearchStart = timeit.default_timer()\n",
    "\n",
    "for word in wordsforsearch:\n",
    "    BF.searchElement(word)\n",
    "\n",
    "BFSearchEnd = timeit.default_timer()\n",
    "BFSearchTime = BFSearchEnd - BFSearchStart\n",
    "BFSearchTime"
   ]
  },
  {
   "cell_type": "code",
   "execution_count": null,
   "id": "51db7c42",
   "metadata": {},
   "outputs": [],
   "source": []
  },
  {
   "cell_type": "markdown",
   "id": "41ef4e99",
   "metadata": {},
   "source": [
    "### Using Synthetic Data"
   ]
  },
  {
   "cell_type": "markdown",
   "id": "f4490e86",
   "metadata": {},
   "source": [
    "### different conditions:\n",
    "- all values are the same\n",
    "- all values are different\n",
    "- values with high repetition rate\n",
    "- values with low repetition rate\n",
    "- adding numbers and symbols in each string\n",
    "- all values are number (int/float/double/positive/negative/small/big)\n",
    "- all values are list (list of string/num/list/set/dictionary/object/date)\n",
    "- values with different data type mixed together\n",
    "- ......"
   ]
  },
  {
   "cell_type": "code",
   "execution_count": null,
   "id": "a9a1fa97",
   "metadata": {},
   "outputs": [],
   "source": []
  },
  {
   "cell_type": "code",
   "execution_count": null,
   "id": "7a1c249d",
   "metadata": {},
   "outputs": [],
   "source": []
  },
  {
   "cell_type": "markdown",
   "id": "1523a78d",
   "metadata": {},
   "source": [
    "# --------"
   ]
  },
  {
   "cell_type": "code",
   "execution_count": null,
   "id": "9e14300e",
   "metadata": {},
   "outputs": [],
   "source": [
    "# self"
   ]
  },
  {
   "cell_type": "code",
   "execution_count": null,
   "id": "331f3d80",
   "metadata": {},
   "outputs": [
    {
     "name": "stdout",
     "output_type": "stream",
     "text": [
      "8.689999958733097e-05\n"
     ]
    }
   ],
   "source": [
    "import timeit\n",
    "s1 = timeit.default_timer()\n",
    "\n",
    "testBF = BloomFilter(len(words), 0.01)\n",
    "\n",
    "e1 = timeit.default_timer()\n",
    "print(e1 - s1)"
   ]
  },
  {
   "cell_type": "code",
   "execution_count": null,
   "id": "7cb449b2",
   "metadata": {},
   "outputs": [
    {
     "name": "stdout",
     "output_type": "stream",
     "text": [
      "1.2846599000004062\n"
     ]
    }
   ],
   "source": [
    "s2 = timeit.default_timer()\n",
    "\n",
    "for word in words:\n",
    "    testBF.insert(word)\n",
    "\n",
    "e2 = timeit.default_timer()\n",
    "print(e2 - s2)"
   ]
  },
  {
   "cell_type": "code",
   "execution_count": null,
   "id": "a88bcde4",
   "metadata": {},
   "outputs": [
    {
     "name": "stdout",
     "output_type": "stream",
     "text": [
      "True\n",
      "0.00012860000060754828\n"
     ]
    }
   ],
   "source": [
    "s3 = timeit.default_timer()\n",
    "\n",
    "print(testBF.search(\"we\"))\n",
    "\n",
    "e3 = timeit.default_timer()\n",
    "print(e3 - s3)"
   ]
  },
  {
   "cell_type": "code",
   "execution_count": null,
   "id": "ef49eac3",
   "metadata": {},
   "outputs": [
    {
     "name": "stdout",
     "output_type": "stream",
     "text": [
      "2.02 µs ± 809 ns per loop (mean ± std. dev. of 100 runs, 10 loops each)\n"
     ]
    }
   ],
   "source": [
    "%timeit -r 100 -n 10 testBF.search(\"abc\")"
   ]
  }
 ],
 "metadata": {
  "kernelspec": {
   "display_name": "Python 3 (ipykernel)",
   "language": "python",
   "name": "python3"
  },
  "language_info": {
   "codemirror_mode": {
    "name": "ipython",
    "version": 3
   },
   "file_extension": ".py",
   "mimetype": "text/x-python",
   "name": "python",
   "nbconvert_exporter": "python",
   "pygments_lexer": "ipython3",
   "version": "3.9.13"
  }
 },
 "nbformat": 4,
 "nbformat_minor": 5
}
