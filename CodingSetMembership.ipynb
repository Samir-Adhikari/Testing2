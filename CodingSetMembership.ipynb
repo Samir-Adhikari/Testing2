{
 "cells": [
  {
   "cell_type": "markdown",
   "id": "b00da59f",
   "metadata": {},
   "source": [
    "# Set Membership Coursework"
   ]
  },
  {
   "cell_type": "markdown",
   "id": "f9b1bd12",
   "metadata": {},
   "source": [
    "## 1. Implementeation"
   ]
  },
  {
   "cell_type": "markdown",
   "id": "7479a715",
   "metadata": {},
   "source": [
    "### Sequential Search "
   ]
  },
  {
   "cell_type": "code",
   "execution_count": null,
   "id": "a191de21",
   "metadata": {},
   "outputs": [],
   "source": []
  },
  {
   "cell_type": "markdown",
   "id": "5b2faf0e",
   "metadata": {},
   "source": [
    "### Binary Search Tree"
   ]
  },
  {
   "cell_type": "code",
   "execution_count": null,
   "id": "ea9826d3",
   "metadata": {},
   "outputs": [],
   "source": []
  },
  {
   "cell_type": "markdown",
   "id": "d255329f",
   "metadata": {},
   "source": [
    "### Balanced Search Tree"
   ]
  },
  {
   "cell_type": "code",
   "execution_count": null,
   "id": "fd4eb6cf",
   "metadata": {},
   "outputs": [],
   "source": []
  },
  {
   "cell_type": "markdown",
   "id": "108b949c",
   "metadata": {},
   "source": [
    "### Bloom Filter"
   ]
  },
  {
   "cell_type": "code",
   "execution_count": 21,
   "id": "595d6263",
   "metadata": {},
   "outputs": [],
   "source": [
    "# import mmh3\n",
    "from bitarray import bitarray\n",
    "  \n",
    "class BloomFilter(object):\n",
    "    def __init__(self, ItemNum, FPProb):\n",
    "        # ItemNum : int, Number of items expected to be stored in bloom filter\n",
    "        # FPProb : float, False Positive probability in decimal\n",
    "        self.FPProb = FPProb\n",
    "        self.size = self.getSize(ItemNum, FPProb)\n",
    "        # number of hash functions to use\n",
    "        self.hashNum = self.getHashNum(self.size, ItemNum)\n",
    "        # Bit array of given size, and initialize all bits as 0\n",
    "        self.bitArray = bitarray(self.size)\n",
    "        self.bitArray.setall(0)\n",
    "\n",
    "    def insertElement(self, item):\n",
    "        digests = []\n",
    "        for i in range(self.hashNum):\n",
    "            # digest = self.mmh3Hash(item, i) % self.size\n",
    "            digest = self.myHash(item, i) % self.size\n",
    "            digests.append(digest)\n",
    "            self.bitArray[digest] = True\n",
    "\n",
    "    def searchElement(self, item):\n",
    "        for i in range(self.hashNum):\n",
    "            # digest = self.mmh3Hash(item, i) % self.size\n",
    "            digest = self.myHash(item, i) % self.size\n",
    "            if self.bitArray[digest] == False:\n",
    "                return False\n",
    "        return True\n",
    "\n",
    "    def getSize(self, n, p):\n",
    "        # Return the size of bit array: m = -(n * lg(p)) / (lg(2)^2)\n",
    "        # n : number of items expected to be stored in filter\n",
    "        # p : False Positive probability in decimal\n",
    "        # m = -(n * math.log(p))/(math.log(2)**2)\n",
    "        m = -(n * self.myLog(p)) / (self.myLog(2) ** 2)\n",
    "        return int(m)\n",
    "\n",
    "    def getHashNum(self, m, n):\n",
    "        # Return number of hash functions: k = (m/n) * lg(2)\n",
    "        # k = (m/n) * math.log(2)\n",
    "        k = (m / n) * self.myLog(2)\n",
    "        return int(k)\n",
    "    \n",
    "    def myLog(self, n):\n",
    "        if n <= 0:\n",
    "            raise ValueError(\"logarithm is undefined for non-positive values\")\n",
    "        if n == 1:\n",
    "            return 0\n",
    "        if n < 1:\n",
    "            # log(xn) = -log(1/n) for n < 1\n",
    "            return -self.myLog(1 / n)\n",
    "        # Use the taylor series approximation for log(n) where |n-1| < 1\n",
    "        taylor = (n - 1) / float(n + 1)\n",
    "        term = taylor\n",
    "        total = taylor\n",
    "        num = 1\n",
    "        while abs(term) > 1e-15:\n",
    "            num += 2\n",
    "            term *= taylor * taylor / float(num * (num - 1))\n",
    "            total += term\n",
    "        return 2 * total\n",
    "    \n",
    "    def mmh3Hash(self, key, seed):\n",
    "        \"\"\"\n",
    "        Compute the 32-bit MurmurHash3 hash value for the given key and seed.\n",
    "        \"\"\"\n",
    "        c1 = 0xcc9e2d51\n",
    "        c2 = 0x1b873593\n",
    "        r1 = 15\n",
    "        r2 = 13\n",
    "        m = 5\n",
    "        n = 0xe6546b64\n",
    "        length = len(key)\n",
    "\n",
    "        h1 = seed\n",
    "        rounded_end = (length & 0xfffffffc)\n",
    "        for i in range(0, rounded_end, 4):\n",
    "            k = (ord(key[i]) & 0xff) | ((ord(key[i+1]) & 0xff) << 8) | \\\n",
    "                ((ord(key[i+2]) & 0xff) << 16) | ((ord(key[i+3]) & 0xff) << 24)\n",
    "            k = (k * c1) & 0xffffffff\n",
    "            k = ((k << r1) | (k >> (32 - r1)))\n",
    "            k = (k * c2) & 0xffffffff\n",
    "            h1 = ((h1 ^ k) << r2) | (h1 >> (32 - r2))\n",
    "            h1 = (h1 * m + n) & 0xffffffff\n",
    "\n",
    "        if length & 0x03 == 3:\n",
    "            k = (ord(key[rounded_end + 2]) & 0xff) << 16\n",
    "            k |= (ord(key[rounded_end + 1]) & 0xff) << 8\n",
    "            k |= ord(key[rounded_end]) & 0xff\n",
    "            k = (k * c1) & 0xffffffff\n",
    "            k = ((k << r1) | (k >> (32 - r1)))\n",
    "            k = (k * c2) & 0xffffffff\n",
    "            h1 = ((h1 ^ k) << r2) | (h1 >> (32 - r2))\n",
    "            h1 = (h1 * m + n) & 0xffffffff\n",
    "\n",
    "        elif length & 0x03 == 2:\n",
    "            k = (ord(key[rounded_end + 1]) & 0xff) << 8\n",
    "            k |= ord(key[rounded_end]) & 0xff\n",
    "            k = (k * c1) & 0xffffffff\n",
    "            k = ((k << r1) | (k >> (32 - r1)))\n",
    "            k = (k * c2) & 0xffffffff\n",
    "            h1 = ((h1 ^ k) << r2) | (h1 >> (32 - r2))\n",
    "            h1 = (h1 * m + n) & 0xffffffff\n",
    "\n",
    "        elif length & 0x03 == 1:\n",
    "            k = ord(key[rounded_end]) & 0xff\n",
    "            k = (k * c1) & 0xffffffff\n",
    "            k = ((k << r1) | (k >> (32 - r1)))\n",
    "            k = (k * c2) & 0xffffffff\n",
    "            h1 = ((h1 ^ k) << r2) | (h1 >> (32 - r2))\n",
    "            h1 = (h1 * m + n) & 0xffffffff\n",
    "\n",
    "        h1 ^= length\n",
    "        h1 = self.fmix(h1)\n",
    "        return h1\n",
    "\n",
    "    def fmix(self, h):\n",
    "        \"\"\"\n",
    "        Apply the final mixing step of the MurmurHash3 algorithm.\n",
    "        \"\"\"\n",
    "        h ^= h >> 16\n",
    "        h = (h * 0x85ebca6b) & 0xffffffff\n",
    "        h ^= h >> 13\n",
    "        h = (h * 0xc2b2ae35) & 0xffffffff\n",
    "        h ^= h >> 16\n",
    "        return h\n",
    "    \n",
    "    def myHash(self, value, seed):\n",
    "        hash_value = 0\n",
    "        for char in value:\n",
    "            hash_value += ord(char)\n",
    "            hash_value += (hash_value << 10)\n",
    "            hash_value ^= (hash_value >> 6)\n",
    "        hash_value += (hash_value << 3)\n",
    "        hash_value ^= (hash_value >> 11)\n",
    "        hash_value += (hash_value << 15)\n",
    "        return (hash_value ^ seed)"
   ]
  },
  {
   "cell_type": "code",
   "execution_count": 22,
   "id": "76e284b5",
   "metadata": {},
   "outputs": [
    {
     "name": "stdout",
     "output_type": "stream",
     "text": [
      "True\n",
      "False\n"
     ]
    }
   ],
   "source": [
    "bf = BloomFilter(1000000, 0.01)\n",
    "\n",
    "bf.insertElement('hello')\n",
    "bf.insertElement('world')\n",
    "bf.insertElement('foo')\n",
    "bf.insertElement('bar')\n",
    "\n",
    "print(bf.searchElement('hello'))\n",
    "print(bf.searchElement('baz'))"
   ]
  },
  {
   "cell_type": "markdown",
   "id": "d784b54d",
   "metadata": {},
   "source": [
    "Time Complexity: \n",
    "- Creating the Bloom filter is O(kn)\n",
    "- Insert and Search an element: O(k)\n",
    "- k is the number of hash functions and n is the number of elements\n",
    "\n",
    "Space Complexity: \n",
    "- O(kb), where k is the number of hash functions and b is the bits number"
   ]
  },
  {
   "cell_type": "code",
   "execution_count": null,
   "id": "6a603467",
   "metadata": {},
   "outputs": [],
   "source": []
  },
  {
   "cell_type": "code",
   "execution_count": null,
   "id": "67b341f1",
   "metadata": {},
   "outputs": [],
   "source": []
  },
  {
   "cell_type": "markdown",
   "id": "fb097f73",
   "metadata": {},
   "source": [
    "## 2. Experimentally Evaluation"
   ]
  },
  {
   "cell_type": "markdown",
   "id": "427c6435",
   "metadata": {},
   "source": [
    "### Using Real Data"
   ]
  },
  {
   "cell_type": "code",
   "execution_count": 23,
   "id": "26e23597",
   "metadata": {
    "scrolled": false
   },
   "outputs": [],
   "source": [
    "with open(\"./data/testfiles/test1-mobydick.txt\") as f:\n",
    "    for line in f:\n",
    "        words = line.strip().split()\n",
    "# words        "
   ]
  },
  {
   "cell_type": "code",
   "execution_count": 24,
   "id": "8a218427",
   "metadata": {},
   "outputs": [
    {
     "data": {
      "text/plain": [
       "209329"
      ]
     },
     "execution_count": 24,
     "metadata": {},
     "output_type": "execute_result"
    }
   ],
   "source": [
    "len(words)"
   ]
  },
  {
   "cell_type": "code",
   "execution_count": 25,
   "id": "a27be7f0",
   "metadata": {
    "scrolled": false
   },
   "outputs": [],
   "source": [
    "with open(\"./data/testfiles/test2-warpeace.txt\") as f2:\n",
    "    for line in f2:\n",
    "        words2 = line.strip().split()\n",
    "# words        "
   ]
  },
  {
   "cell_type": "code",
   "execution_count": 26,
   "id": "bc5d6fee",
   "metadata": {},
   "outputs": [
    {
     "data": {
      "text/plain": [
       "564236"
      ]
     },
     "execution_count": 26,
     "metadata": {},
     "output_type": "execute_result"
    }
   ],
   "source": [
    "len(words2)"
   ]
  },
  {
   "cell_type": "code",
   "execution_count": 27,
   "id": "f5bf3fc1",
   "metadata": {
    "scrolled": false
   },
   "outputs": [],
   "source": [
    "with open(\"./data/testfiles/test3-dickens.txt\") as f3:\n",
    "    for line in f3:\n",
    "        words3 = line.strip().split()\n",
    "# words        "
   ]
  },
  {
   "cell_type": "code",
   "execution_count": 28,
   "id": "530a533c",
   "metadata": {},
   "outputs": [
    {
     "data": {
      "text/plain": [
       "5149661"
      ]
     },
     "execution_count": 28,
     "metadata": {},
     "output_type": "execute_result"
    }
   ],
   "source": [
    "len(words3)"
   ]
  },
  {
   "cell_type": "code",
   "execution_count": 29,
   "id": "cf9bf466",
   "metadata": {},
   "outputs": [],
   "source": [
    "wordsforsearch = []\n",
    "with open(\"./data/testfiles/test-search.txt\") as fsearch:\n",
    "    for line in fsearch:\n",
    "        wordsforsearch.append(line.strip())\n",
    "# wordsforsearch  "
   ]
  },
  {
   "cell_type": "code",
   "execution_count": 30,
   "id": "63839847",
   "metadata": {},
   "outputs": [
    {
     "data": {
      "text/plain": [
       "544"
      ]
     },
     "execution_count": 30,
     "metadata": {},
     "output_type": "execute_result"
    }
   ],
   "source": [
    "len(wordsforsearch)"
   ]
  },
  {
   "cell_type": "markdown",
   "id": "7925ce26",
   "metadata": {},
   "source": [
    "#### The total amount of time of all insert operations"
   ]
  },
  {
   "cell_type": "code",
   "execution_count": null,
   "id": "17be5171",
   "metadata": {},
   "outputs": [],
   "source": [
    "# timeit magic method: %timeit -r 100 -n 10 'operation'"
   ]
  },
  {
   "cell_type": "code",
   "execution_count": 31,
   "id": "ced77591",
   "metadata": {},
   "outputs": [],
   "source": [
    "import timeit"
   ]
  },
  {
   "cell_type": "code",
   "execution_count": null,
   "id": "a9f97423",
   "metadata": {},
   "outputs": [],
   "source": [
    "'''\n",
    "sequential search\n",
    "Create your class object here(for insert and search operations later)\n",
    "'''"
   ]
  },
  {
   "cell_type": "code",
   "execution_count": null,
   "id": "61061a0f",
   "metadata": {},
   "outputs": [],
   "source": [
    "'''\n",
    "binary search tree\n",
    "Create your class object here(for insert and search operations later)\n",
    "'''"
   ]
  },
  {
   "cell_type": "code",
   "execution_count": null,
   "id": "d5a72e27",
   "metadata": {},
   "outputs": [],
   "source": [
    "'''\n",
    "balanced search tree\n",
    "Create your class object here(for insert and search operations later)\n",
    "'''"
   ]
  },
  {
   "cell_type": "code",
   "execution_count": 32,
   "id": "03d81ce7",
   "metadata": {},
   "outputs": [],
   "source": [
    "BF = BloomFilter(len(words), 0.01)"
   ]
  },
  {
   "cell_type": "markdown",
   "id": "d2e75faa",
   "metadata": {},
   "source": [
    "Sequential Search"
   ]
  },
  {
   "cell_type": "code",
   "execution_count": null,
   "id": "d8187008",
   "metadata": {},
   "outputs": [],
   "source": [
    "seqInsertStart = timeit.default_timer()\n",
    "\n",
    "'''\n",
    "for word in words:\n",
    "    Opearions\n",
    "'''\n",
    "\n",
    "seqInsertEnd = timeit.default_timer()\n",
    "seqInsertTime = seqInsertEnd - seqInsertStart\n",
    "seqInsertTime"
   ]
  },
  {
   "cell_type": "markdown",
   "id": "210788d9",
   "metadata": {},
   "source": [
    "Binary Search Tree"
   ]
  },
  {
   "cell_type": "code",
   "execution_count": null,
   "id": "e2fe3e95",
   "metadata": {},
   "outputs": [],
   "source": [
    "binaryInsertStart = timeit.default_timer()\n",
    "\n",
    "'''\n",
    "for word in words:\n",
    "    Opearions\n",
    "'''\n",
    "\n",
    "binaryInsertEnd = timeit.default_timer()\n",
    "binaryInsertTime = binaryInsertEnd - binaryInsertStart\n",
    "binaryInsertTime"
   ]
  },
  {
   "cell_type": "markdown",
   "id": "847c808e",
   "metadata": {},
   "source": [
    "Balanced Search Tree"
   ]
  },
  {
   "cell_type": "code",
   "execution_count": null,
   "id": "f6691f71",
   "metadata": {},
   "outputs": [],
   "source": [
    "BSTInsertStart = timeit.default_timer()\n",
    "\n",
    "'''\n",
    "for word in words:\n",
    "    Opearions\n",
    "'''\n",
    "\n",
    "BSTInsertEnd = timeit.default_timer()\n",
    "BSTInsertTime = BSTInsertEnd - BSTInsertStart\n",
    "BSTInsertTime"
   ]
  },
  {
   "cell_type": "markdown",
   "id": "af2601d2",
   "metadata": {},
   "source": [
    "Bloom Filter"
   ]
  },
  {
   "cell_type": "code",
   "execution_count": 33,
   "id": "f4b69602",
   "metadata": {},
   "outputs": [
    {
     "data": {
      "text/plain": [
       "1.275346599999466"
      ]
     },
     "execution_count": 33,
     "metadata": {},
     "output_type": "execute_result"
    }
   ],
   "source": [
    "BFInsertStart = timeit.default_timer()\n",
    "\n",
    "for word in words:\n",
    "    BF.insertElement(word)\n",
    "\n",
    "BFInsertEnd = timeit.default_timer()\n",
    "BFInsertTime = BFInsertEnd - BFInsertStart\n",
    "BFInsertTime"
   ]
  },
  {
   "cell_type": "code",
   "execution_count": null,
   "id": "8b1c97ad",
   "metadata": {},
   "outputs": [],
   "source": []
  },
  {
   "cell_type": "markdown",
   "id": "02c5cd33",
   "metadata": {},
   "source": [
    "#### The total amount of time of search operations"
   ]
  },
  {
   "cell_type": "markdown",
   "id": "8d7873f3",
   "metadata": {},
   "source": [
    "Sequential Search"
   ]
  },
  {
   "cell_type": "code",
   "execution_count": null,
   "id": "1d62f9f1",
   "metadata": {},
   "outputs": [],
   "source": [
    "SeqSearchStart = timeit.default_timer()\n",
    "\n",
    "# for word in wordsforsearch:\n",
    "#     BF.searchElement(word)\n",
    "\n",
    "SeqSearchEnd = timeit.default_timer()\n",
    "SeqSearchTime = SeqSearchEnd - SeqSearchStart\n",
    "SeqSearchTime"
   ]
  },
  {
   "cell_type": "markdown",
   "id": "18cbc4f4",
   "metadata": {},
   "source": [
    "Binary Search Tree"
   ]
  },
  {
   "cell_type": "code",
   "execution_count": null,
   "id": "8376885a",
   "metadata": {},
   "outputs": [],
   "source": [
    "BinarySearchStart = timeit.default_timer()\n",
    "\n",
    "# for word in wordsforsearch:\n",
    "#     BF.searchElement(word)\n",
    "\n",
    "BinarySearchEnd = timeit.default_timer()\n",
    "BinarySearchTime = BinarySearchEnd - BinarySearchStart\n",
    "BinarySearchTime"
   ]
  },
  {
   "cell_type": "markdown",
   "id": "d819dda5",
   "metadata": {},
   "source": [
    "Balanced Search Tree"
   ]
  },
  {
   "cell_type": "code",
   "execution_count": null,
   "id": "72dd5c84",
   "metadata": {},
   "outputs": [],
   "source": [
    "BSTSearchStart = timeit.default_timer()\n",
    "\n",
    "# for word in wordsforsearch:\n",
    "#     BF.searchElement(word)\n",
    "\n",
    "BSTSearchEnd = timeit.default_timer()\n",
    "BSTSearchTime = BSTSearchEnd - BSTSearchStart\n",
    "BSTSearchTime"
   ]
  },
  {
   "cell_type": "markdown",
   "id": "a79f425c",
   "metadata": {},
   "source": [
    "Bloom Filter"
   ]
  },
  {
   "cell_type": "code",
   "execution_count": 34,
   "id": "d0dff280",
   "metadata": {},
   "outputs": [
    {
     "data": {
      "text/plain": [
       "0.004203199998300988"
      ]
     },
     "execution_count": 34,
     "metadata": {},
     "output_type": "execute_result"
    }
   ],
   "source": [
    "BFSearchStart = timeit.default_timer()\n",
    "\n",
    "for word in wordsforsearch:\n",
    "    BF.searchElement(word)\n",
    "\n",
    "BFSearchEnd = timeit.default_timer()\n",
    "BFSearchTime = BFSearchEnd - BFSearchStart\n",
    "BFSearchTime"
   ]
  },
  {
   "cell_type": "code",
   "execution_count": null,
   "id": "51db7c42",
   "metadata": {},
   "outputs": [],
   "source": []
  },
  {
   "cell_type": "markdown",
   "id": "41ef4e99",
   "metadata": {},
   "source": [
    "### Using Synthetic Data"
   ]
  },
  {
   "cell_type": "markdown",
   "id": "f4490e86",
   "metadata": {},
   "source": [
    "### different conditions:\n",
    "- all values are the same\n",
    "- all values are different\n",
    "- values with high repetition rate\n",
    "- values with low repetition rate\n",
    "- adding numbers and symbols in each string\n",
    "- all values are number (int/float/double/positive/negative/small/big)\n",
    "- all values are list (list of string/num/list/set/dictionary/object/date)\n",
    "- values with different data type mixed together\n",
    "- ......"
   ]
  },
  {
   "cell_type": "code",
   "execution_count": null,
   "id": "a9a1fa97",
   "metadata": {},
   "outputs": [],
   "source": []
  },
  {
   "cell_type": "code",
   "execution_count": null,
   "id": "7a1c249d",
   "metadata": {},
   "outputs": [],
   "source": []
  },
  {
   "cell_type": "markdown",
   "id": "1523a78d",
   "metadata": {},
   "source": [
    "# --------"
   ]
  },
  {
   "cell_type": "code",
   "execution_count": null,
   "id": "9e14300e",
   "metadata": {},
   "outputs": [],
   "source": [
    "# self"
   ]
  },
  {
   "cell_type": "code",
   "execution_count": 5,
   "id": "331f3d80",
   "metadata": {},
   "outputs": [
    {
     "name": "stdout",
     "output_type": "stream",
     "text": [
      "8.689999958733097e-05\n"
     ]
    }
   ],
   "source": [
    "import timeit\n",
    "s1 = timeit.default_timer()\n",
    "\n",
    "testBF = BloomFilter(len(words), 0.01)\n",
    "\n",
    "e1 = timeit.default_timer()\n",
    "print(e1 - s1)"
   ]
  },
  {
   "cell_type": "code",
   "execution_count": 6,
   "id": "7cb449b2",
   "metadata": {},
   "outputs": [
    {
     "name": "stdout",
     "output_type": "stream",
     "text": [
      "1.2846599000004062\n"
     ]
    }
   ],
   "source": [
    "s2 = timeit.default_timer()\n",
    "\n",
    "for word in words:\n",
    "    testBF.insert(word)\n",
    "\n",
    "e2 = timeit.default_timer()\n",
    "print(e2 - s2)"
   ]
  },
  {
   "cell_type": "code",
   "execution_count": 7,
   "id": "a88bcde4",
   "metadata": {},
   "outputs": [
    {
     "name": "stdout",
     "output_type": "stream",
     "text": [
      "True\n",
      "0.00012860000060754828\n"
     ]
    }
   ],
   "source": [
    "s3 = timeit.default_timer()\n",
    "\n",
    "print(testBF.search(\"we\"))\n",
    "\n",
    "e3 = timeit.default_timer()\n",
    "print(e3 - s3)"
   ]
  },
  {
   "cell_type": "code",
   "execution_count": 8,
   "id": "ef49eac3",
   "metadata": {},
   "outputs": [
    {
     "name": "stdout",
     "output_type": "stream",
     "text": [
      "2.02 µs ± 809 ns per loop (mean ± std. dev. of 100 runs, 10 loops each)\n"
     ]
    }
   ],
   "source": [
    "%timeit -r 100 -n 10 testBF.search(\"abc\")"
   ]
  },
  {
   "cell_type": "code",
   "execution_count": null,
   "id": "330df085",
   "metadata": {},
   "outputs": [],
   "source": []
  },
  {
   "cell_type": "code",
   "execution_count": null,
   "id": "b1181cf1",
   "metadata": {},
   "outputs": [],
   "source": []
  },
  {
   "cell_type": "code",
   "execution_count": null,
   "id": "793821ff",
   "metadata": {},
   "outputs": [],
   "source": []
  },
  {
   "cell_type": "code",
   "execution_count": null,
   "id": "a87c33d5",
   "metadata": {},
   "outputs": [],
   "source": []
  },
  {
   "cell_type": "code",
   "execution_count": null,
   "id": "a84a2303",
   "metadata": {},
   "outputs": [],
   "source": []
  }
 ],
 "metadata": {
  "kernelspec": {
   "display_name": "Python 3 (ipykernel)",
   "language": "python",
   "name": "python3"
  },
  "language_info": {
   "codemirror_mode": {
    "name": "ipython",
    "version": 3
   },
   "file_extension": ".py",
   "mimetype": "text/x-python",
   "name": "python",
   "nbconvert_exporter": "python",
   "pygments_lexer": "ipython3",
   "version": "3.9.7"
  }
 },
 "nbformat": 4,
 "nbformat_minor": 5
}
