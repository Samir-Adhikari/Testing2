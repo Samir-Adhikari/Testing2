{
 "cells": [
  {
   "cell_type": "markdown",
   "id": "b00da59f",
   "metadata": {},
   "source": [
    "# Set Membership Coursework"
   ]
  },
  {
   "cell_type": "code",
   "execution_count": null,
   "id": "fb108ffa",
   "metadata": {},
   "outputs": [],
   "source": [
    "import random\n",
    "import string\n",
    "import timeit\n",
    "from bitarray import bitarray"
   ]
  },
  {
   "cell_type": "markdown",
   "id": "f9b1bd12",
   "metadata": {},
   "source": [
    "## 1. Implementeation"
   ]
  },
  {
   "cell_type": "markdown",
   "id": "7479a715",
   "metadata": {},
   "source": [
    "### Sequential Search "
   ]
  },
  {
   "cell_type": "code",
   "execution_count": null,
   "id": "a191de21",
   "metadata": {},
   "outputs": [],
   "source": [
    "class SequentialSearchSet():\n",
    "    \n",
    "    def __init__(self):\n",
    "        self.items = []           \n",
    "        \n",
    "    def insertElement(self, element):\n",
    "        self.items.append(element)\n",
    "        return True   \n",
    "\n",
    "    def searchElement(self, element):\n",
    "        found = False     \n",
    "        for item1 in self.items:\n",
    "            if item1 == element:\n",
    "                found = True\n",
    "            else:\n",
    "                found = False\n",
    "        return found   "
   ]
  },
  {
   "cell_type": "markdown",
   "id": "0a78f7ac",
   "metadata": {},
   "source": [
    "Time Complexity: \n",
    "- Insert an element is O(n^2)\n",
    "- Search an element is O(n)\n",
    "\n",
    "Space Complexity: \n",
    "- O(n)"
   ]
  },
  {
   "cell_type": "markdown",
   "id": "5b2faf0e",
   "metadata": {},
   "source": [
    "### Binary Search Tree"
   ]
  },
  {
   "cell_type": "code",
   "execution_count": null,
   "id": "ea9826d3",
   "metadata": {},
   "outputs": [],
   "source": [
    "class Node:\n",
    "    \n",
    "    def __init__(self, value):\n",
    "        self.value = value\n",
    "        self.left = None\n",
    "        self.right = None\n",
    "\n",
    "    def get(self, element):\n",
    "        if self.value == element:\n",
    "            return True\n",
    "        elif element < self.value and self.left:\n",
    "            return self.left.get(element)\n",
    "        elif element > self.value and self.right:\n",
    "            return self.right.get(element)\n",
    "        return False\n",
    "\n",
    "    def put(self, element):\n",
    "        if self.value == None:\n",
    "            self.value = element\n",
    "            return True\n",
    "        elif element == self.value:\n",
    "            self.value = element\n",
    "            return True\n",
    "        elif element < self.value:\n",
    "            if self.left is None:\n",
    "                self.left = Node(element)\n",
    "                return True\n",
    "            else: \n",
    "                return self.left.put(element)\n",
    "        elif element > self.value:\n",
    "            if self.right is None:\n",
    "                self.right = Node(element)\n",
    "                return True\n",
    "            else: \n",
    "                return self.right.put(element)\n",
    "        return False\n",
    "\n",
    "class BinarySearchTreeSet:\n",
    "    \n",
    "    def __init__(self):\n",
    "        self.bst = Node(None)\n",
    "\n",
    "    def insertElement(self, element):\n",
    "        inserted = False\n",
    "        inserted = self.bst.put(element) \n",
    "        return inserted\n",
    "\n",
    "    def searchElement(self, element):     \n",
    "        found = False \n",
    "        found = self.bst.get(element)\n",
    "        return found"
   ]
  },
  {
   "attachments": {},
   "cell_type": "markdown",
   "id": "9cd3b103",
   "metadata": {},
   "source": [
    "**Time Complexity:**\n",
    "\n",
    "Insert:\n",
    "- Average: O(log n)\n",
    "- Worst: O(n)\n",
    "\n",
    "Search:\n",
    "- Average: O(log n)\n",
    "- Worst: O(n)\n",
    "\n",
    "**Space Complexity:**\n",
    "\n",
    "O(n)"
   ]
  },
  {
   "attachments": {},
   "cell_type": "markdown",
   "id": "d255329f",
   "metadata": {},
   "source": [
    "### Red-Black Search Tree"
   ]
  },
  {
   "cell_type": "code",
   "execution_count": null,
   "id": "fd4eb6cf",
   "metadata": {},
   "outputs": [],
   "source": [
    "class BalancedSearchTreeSet:\n",
    "    R = True\n",
    "    B = False\n",
    "    # R refers to Red; B refers to Black\n",
    "    \n",
    "    class Nodes:\n",
    "        def __init__(self, val, colour):\n",
    "            self.val = val\n",
    "            self.colour = colour\n",
    "            self.left = None\n",
    "            self.right = None\n",
    "            \n",
    "    def __init__(self):\n",
    "        self.root = None\n",
    "        \n",
    "    def searchElement(self, element):\n",
    "        return self.search(self.root, element)\n",
    "    \n",
    "    def search(self, node, val):\n",
    "        if node is None:\n",
    "            return False\n",
    "        else:\n",
    "            if node.val == val:\n",
    "                return True\n",
    "            elif node.val > val:\n",
    "                return self.search(node.left, val)\n",
    "            else:\n",
    "                return self.search(node.right, val)\n",
    "    \n",
    "    def insertElement(self, element):\n",
    "        if self.root is None:\n",
    "            self.root = self.Nodes(element, self.B)\n",
    "            return True\n",
    "        else:\n",
    "            self.root, inserted = self.insert(self.root, element)\n",
    "            self.root.colour = self.B\n",
    "            return inserted\n",
    "\n",
    "    def insert(self, node, val):\n",
    "        if node is None:\n",
    "            return self.Nodes(val, self.R), True\n",
    "        if val < node.val:\n",
    "            node.left, inserted = self.insert(node.left, val)\n",
    "        elif val > node.val:\n",
    "            node.right, inserted = self.insert(node.right, val)\n",
    "        else:\n",
    "            # value already exists, do nothing\n",
    "            return node, False\n",
    "\n",
    "        # perform rotations and colour flips\n",
    "        if self.isR(node.right) and not self.isR(node.left):\n",
    "            node = self.leftRotate(node)\n",
    "        if self.isR(node.left) and self.isR(node.left.left):\n",
    "            node = self.rightRotate(node)\n",
    "        if self.isR(node.left) and self.isR(node.right):\n",
    "            self.flipColour(node)\n",
    "\n",
    "        return node, inserted\n",
    "\n",
    "    def isR(self, node):\n",
    "        if node is None:\n",
    "            return False\n",
    "        return node.colour == self.R\n",
    "    \n",
    "    def leftRotate(self, node):\n",
    "        x = node.right\n",
    "        node.right = x.left\n",
    "        x.left = node\n",
    "        x.colour = node.colour\n",
    "        node.colour = self.R\n",
    "        return x\n",
    "    \n",
    "    def rightRotate(self, node):\n",
    "        x = node.left\n",
    "        node.left = x.right\n",
    "        x.right = node\n",
    "        x.colour = node.colour\n",
    "        node.colour = self.R\n",
    "        return x\n",
    "    \n",
    "    def flipColour(self, node):\n",
    "        node.colour = not node.colour\n",
    "        node.left.colour = self.B\n",
    "        node.right.colour = self.B"
   ]
  },
  {
   "cell_type": "markdown",
   "id": "6b624636",
   "metadata": {},
   "source": [
    "Time Complexity: \n",
    "\n",
    "- Insert an element is O(log n)\n",
    "- Search an element is O(log n)\n",
    "\n",
    "Space Complexity: \n",
    "\n",
    "- O(n)"
   ]
  },
  {
   "attachments": {},
   "cell_type": "markdown",
   "id": "4e7f3dc3",
   "metadata": {},
   "source": [
    "### 2-3 Search Tree"
   ]
  },
  {
   "cell_type": "code",
   "execution_count": null,
   "id": "07736446",
   "metadata": {},
   "outputs": [],
   "source": [
    "class Node:\n",
    "    def __init__(self, values, parent = None):\n",
    "        self.values = [values]\n",
    "        self.parent = parent\n",
    "        self.child = []\n",
    "    \n",
    "    def is_leaf(self):\n",
    "        return len(self.child) == 0\n",
    "    \n",
    "    def __lt__(self, other):\n",
    "        return self.values[0] < other.values[0]\n",
    "    \n",
    "    def add(self, new_node):\n",
    "        for child in new_node.child:\n",
    "            child.parent = self\n",
    "        self.values.extend(new_node.values)\n",
    "        self.values.sort()\n",
    "        self.child.extend(new_node.child)\n",
    "        if len(self.child)>1:\n",
    "            self.child.sort()\n",
    "        if len(self.values)>2:\n",
    "            self.split()\n",
    "    \n",
    "    def _insert(self, new_node):\n",
    "        if self.is_leaf() == True:\n",
    "            if new_node.values[0] not in self.values:\n",
    "                self.add(new_node)\n",
    "                return True\n",
    "            return False\n",
    "        elif new_node.values[0] > self.values[-1]:\n",
    "            return self.child[-1]._insert(new_node)\n",
    "        else:\n",
    "            for i in range(0, len(self.values)):\n",
    "                if new_node.values[0] < self.values[i]:\n",
    "                    return self.child[i]._insert(new_node)\n",
    "                    \n",
    "    \n",
    "    def split(self):\n",
    "        left_child = Node(self.values[0], self)\n",
    "        right_child = Node(self.values[2], self)\n",
    "        if len(self.child) != 0:\n",
    "            self.child[0].parent = left_child\n",
    "            self.child[1].parent = left_child\n",
    "            self.child[2].parent = right_child\n",
    "            self.child[3].parent = right_child\n",
    "            left_child.child = [self.child[0], self.child[1]]\n",
    "            right_child.child = [self.child[2], self.child[3]]\n",
    "        \n",
    "        #promote middle node\n",
    "        self.child = [left_child]\n",
    "        self.child.append(right_child)\n",
    "        self.values = [self.values[1]]\n",
    "\n",
    "        if self.parent is not None:\n",
    "            if self in self.parent.child:\n",
    "                self.parent.child.remove(self)\n",
    "            self.parent.add(self)\n",
    "        else:\n",
    "            left_child.parent = self\n",
    "            right_child.parent = self\n",
    "\n",
    "    def _find(self, element):\n",
    "        if element in self.values:\n",
    "            return True\n",
    "        elif self.is_leaf() == True:\n",
    "            return False\n",
    "        elif element > self.values[-1]:\n",
    "            return self.child[-1]._find(element)\n",
    "        else:\n",
    "            for i in range (0, len(self.values)):\n",
    "                if element < self.values[i]:\n",
    "                    return self.child[i]._find(element)\n",
    "        \n",
    "class TwoThreeBST:\n",
    "    def __init__(self):\n",
    "        self.root = None\n",
    "    \n",
    "    def insertElement(self, element):\n",
    "        new_node = Node(element)\n",
    "        if self.root is None:\n",
    "            self.root = new_node\n",
    "        else:\n",
    "            inserted = self.root._insert(new_node)\n",
    "            if not inserted:\n",
    "                return False\n",
    "            #re-establishes the root to the top of the tree\n",
    "            while self.root.parent is not None:\n",
    "                self.root = self.root.parent\n",
    "        return True \n",
    "    \n",
    "    def searchElement(self, element):\n",
    "        return self.root._find(element)"
   ]
  },
  {
   "attachments": {},
   "cell_type": "markdown",
   "id": "d682766c",
   "metadata": {},
   "source": [
    "Time Complexity: \n",
    "\n",
    "- Insert an element is O(log n)\n",
    "- Search an element is O(log n)\n",
    "\n",
    "Space Complexity: \n",
    "\n",
    "- O(n)"
   ]
  },
  {
   "cell_type": "markdown",
   "id": "108b949c",
   "metadata": {},
   "source": [
    "### Bloom Filter"
   ]
  },
  {
   "cell_type": "code",
   "execution_count": null,
   "id": "d701c2d2",
   "metadata": {},
   "outputs": [],
   "source": [
    "class BloomFilterSet:\n",
    "    \n",
    "    def __init__(self):\n",
    "        self.HashFunctions = None\n",
    "        self.hashNum = 0\n",
    "        self.size = 0\n",
    "        self.bitArray = None\n",
    "    \n",
    "    def initVariables(self, ItemNum, FPProb, HashFunctions):\n",
    "        # ItemNum : int, Number of items expected to be stored in bloom filter\n",
    "        # FPProb : float, False Positive probability in decimal\n",
    "        # HashFunctions: list, number of hash functions to use\n",
    "        self.HashFunctions = HashFunctions\n",
    "        self.hashNum = len(HashFunctions)\n",
    "        # Total size of bit array\n",
    "        self.size = self.getSize(ItemNum, FPProb)\n",
    "        # Bit array of given size, and initialize all bits as 0 (False)\n",
    "        self.bitArray = bitarray(self.size)\n",
    "        self.bitArray.setall(0)\n",
    "\n",
    "    def insertElement(self, element):\n",
    "        inserted = False\n",
    "        tempIndex = []\n",
    "        for function in self.HashFunctions:\n",
    "            index = function(element) % self.size\n",
    "            self.bitArray[index] = True\n",
    "            tempIndex.append(self.bitArray[index])\n",
    "        if False not in tempIndex:\n",
    "            inserted = True\n",
    "        return inserted\n",
    "\n",
    "    def searchElement(self, element):\n",
    "        found = False\n",
    "        count = 0\n",
    "        for function in self.HashFunctions:\n",
    "            index = function(element) % self.size\n",
    "            if not self.bitArray[index] == False:\n",
    "                count += 1\n",
    "        if count == len(self.HashFunctions):\n",
    "            found = True\n",
    "        return found\n",
    "\n",
    "    def getSize(self, n, p):\n",
    "        # m = -(n * lg(p)) / (lg(2)^2)\n",
    "        # n : number of items expected to be stored in filter\n",
    "        # p : False Positive probability in decimal\n",
    "        m = -(n * self.myLog(p)) / (self.myLog(2) ** 2)\n",
    "        return int(m)\n",
    "    \n",
    "    def myLog(self, n):\n",
    "        if n <= 0:\n",
    "            raise ValueError(\"logarithm is undefined for non-positive values\")\n",
    "        if n == 1:\n",
    "            return 0\n",
    "        if n < 1:\n",
    "            # log(xn) = -log(1/n) for n < 1\n",
    "            return -self.myLog(1 / n)\n",
    "        # Use the taylor series approximation for log(n) where |n-1| < 1\n",
    "        taylor = (n - 1) / float(n + 1)\n",
    "        term = taylor\n",
    "        total = taylor\n",
    "        num = 1\n",
    "        while abs(term) > 1e-15:\n",
    "            num += 2\n",
    "            term *= taylor * taylor / float(num * (num - 1))\n",
    "            total += term\n",
    "        return 2 * total"
   ]
  },
  {
   "cell_type": "code",
   "execution_count": null,
   "id": "f3e54778",
   "metadata": {},
   "outputs": [],
   "source": [
    "def builtinHash(string):\n",
    "    return hash(string)\n",
    "\n",
    "def bernsteinHash(string):\n",
    "    hashValue = 5381\n",
    "    for char in string:\n",
    "        hashValue = ((hashValue << 5) + hashValue) + ord(char)\n",
    "    return hashValue\n",
    "\n",
    "def fnvHash(string):\n",
    "    hashValue = 2166136261\n",
    "    for char in string:\n",
    "        hashValue = (hashValue * 16777619) ^ ord(char)\n",
    "    return hashValue\n",
    "\n",
    "def jenkinsHash(string):\n",
    "    hashValue = 0\n",
    "    for char in string:\n",
    "        hashValue += ord(char)\n",
    "        hashValue += (hashValue << 10)\n",
    "        hashValue ^= (hashValue >> 6)\n",
    "    hashValue += (hashValue << 3)\n",
    "    hashValue ^= (hashValue >> 11)\n",
    "    hashValue += (hashValue << 15)\n",
    "    return hashValue\n",
    "\n",
    "def djb2Hash(string):\n",
    "    hashValue = 5381\n",
    "    for char in string:\n",
    "        hashValue = ((hashValue << 5) + hashValue) + ord(char)\n",
    "    return hashValue\n",
    "\n",
    "def sdbmHash(string):\n",
    "    hashValue = 0\n",
    "    for char in string:\n",
    "        hashValue = ord(char) + (hashValue << 6) + (hashValue << 16) - hashValue\n",
    "    return hashValue\n",
    "\n",
    "def fnv1aHash(string):\n",
    "    hashValue = 2166136261\n",
    "    for char in string:\n",
    "        hashValue ^= ord(char)\n",
    "        hashValue *= 16777619\n",
    "    return hashValue"
   ]
  },
  {
   "cell_type": "code",
   "execution_count": null,
   "id": "1a6e875d",
   "metadata": {},
   "outputs": [],
   "source": [
    "Alphabets = list(string.ascii_letters)\n",
    "randomword = []\n",
    "for a in range(10000):\n",
    "    temp = ''.join(random.choice(Alphabets) for t in range(random.randint(100, 200)))\n",
    "    randomword.append(temp)\n",
    "\n",
    "functions = [builtinHash, bernsteinHash, fnvHash, jenkinsHash, \n",
    "             djb2Hash, sdbmHash, fnv1aHash]\n",
    "bf = BloomFilterSet()\n",
    "bf.initVariables(10000, 0.01, functions)\n",
    "testnum = 0\n",
    "for ws in randomword:\n",
    "    if bf.searchElement(ws) == True:\n",
    "        testnum += 1\n",
    "\n",
    "print(\"The False-Positive-Rate: \", testnum / len(randomword))"
   ]
  },
  {
   "cell_type": "markdown",
   "id": "d784b54d",
   "metadata": {},
   "source": [
    "Time Complexity: \n",
    "- Creating the Bloom filter is O(kn)\n",
    "- Insert and Search an element: O(k)\n",
    "- k is the number of hash functions and n is the number of elements\n",
    "\n",
    "Space Complexity: \n",
    "- O(kb), where k is the number of hash functions and b is the bits number"
   ]
  },
  {
   "cell_type": "markdown",
   "id": "fb097f73",
   "metadata": {},
   "source": [
    "## 2. Experimentally Evaluation"
   ]
  },
  {
   "cell_type": "markdown",
   "id": "427c6435",
   "metadata": {},
   "source": [
    "### Using Real Data"
   ]
  },
  {
   "cell_type": "code",
   "execution_count": null,
   "id": "e286902e",
   "metadata": {},
   "outputs": [],
   "source": [
    "def ReadFile(filepath):\n",
    "    with open(filepath) as f:\n",
    "        for line in f:\n",
    "            words = line.strip().split()\n",
    "    return words"
   ]
  },
  {
   "cell_type": "code",
   "execution_count": null,
   "id": "e171cccb",
   "metadata": {},
   "outputs": [],
   "source": [
    "words1 = ReadFile(\"./data/testfiles/test1-mobydick.txt\")\n",
    "words2 = ReadFile(\"./data/testfiles/test2-warpeace.txt\")\n",
    "words3 = ReadFile(\"./data/testfiles/test3-dickens.txt\")\n",
    "\n",
    "files = {\"'test1-mobydick.txt'\": words1, \"'test2-warpeace.txt'\": words2,\n",
    "         \"'test3-dickens.txt'\": words3}\n",
    "print(len(words1), len(words2), len(words3))"
   ]
  },
  {
   "cell_type": "code",
   "execution_count": null,
   "id": "cf9bf466",
   "metadata": {},
   "outputs": [],
   "source": [
    "wordsforsearch = []\n",
    "with open(\"./data/testfiles/test-search.txt\") as fsearch:\n",
    "    for line in fsearch:\n",
    "        wordsforsearch.append(line.strip())\n",
    "        \n",
    "len(wordsforsearch)"
   ]
  },
  {
   "cell_type": "code",
   "execution_count": null,
   "id": "95d9771d",
   "metadata": {},
   "outputs": [],
   "source": [
    "hashFunctions = [builtinHash, bernsteinHash, fnvHash, jenkinsHash, \n",
    "                 djb2Hash, sdbmHash, fnv1aHash]"
   ]
  },
  {
   "cell_type": "markdown",
   "id": "7925ce26",
   "metadata": {},
   "source": [
    "#### The total amount of time of all insert operations"
   ]
  },
  {
   "cell_type": "code",
   "execution_count": null,
   "id": "5a8ad56f",
   "metadata": {},
   "outputs": [],
   "source": [
    "# def InsertTime(classname, datadict):\n",
    "#     res = []\n",
    "#     classlist = []\n",
    "#     for key in datadict.keys():\n",
    "#         tempdata = datadict[key]\n",
    "#         algorithm = classname()\n",
    "#         if str(classname) == str(BloomFilterSet):\n",
    "#             algorithm.initVariables(len(tempdata), 0.01, hashFunctions)\n",
    "        \n",
    "#         seen = {}\n",
    "#         InsertStart = timeit.default_timer()\n",
    "#         for word in tempdata:\n",
    "#             if word is not None and word not in seen:\n",
    "#                 seen[word] = True\n",
    "#                 inserted = algorithm.insertElement(word)\n",
    "#                 res.append(inserted)\n",
    "#         InsertEnd = timeit.default_timer()\n",
    "#         InsertTime = InsertEnd - InsertStart\n",
    "#         print(\"Insert time taken for\", key, \"is :\", InsertTime)\n",
    "#         classlist.append(algorithm)\n",
    "#         return classlist, res\n",
    "    \n",
    "def InsertTime(classname, datadict):\n",
    "    classlist = []\n",
    "    ts = []\n",
    "    for key in datadict.keys():\n",
    "        algorithm = classname()\n",
    "        InsertStart = timeit.default_timer()\n",
    "        \n",
    "        for word in datadict[key]:\n",
    "            t = algorithm.insertElement(word)\n",
    "            ts.append(t)\n",
    "        InsertEnd = timeit.default_timer()\n",
    "        InsertTime = InsertEnd - InsertStart\n",
    "        print(\"Insert time taken for\", key, \"is :\", InsertTime)\n",
    "        classlist.append(algorithm)\n",
    "    return classlist, ts"
   ]
  },
  {
   "cell_type": "code",
   "execution_count": null,
   "id": "41ff87ba",
   "metadata": {},
   "outputs": [],
   "source": [
    "# Sequential Search\n",
    "SEQs, res = InsertTime(SequentialSearchSet, files)\n",
    "res"
   ]
  },
  {
   "cell_type": "code",
   "execution_count": null,
   "id": "f69c8a50",
   "metadata": {
    "scrolled": true
   },
   "outputs": [],
   "source": [
    "# Binary Search Tree\n",
    "BSTs, res = InsertTime(BinarySearchTreeSet, files)\n",
    "res"
   ]
  },
  {
   "cell_type": "code",
   "execution_count": null,
   "id": "399c5214",
   "metadata": {},
   "outputs": [],
   "source": [
    "# Balanced Search Tree\n",
    "RBTs, res = InsertTime(BalancedSearchTreeSet, files)\n",
    "res"
   ]
  },
  {
   "cell_type": "code",
   "execution_count": null,
   "id": "a90ab34d",
   "metadata": {},
   "outputs": [],
   "source": [
    "TTBSTs, res = InsertTime(TwoThreeBST, files)\n",
    "res"
   ]
  },
  {
   "cell_type": "code",
   "execution_count": null,
   "id": "0d1d655b",
   "metadata": {},
   "outputs": [],
   "source": [
    "# Bloom Filter\n",
    "BFs, res = InsertTime(BloomFilterSet, files)\n",
    "res"
   ]
  },
  {
   "cell_type": "code",
   "execution_count": null,
   "id": "23194bb1",
   "metadata": {},
   "outputs": [],
   "source": [
    "\n",
    "BFs = []\n",
    "for key in files.keys():\n",
    "    algorithm = BloomFilterSet()\n",
    "    algorithm.initVariables(len(files[key]), 0.01, hashFunctions)\n",
    "    InsertStart = timeit.default_timer()\n",
    "    for word in files[key]:\n",
    "        algorithm.insertElement(word)\n",
    "    InsertEnd = timeit.default_timer()\n",
    "    InsertTime = InsertEnd - InsertStart\n",
    "    print(\"Insert time taken for\", key, \"is :\", InsertTime)\n",
    "    BFs.append(algorithm)"
   ]
  },
  {
   "cell_type": "markdown",
   "id": "d5a034ed",
   "metadata": {},
   "source": [
    "#### The total amount of time of search operations"
   ]
  },
  {
   "cell_type": "code",
   "execution_count": null,
   "id": "ffa545ab",
   "metadata": {},
   "outputs": [],
   "source": [
    "def SearchTime(objects, searchdata):\n",
    "    for obj in objects:\n",
    "        SearchStart = timeit.default_timer()\n",
    "        for ws in searchdata:\n",
    "            obj.searchElement(ws)\n",
    "        SearchEnd = timeit.default_timer()\n",
    "        SearchTime = SearchEnd - SearchStart\n",
    "        print(\"Search time taken for 'test-search.txt' in file\", \n",
    "              objects.index(obj)+1, \"is :\", SearchTime)"
   ]
  },
  {
   "cell_type": "code",
   "execution_count": null,
   "id": "b0153c79",
   "metadata": {},
   "outputs": [],
   "source": [
    "# Sequential Search Tree\n",
    "SearchTime(SEQs, wordsforsearch)"
   ]
  },
  {
   "cell_type": "code",
   "execution_count": null,
   "id": "b664f66d",
   "metadata": {},
   "outputs": [],
   "source": [
    "# Binary Search Tree\n",
    "SearchTime(BSTs, wordsforsearch)"
   ]
  },
  {
   "cell_type": "code",
   "execution_count": null,
   "id": "7513ea42",
   "metadata": {},
   "outputs": [],
   "source": [
    "# Red-Black Balanced Search Tree\n",
    "SearchTime(RBTs, wordsforsearch)"
   ]
  },
  {
   "cell_type": "code",
   "execution_count": null,
   "id": "f66b1f3a",
   "metadata": {},
   "outputs": [],
   "source": [
    "# 2-3 Balanced Search Tree\n",
    "SearchTime(TTBSTs, wordsforsearch)"
   ]
  },
  {
   "cell_type": "code",
   "execution_count": null,
   "id": "017aa425",
   "metadata": {},
   "outputs": [],
   "source": [
    "# Bloom Filter\n",
    "SearchTime(BFs, wordsforsearch)"
   ]
  },
  {
   "cell_type": "markdown",
   "id": "41ef4e99",
   "metadata": {},
   "source": [
    "### Using Synthetic Data"
   ]
  },
  {
   "cell_type": "markdown",
   "id": "f4490e86",
   "metadata": {},
   "source": [
    "### different conditions:\n",
    "- Duplicate cases\n",
    "- Longer String length\n",
    "- Adding numbers and symbols in each string\n",
    "- String list in ascending/descending order\n",
    "- Missing values\n",
    "- ......"
   ]
  },
  {
   "cell_type": "code",
   "execution_count": null,
   "id": "5800fe54",
   "metadata": {},
   "outputs": [],
   "source": [
    "class TestDataGenerator():\n",
    "\n",
    "    def __init__(self):\n",
    "        self.syntheticData = []\n",
    "        self.strLen = 0\n",
    "        self.percentage = 0.0\n",
    "\n",
    "    def setParams(self, strLen, percentage):\n",
    "        self.strLen = strLen\n",
    "        self.percentage = percentage\n",
    "    \n",
    "    def generateData(self, size):\n",
    "        data = []\n",
    "        alphabets = list(string.ascii_letters)\n",
    "        charlist = string.printable\n",
    "\n",
    "#         # Normal Case\n",
    "#         data = [''.join(random.choice(alphabets) for _ in range(random.randint(5, 10))) for _ in range(size)]\n",
    "\n",
    "#         # Long String   \n",
    "#         data1 = [''.join(random.choice(alphabets) for _ in range(self.strLen)) for _ in range(size)]\n",
    "\n",
    "#         # Special String\n",
    "#         data2 = [''.join(random.sample(charlist, random.randint(5, 10))) for _ in range(size)]\n",
    "\n",
    "        # Normal Case\n",
    "        while len(data) < size:\n",
    "            temp = ''.join(random.choice(alphabets) for _ in range(random.randint(4, 10)))\n",
    "            if temp not in data:\n",
    "                data.append(temp)\n",
    "\n",
    "        # Long String\n",
    "        data1 = []\n",
    "        while len(data1) < size:\n",
    "            temp1 = ''.join(random.choice(alphabets) for _ in range(self.strLen))\n",
    "            if temp1 not in data1:\n",
    "                data1.append(temp1)\n",
    "\n",
    "        # Special String\n",
    "        data2 = []\n",
    "        while len(data2) < size:\n",
    "            temp2 = ''.join(random.sample(charlist, random.randint(4, 10)))\n",
    "            if temp2 not in data2:\n",
    "                data2.append(temp2)\n",
    "\n",
    "        # Ascending Order\n",
    "        data3 = self.mergeSort(data.copy())\n",
    "\n",
    "        # String with missing values and duplicate values\n",
    "        num6 = round(size * 0.2)\n",
    "        temp6 = data[ : num6]\n",
    "        data5 = [None if i >= num6 and random.random() < self.percentage else data[i] for i in range(size)]\n",
    "        data6 = [random.choice(temp6) if i >= num6 and random.random() < self.percentage else data[i] for i in range(size)]\n",
    "\n",
    "        # Descending Order\n",
    "        data4 = data3[::-1]\n",
    "\n",
    "        self.syntheticData.append(data)\n",
    "        self.syntheticData.append(data1)\n",
    "        self.syntheticData.append(data2)\n",
    "        self.syntheticData.append(data3)\n",
    "        self.syntheticData.append(data4)\n",
    "        self.syntheticData.append(data5)\n",
    "        self.syntheticData.append(data6)\n",
    "        return self.syntheticData\n",
    "\n",
    "    \n",
    "    def generateData2(self, strLen, percentage):\n",
    "#         data, data1, data2 = [\"\"] * self.size, [\"\"] * self.size, [\"\"] * self.size\n",
    "        data, data1, data2 = [], [], []\n",
    "        charlist = string.printable\n",
    "#         i, j, k = 0, 0, 0\n",
    "        while len(data) < self.size and len(data1) < self.size and len(data2) < self.size:\n",
    "            # Normal Case\n",
    "            temp = ''.join(random.choice(self.alphabets) for _ in range(random.randint(5, 10)))\n",
    "            if temp not in data:\n",
    "                data.append(temp)\n",
    "            # Long String   \n",
    "            temp1 = ''.join(random.choice(self.alphabets) for _ in range(strLen))\n",
    "            if temp1 not in data1:\n",
    "                data1.append(temp1)\n",
    "            # Special String\n",
    "            temp2 = ''.join(random.choice(charlist) for _ in range(random.randint(5, 10)))\n",
    "            if temp2 not in data2:\n",
    "                data2.append(temp2)\n",
    "        print(0,1,2)\n",
    "#         for i in range(self.size):\n",
    "#             # Normal Case\n",
    "#             data[i] = ''.join(random.choice(self.alphabets) for _ in range(random.randint(2, 15)))\n",
    "#             # Long String   \n",
    "#             data1[i] = ''.join(random.choice(self.alphabets) for _ in range(strLen))\n",
    "#             # Special String\n",
    "#             data2[i] = ''.join(random.choice(charlist) for _ in range(random.randint(2, 15)))\n",
    "            \n",
    "        # Ascending Order\n",
    "        data3 = self.mergeSort(data.copy())\n",
    "        # Descending Order\n",
    "        data4 = data3[::-1]\n",
    "        print(3,4)\n",
    "        data5, data6 = data.copy(), data.copy()\n",
    "        # String with missing values\n",
    "        num6 = round(self.size * 0.1)\n",
    "        temp6 = data6[ : num6]\n",
    "        for _ in range(round(percentage * self.size)):\n",
    "            index = random.choice(range(num6, self.size))\n",
    "            # String with missing values\n",
    "            data5[index] = None\n",
    "            # String with duplicate values\n",
    "            data6[index] = random.choice(temp6)\n",
    "        \n",
    "        self.syntheticData.append(data)\n",
    "        self.syntheticData.append(data1)\n",
    "        self.syntheticData.append(data2)\n",
    "        self.syntheticData.append(data3)\n",
    "        self.syntheticData.append(data4)\n",
    "        self.syntheticData.append(data5)\n",
    "        self.syntheticData.append(data6)\n",
    "        return self.syntheticData\n",
    "    \n",
    "    def mergeSort(self, arr):\n",
    "        n = len(arr)\n",
    "        size = 1\n",
    "        while size < n:\n",
    "            for i in range(0, n, 2*size):\n",
    "                left = arr[i : i+size]\n",
    "                right = arr[i+size : i+2*size]\n",
    "                merged = []\n",
    "                l = r = 0\n",
    "                while l < len(left) and r < len(right):\n",
    "                    if left[l] < right[r]:\n",
    "                        merged.append(left[l])\n",
    "                        l += 1\n",
    "                    else:\n",
    "                        merged.append(right[r])\n",
    "                        r += 1\n",
    "                merged += left[l:]\n",
    "                merged += right[r:]\n",
    "                arr[i : i+len(merged)] = merged\n",
    "            size *= 2\n",
    "        return arr"
   ]
  },
  {
   "cell_type": "code",
   "execution_count": null,
   "id": "e9f04786",
   "metadata": {},
   "outputs": [],
   "source": [
    "# missing value checker\n",
    "\n",
    "def isNone(list):\n",
    "    i = 0\n",
    "    lst_iter = iter(list)\n",
    "    while True:\n",
    "        element = next(lst_iter,\"end\")\n",
    "        if element == \"end\":\n",
    "            break\n",
    "        if element is None:\n",
    "            i += 1\n",
    "    print(\"The file contains %d None values\" % i)\n",
    "\n",
    "testList = [1,2,3,None,4,5,6,7,8,9,None]\n",
    "\n",
    "isNone(words1)\n",
    "isNone(words2)\n",
    "isNone(words3)\n",
    "isNone(testList)"
   ]
  },
  {
   "cell_type": "code",
   "execution_count": null,
   "id": "b9244868",
   "metadata": {
    "scrolled": true
   },
   "outputs": [],
   "source": [
    "dataGenerate = TestDataGenerator()\n",
    "dataGenerate.setParams(100, 0.6)\n",
    "SyntheticDataList = dataGenerate.generateData(100000)\n",
    "SyntheticDataList"
   ]
  },
  {
   "cell_type": "code",
   "execution_count": null,
   "id": "244f3151",
   "metadata": {},
   "outputs": [],
   "source": [
    "SyntheticDataNames = [\"Normal\", \"Long String\", \"Special String\", \"Ascending Order\", \"Descending Order\", \n",
    "                      \"String with missing values\", \"String with duplicate values\"]"
   ]
  },
  {
   "cell_type": "code",
   "execution_count": null,
   "id": "ed3204cc",
   "metadata": {},
   "outputs": [],
   "source": [
    "synSearchList = []\n",
    "for datalist in SyntheticDataList[0 : 3]:\n",
    "    num = round(len(datalist) * 0.3)\n",
    "    templist = []\n",
    "    while len(templist) < num:\n",
    "        tempdata = random.choice(datalist)\n",
    "        if tempdata not in templist:\n",
    "            templist.append(tempdata)\n",
    "    synSearchList.append(templist)\n",
    "\n",
    "for _ in range(4):\n",
    "    synSearchList.append(synSearchList[0].copy())\n",
    "synSearchList"
   ]
  },
  {
   "cell_type": "code",
   "execution_count": null,
   "id": "dd00fb56",
   "metadata": {},
   "outputs": [],
   "source": []
  },
  {
   "cell_type": "markdown",
   "id": "b3ab621a",
   "metadata": {},
   "source": [
    "#### Insert Time Taken"
   ]
  },
  {
   "cell_type": "code",
   "execution_count": null,
   "id": "564082c4",
   "metadata": {},
   "outputs": [],
   "source": [
    "def InsertTime2(classname, datalist):\n",
    "    # Remove Duplicates\n",
    "    seen = {}\n",
    "    uniqueDatas = []\n",
    "    for e in datalist:\n",
    "        if e not in seen:\n",
    "            seen[e] = True\n",
    "            uniqueDatas.append(e)\n",
    "    \n",
    "    algorithm = classname()\n",
    "    if str(classname) == str(BloomFilterSet):\n",
    "        algorithm.initVariables(len(datalist), 0.01, hashFunctions)\n",
    "\n",
    "    InsertStart = timeit.default_timer()\n",
    "    res = []\n",
    "    for word in uniqueDatas:\n",
    "        # Remove Missing Values\n",
    "        if word is not None:\n",
    "            inserted = algorithm.insertElement(word)\n",
    "            res.append(inserted)\n",
    "    InsertEnd = timeit.default_timer()\n",
    "    InsertTime = InsertEnd - InsertStart\n",
    "    print(\"Insert time taken is :\", InsertTime)\n",
    "    return algorithm, res"
   ]
  },
  {
   "cell_type": "code",
   "execution_count": null,
   "id": "442b67e5",
   "metadata": {},
   "outputs": [],
   "source": [
    "SEQSyn, BSTSyn, RBTSyn, BTSyn = [], [], [], []\n",
    "InsertRes1, InsertRes2, InsertRes3, InsertRes4 = [], [], [], []\n",
    "for i in range(len(SyntheticDataList)):\n",
    "    print(\"For\", SyntheticDataNames[i], \"Case: \")\n",
    "    print(\"Sequential Search: \")\n",
    "    SEQ, res1 = InsertTime2(SequentialSearchSet, SyntheticDataList[i])\n",
    "    SEQSyn.append(SEQ)\n",
    "    InsertRes1.append(res1)\n",
    "#     print(\"Binary Search Tree: \")\n",
    "#     BST, res2 = InsertTime2(BinarySearchTreeSet, SyntheticDataList[i])\n",
    "#     BSTSyn.append(BST)\n",
    "#     InsertRes2.append(res2)\n",
    "#     print(\"Balanced Search Tree: \")\n",
    "#     RBT, res3 = InsertTime2(BalancedSearchTreeSet, SyntheticDataList[i])\n",
    "#     RBTSyn.append(RBT)\n",
    "#     InsertRes3.append(res3)\n",
    "    print(\"Bloom Filter: \")\n",
    "    BT, res4 = InsertTime2(BloomFilterSet, SyntheticDataList[i])\n",
    "    BTSyn.append(BT)\n",
    "    InsertRes4.append(res4)\n",
    "    print(\"~~~~~~~~~~~~~~~~~~~~~~~~~~~~~~~~~~~~~~~~~~~~~~~~~\")"
   ]
  },
  {
   "cell_type": "markdown",
   "id": "ea712b90",
   "metadata": {},
   "source": [
    "### Search Time Taken"
   ]
  },
  {
   "cell_type": "code",
   "execution_count": null,
   "id": "0fddadb2",
   "metadata": {},
   "outputs": [],
   "source": [
    "def SearchTime2(obj, searchdata):\n",
    "    res = []\n",
    "    SearchStart = timeit.default_timer()\n",
    "    for ws in searchdata:\n",
    "        if ws is not None:\n",
    "            searched = obj.searchElement(ws)\n",
    "            res.append(searched)\n",
    "    SearchEnd = timeit.default_timer()\n",
    "    SearchTime = SearchEnd - SearchStart\n",
    "    print(\"Search time taken is :\", SearchTime)\n",
    "    return res"
   ]
  },
  {
   "cell_type": "code",
   "execution_count": null,
   "id": "a6d3b6c0",
   "metadata": {},
   "outputs": [],
   "source": [
    "SearchRes1, SearchRes2, SearchRes3, SearchRes4 = [], [], [], []\n",
    "for i in range (len(synSearchList)):\n",
    "    print(\"For\", SyntheticDataNames[i], \"Case: \")\n",
    "    print(\"Sequential Search: \")\n",
    "    SEQ, sres1 = SearchTime2(SEQSyn[i], synSearchList[i])\n",
    "    SearchRes1.append(sres1)\n",
    "    print(\"~~~~~~~~~~~~~~~~~~~~~~~~~~~~~~~~~~~~~~~~~~~~~~~~~\")\n",
    "#     print(\"Binary Search Tree: \")\n",
    "#     BST, sres2 = SearchTime2(BSTSyn[i], synSearchList[i])\n",
    "#     SearchRes2.append(sres2)\n",
    "#     print(\"~~~~~~~~~~~~~~~~~~~~~~~~~~~~~~~~~~~~~~~~~~~~~~~~~\")\n",
    "#     print(\"Balanced Search Tree: \")\n",
    "#     RBT, sres3 = SearchTime2(RBTSyn[i], synSearchList[i])\n",
    "#     SearchRes3.append(sres3)\n",
    "#     print(\"~~~~~~~~~~~~~~~~~~~~~~~~~~~~~~~~~~~~~~~~~~~~~~~~~\")\n",
    "    print(\"Bloom Filter: \")\n",
    "    BT, sres4 = SearchTime2(BTSyn[i], synSearchList[i])\n",
    "    SearchRes4.append(sres4)\n",
    "    print(\"~~~~~~~~~~~~~~~~~~~~~~~~~~~~~~~~~~~~~~~~~~~~~~~~~\")\n",
    "    print(\"                                                 \")"
   ]
  },
  {
   "cell_type": "code",
   "execution_count": null,
   "id": "b577d64e",
   "metadata": {},
   "outputs": [],
   "source": []
  },
  {
   "cell_type": "code",
   "execution_count": null,
   "id": "f71c7901",
   "metadata": {},
   "outputs": [],
   "source": []
  },
  {
   "cell_type": "markdown",
   "id": "1523a78d",
   "metadata": {},
   "source": [
    "# --------"
   ]
  },
  {
   "cell_type": "code",
   "execution_count": null,
   "id": "35662ace",
   "metadata": {},
   "outputs": [],
   "source": [
    "rbt = BalancedSearchTreeSet()\n",
    "rbt.insertElement('b')\n",
    "rbt.insertElement('a')\n",
    "rbt.insertElement('c')\n",
    "\n",
    "print(rbt.searchElement('b'))\n",
    "print(rbt.searchElement('a'))\n",
    "print(rbt.searchElement('c'))"
   ]
  },
  {
   "cell_type": "markdown",
   "id": "4c1b322e",
   "metadata": {},
   "source": [
    "Sequential Search"
   ]
  },
  {
   "cell_type": "code",
   "execution_count": null,
   "id": "d8187008",
   "metadata": {},
   "outputs": [],
   "source": [
    "# for key in files.keys():\n",
    "#     seqInsertStart = timeit.default_timer()\n",
    "#     for word in files[key]:\n",
    "#         SEQs.insertElement(word)\n",
    "#     seqInsertEnd = timeit.default_timer()\n",
    "#     seqInsertTime = seqInsertEnd - seqInsertStart\n",
    "#     print(\"Insert time taken for \", key, \"is : \", seqInsertTime)"
   ]
  },
  {
   "cell_type": "markdown",
   "id": "8d7873f3",
   "metadata": {},
   "source": [
    "Sequential Search"
   ]
  },
  {
   "cell_type": "code",
   "execution_count": null,
   "id": "6439270e",
   "metadata": {},
   "outputs": [],
   "source": [
    "SeqSearchStart = timeit.default_timer()\n",
    "for ws in wordsforsearch:\n",
    "    SEQs.searchElement(ws)\n",
    "SeqSearchEnd = timeit.default_timer()\n",
    "SeqSearchTime = SeqSearchEnd - SeqSearchStart\n",
    "print(\"Search time taken for 'test-search.txt' is : \", SeqSearchTime)"
   ]
  },
  {
   "cell_type": "markdown",
   "id": "210788d9",
   "metadata": {},
   "source": [
    "Binary Search Tree"
   ]
  },
  {
   "cell_type": "code",
   "execution_count": null,
   "id": "e1c6136a",
   "metadata": {},
   "outputs": [],
   "source": [
    "for key in files.keys():\n",
    "    binaryInsertStart = timeit.default_timer()\n",
    "    for word in files[key]:\n",
    "        BSTs.insertElement(word)\n",
    "    binaryInsertEnd = timeit.default_timer()\n",
    "    \n",
    "    binaryInsertTime = binaryInsertEnd - binaryInsertStart\n",
    "    print(\"Insert time taken for \", key, \"is : \", binaryInsertTime)"
   ]
  },
  {
   "cell_type": "markdown",
   "id": "18cbc4f4",
   "metadata": {},
   "source": [
    "Binary Search Tree"
   ]
  },
  {
   "cell_type": "code",
   "execution_count": null,
   "id": "097549fc",
   "metadata": {},
   "outputs": [],
   "source": [
    "BinarySearchStart = timeit.default_timer()\n",
    "for ws in wordsforsearch:\n",
    "    BSTs.searchElement(ws)\n",
    "BinarySearchEnd = timeit.default_timer()\n",
    "BinarySearchTime = BinarySearchEnd - BinarySearchStart\n",
    "print(\"Search time taken for 'test-search.txt' is : \", BinarySearchTime)"
   ]
  },
  {
   "cell_type": "markdown",
   "id": "847c808e",
   "metadata": {},
   "source": [
    "Balanced Search Tree"
   ]
  },
  {
   "cell_type": "code",
   "execution_count": null,
   "id": "8d98154a",
   "metadata": {},
   "outputs": [],
   "source": [
    "for key in files.keys():\n",
    "    RedBlackInsertStart = timeit.default_timer()\n",
    "    for word in files[key]:\n",
    "        RBT.insertElement(word)\n",
    "    RedBlackInsertEnd = timeit.default_timer()\n",
    "    RedBlackInsertTime = RedBlackInsertEnd - RedBlackInsertStart\n",
    "    print(\"Insert time taken for \", key, \"is : \", RedBlackInsertTime)"
   ]
  },
  {
   "cell_type": "markdown",
   "id": "d819dda5",
   "metadata": {},
   "source": [
    "Balanced Search Tree"
   ]
  },
  {
   "cell_type": "code",
   "execution_count": null,
   "id": "c2ce07de",
   "metadata": {},
   "outputs": [],
   "source": [
    "RedBlackSearchStart = timeit.default_timer()\n",
    "for ws in wordsforsearch:\n",
    "    RBT.searchElement(ws)\n",
    "RedBlackSearchEnd = timeit.default_timer()\n",
    "RedBlackSearchTime = RedBlackSearchEnd - RedBlackSearchStart\n",
    "print(\"Search time taken for 'test-search.txt' is : \", RedBlackSearchTime)"
   ]
  },
  {
   "attachments": {},
   "cell_type": "markdown",
   "id": "2d98c07b",
   "metadata": {},
   "source": [
    "2-3 Balanced Search Tree"
   ]
  },
  {
   "cell_type": "code",
   "execution_count": null,
   "id": "0d83a369",
   "metadata": {},
   "outputs": [],
   "source": [
    "for key in files.keys():\n",
    "    TwoThreeInsertStart = timeit.default_timer()\n",
    "    for word in files[key]:\n",
    "        TTBSTs.insertElement(word)\n",
    "    TwoThreeInsertEnd = timeit.default_timer()\n",
    "    \n",
    "    TwoThreeInsertTime = TwoThreeInsertEnd - TwoThreeInsertStart\n",
    "    print(\"Insert time taken for \", key, \"is : \", TwoThreeInsertTime)"
   ]
  },
  {
   "attachments": {},
   "cell_type": "markdown",
   "id": "31da165e",
   "metadata": {},
   "source": [
    "2-3 Balanced Search Tree"
   ]
  },
  {
   "cell_type": "code",
   "execution_count": null,
   "id": "4e7d51b4",
   "metadata": {},
   "outputs": [],
   "source": [
    "TwoThreeSearchStart = timeit.default_timer()\n",
    "for ws in wordsforsearch:\n",
    "    TTBSTs.searchElement(ws)\n",
    "TwoThreeSearchEnd = timeit.default_timer()\n",
    "TwoThreeSearchTime = TwoThreeSearchEnd - TwoThreeSearchStart\n",
    "print(\"Search time taken for 'test-search.txt' is : \", TwoThreeSearchTime)"
   ]
  },
  {
   "cell_type": "markdown",
   "id": "af2601d2",
   "metadata": {},
   "source": [
    "Bloom Filter"
   ]
  },
  {
   "cell_type": "code",
   "execution_count": null,
   "id": "e812f726",
   "metadata": {},
   "outputs": [],
   "source": [
    "for key in files.keys():\n",
    "    BFInsertStart = timeit.default_timer()\n",
    "    for word in files[key]:\n",
    "        BF.insertElement(word)\n",
    "    BFInsertEnd = timeit.default_timer()\n",
    "    BFInsertTime = BFInsertEnd - BFInsertStart\n",
    "    print(\"Insert time taken for \", key, \"is : \", BFInsertTime)"
   ]
  },
  {
   "cell_type": "markdown",
   "id": "a79f425c",
   "metadata": {},
   "source": [
    "Bloom Filter"
   ]
  },
  {
   "cell_type": "code",
   "execution_count": null,
   "id": "d0dff280",
   "metadata": {},
   "outputs": [],
   "source": [
    "BFSearchStart = timeit.default_timer()\n",
    "for word in wordsforsearch:\n",
    "    BF.searchElement(word)\n",
    "BFSearchEnd = timeit.default_timer()\n",
    "BFSearchTime = BFSearchEnd - BFSearchStart\n",
    "print(\"Search time taken for 'test-search.txt' is : \", BFSearchTime)"
   ]
  },
  {
   "cell_type": "code",
   "execution_count": null,
   "id": "7a1c249d",
   "metadata": {},
   "outputs": [],
   "source": []
  },
  {
   "cell_type": "code",
   "execution_count": null,
   "id": "802872f0",
   "metadata": {},
   "outputs": [],
   "source": [
    "a = './data/testfiles/test1-mobydick.txt'\n",
    "b = './data/testfiles/test2-warpeace.txt'\n",
    "c = './data/testfiles/test3-dickens.txt'\n",
    "insertFiles = [a,b,c]\n",
    "\n",
    "for file in insertFiles:\n",
    "    seqInsertStart = timeit.default_timer()\n",
    "    seqS.insertElement(file)\n",
    "    seqInsertEnd = timeit.default_timer()\n",
    "    seqInsertTime = seqInsertEnd - seqInsertStart\n",
    "    print(seqInsertTime)"
   ]
  },
  {
   "cell_type": "code",
   "execution_count": null,
   "id": "0eab3e67",
   "metadata": {},
   "outputs": [],
   "source": [
    "a = './data/testfiles/test1-mobydick.txt'\n",
    "b = './data/testfiles/test2-warpeace.txt'\n",
    "c = './data/testfiles/test3-dickens.txt'\n",
    "d = \"./data/testfiles/test-search.txt\"\n",
    "insertFiles = [a,b,c]\n",
    "for file in insertFiles:\n",
    "    seqS.insertElement(file)\n",
    "    SeqSearchStart = timeit.default_timer()\n",
    "    seqS.searchElement(d)\n",
    "    SeqSearchEnd = timeit.default_timer()\n",
    "    SeqSearchTime = SeqSearchEnd - SeqSearchStart\n",
    "    print(SeqSearchTime)"
   ]
  },
  {
   "cell_type": "code",
   "execution_count": null,
   "id": "ee49db02",
   "metadata": {},
   "outputs": [],
   "source": [
    "a = './data/testfiles/test1-mobydick.txt'\n",
    "b = './data/testfiles/test2-warpeace.txt'\n",
    "c = './data/testfiles/test3-dickens.txt'\n",
    "insertFiles = [a,b,c]\n",
    "\n",
    "for file in insertFiles:\n",
    "    BSTInsertStart = timeit.default_timer()\n",
    "    rbt.insertElement(file)\n",
    "    BSTInsertEnd = timeit.default_timer()\n",
    "    BSTInsertTime = BSTInsertEnd - BSTInsertStart\n",
    "    print(BSTInsertTime)\n"
   ]
  },
  {
   "cell_type": "code",
   "execution_count": null,
   "id": "e053e814",
   "metadata": {},
   "outputs": [],
   "source": [
    "def insert_file():\n",
    "    a = './data/testfiles/test1-mobydick.txt'\n",
    "    b = './data/testfiles/test2-warpeace.txt'\n",
    "    c = './data/testfiles/test3-dickens.txt'\n",
    "    insertFiles = [a,b,c]\n",
    "    for file in insertFiles:\n",
    "        BSTInsertStart = timeit.default_timer()\n",
    "        bst.insertElement(file)\n",
    "        BSTInsertEnd = timeit.default_timer()\n",
    "        BSTInsertTime = BSTInsertEnd - BSTInsertStart\n",
    "        print(BSTInsertTime)\n",
    "\n",
    "def insert_real_data_test(words, bst):\n",
    "    BSTInsertStart = timeit.default_timer() \n",
    "    for word in words:\n",
    "        bst.insertElement(word)\n",
    "    BSTInsertEnd = timeit.default_timer()\n",
    "    BSTInsertTime = BSTInsertEnd - BSTInsertStart\n",
    "    print(\"Insert time: \", BSTInsertTime)\n",
    "\n",
    "def search_words_in_set(words, bst):\n",
    "    BSTSearchStart = timeit.default_timer() \n",
    "    for word in words:\n",
    "        bst.searchElement(word)\n",
    "    BSTSearchEnd = timeit.default_timer()\n",
    "    BSTSearchTime = BSTSearchEnd - BSTSearchStart\n",
    "    print(\"Search time (word already in set): \", BSTSearchTime)\n",
    "\n",
    "\n",
    "def search_words(words, bst):\n",
    "    BSTSearchStart = timeit.default_timer() \n",
    "    for word in words:\n",
    "        bst.searchElement(word)\n",
    "    BSTSearchEnd = timeit.default_timer()\n",
    "    BSTSearchTime = BSTSearchEnd - BSTSearchStart\n",
    "    print(\"Search time (test-search words): \", BSTSearchTime)\n",
    "\n",
    "\n",
    "bst1 = BinarySearchTreeSet()\n",
    "bst2 = BinarySearchTreeSet()\n",
    "bst3 = BinarySearchTreeSet()\n",
    "\n",
    "insert_real_data_test(words, bst1)\n",
    "insert_real_data_test(words2, bst2)\n",
    "insert_real_data_test(words3, bst3)\n",
    "\n",
    "search_words_in_set(words, bst1)\n",
    "search_words_in_set(words2, bst2)\n",
    "search_words_in_set(words3, bst3)\n",
    "\n",
    "search_words(words, bst1)\n",
    "search_words(words2, bst2)\n",
    "search_words(words3, bst3)"
   ]
  },
  {
   "cell_type": "code",
   "execution_count": null,
   "id": "34b37f9f",
   "metadata": {},
   "outputs": [],
   "source": [
    "a = './data/testfiles/test1-mobydick.txt'\n",
    "b = './data/testfiles/test2-warpeace.txt'\n",
    "c = './data/testfiles/test3-dickens.txt'\n",
    "d = \"./data/testfiles/test-search.txt\"\n",
    "insertFiles = [a,b,c]\n",
    "\n",
    "for file in insertFiles:\n",
    "    rbt.insertElement(file)\n",
    "    BSTSearchStart = timeit.default_timer()\n",
    "    rbt.searchElement(d)\n",
    "    BSTSearchEnd = timeit.default_timer()\n",
    "    BSTSearchTime = BSTSearchEnd - BSTSearchStart\n",
    "    print(BSTSearchTime)"
   ]
  },
  {
   "cell_type": "code",
   "execution_count": null,
   "id": "192fc7d8",
   "metadata": {
    "collapsed": true
   },
   "outputs": [],
   "source": [
    "# 1st version\n",
    "\n",
    "class TestDataGenerator():\n",
    "\n",
    "    def __init__(self):\n",
    "            self.syntheticData = []\n",
    "            \n",
    "            pass           \n",
    "            \n",
    "    # sythetic data -- integers:\n",
    "    def generateNum(self, size):\n",
    "        for _ in range(size):\n",
    "            item = random.randrange(0,1000000)\n",
    "            self.syntheticData.append(item)\n",
    "        print(self.syntheticData) # delete when it's finished\n",
    "        return self.syntheticData   \n",
    "    \n",
    "    # sythetic data -- 4-letter string (randomly without real meanings):\n",
    "    def generateString(self,size):\n",
    "        letters = string.ascii_lowercase\n",
    "        for letter in letters:\n",
    "            for _ in range(size):\n",
    "                letter1 = ''.join(random.choice(letters))\n",
    "                letter2 = ''.join(random.choice(letters))\n",
    "                letter3 = ''.join(random.choice(letters))\n",
    "                stringGenerated = letter + letter1 + letter2 + letter3\n",
    "                self.syntheticData.append(stringGenerated)\n",
    "        print(self.syntheticData) # delete when it's finished\n",
    "        return self.syntheticData\n",
    "\n",
    "toGenerate = TestDataGenerator()\n",
    "toSearch = TestDataGenerator()\n",
    "\n",
    "toGenerate.generateString(1)\n",
    "toSearch.generateNum(10)"
   ]
  },
  {
   "cell_type": "code",
   "execution_count": null,
   "id": "9d0df878",
   "metadata": {},
   "outputs": [],
   "source": []
  },
  {
   "cell_type": "code",
   "execution_count": null,
   "id": "ee8af87f",
   "metadata": {},
   "outputs": [],
   "source": []
  },
  {
   "cell_type": "code",
   "execution_count": null,
   "id": "acfbe9a9",
   "metadata": {},
   "outputs": [],
   "source": []
  },
  {
   "cell_type": "code",
   "execution_count": null,
   "id": "46d16d4a",
   "metadata": {},
   "outputs": [],
   "source": []
  },
  {
   "cell_type": "code",
   "execution_count": null,
   "id": "a5657f62",
   "metadata": {},
   "outputs": [],
   "source": []
  }
 ],
 "metadata": {
  "kernelspec": {
   "display_name": "Python 3 (ipykernel)",
   "language": "python",
   "name": "python3"
  },
  "language_info": {
   "codemirror_mode": {
    "name": "ipython",
    "version": 3
   },
   "file_extension": ".py",
   "mimetype": "text/x-python",
   "name": "python",
   "nbconvert_exporter": "python",
   "pygments_lexer": "ipython3",
   "version": "3.10.4"
  }
 },
 "nbformat": 4,
 "nbformat_minor": 5
}
